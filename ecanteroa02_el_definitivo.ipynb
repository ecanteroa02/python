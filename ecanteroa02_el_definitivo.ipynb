{
  "cells": [
    {
      "cell_type": "markdown",
      "metadata": {
        "id": "view-in-github",
        "colab_type": "text"
      },
      "source": [
        "<a href=\"https://colab.research.google.com/github/ecanteroa02/python/blob/main/ecanteroa02_el_definitivo.ipynb\" target=\"_parent\"><img src=\"https://colab.research.google.com/assets/colab-badge.svg\" alt=\"Open In Colab\"/></a>"
      ]
    },
    {
      "cell_type": "markdown",
      "metadata": {
        "id": "mGjD4Xmx5D61"
      },
      "source": [
        "#1. Introducción"
      ]
    },
    {
      "cell_type": "code",
      "source": [
        "from google.colab import drive\n",
        "drive.mount('/content/drive')"
      ],
      "metadata": {
        "id": "wrBawkk1J0tU",
        "colab": {
          "base_uri": "https://localhost:8080/"
        },
        "outputId": "f6ed6b05-ed74-4dff-9343-307d6fa23949"
      },
      "execution_count": 1,
      "outputs": [
        {
          "output_type": "stream",
          "name": "stdout",
          "text": [
            "Drive already mounted at /content/drive; to attempt to forcibly remount, call drive.mount(\"/content/drive\", force_remount=True).\n"
          ]
        }
      ]
    },
    {
      "cell_type": "markdown",
      "metadata": {
        "id": "irFCgfw2uVji"
      },
      "source": [
        "Vamos a hacer un modelo de probabilidad de lluvia con dataframe llamado \"RainTomorrow\""
      ]
    },
    {
      "cell_type": "markdown",
      "metadata": {
        "id": "J7cRlpz95c7b"
      },
      "source": [
        "# 2. Importar librerías"
      ]
    },
    {
      "cell_type": "code",
      "execution_count": 2,
      "metadata": {
        "id": "B63DDNSHlFng"
      },
      "outputs": [],
      "source": [
        "import pandas as pd\n",
        "import numpy as np\n",
        "from sklearn.preprocessing import MinMaxScaler\n",
        "from sklearn.model_selection import train_test_split\n",
        "from sklearn.tree import plot_tree\n",
        "from sklearn.tree import export_graphviz\n",
        "from sklearn.tree import export_text\n",
        "from sklearn.model_selection import GridSearchCV\n",
        "from sklearn.metrics import confusion_matrix,classification_report,accuracy_score,roc_auc_score,roc_curve\n",
        "import matplotlib.pyplot as plt\n",
        "import math\n",
        "import seaborn as sns\n",
        "from sklearn.preprocessing import LabelEncoder, OneHotEncoder\n",
        "from sklearn.linear_model import LogisticRegression\n",
        "from sklearn.tree import DecisionTreeClassifier\n",
        "from sklearn.model_selection import train_test_split"
      ]
    },
    {
      "cell_type": "markdown",
      "metadata": {
        "id": "8kkGFhhU5jiD"
      },
      "source": [
        "# 3. Importar conjunto de datos"
      ]
    },
    {
      "cell_type": "code",
      "execution_count": 3,
      "metadata": {
        "id": "tS1SJypdumT8"
      },
      "outputs": [],
      "source": [
        "df = pd.read_csv('/content/drive/MyDrive/examen_2.csv')"
      ]
    },
    {
      "cell_type": "markdown",
      "metadata": {
        "id": "r_Q57GVLu6E0"
      },
      "source": [
        "# 4. Análisis exploratorio de datos"
      ]
    },
    {
      "cell_type": "markdown",
      "metadata": {
        "id": "8anFeaygu7M6"
      },
      "source": [
        "*   Ver dimensiones del conjunto de datos\n",
        "*   Previsualización del conjunto de datos\n",
        "\n",
        "*   Ver propiedades estadísticas del conjunto de datos"
      ]
    },
    {
      "cell_type": "code",
      "execution_count": 4,
      "metadata": {
        "id": "ShVqkR3Pvykm",
        "colab": {
          "base_uri": "https://localhost:8080/"
        },
        "outputId": "fc1ad3d1-6a43-47c8-ee86-1fdcf7cd0ba9"
      },
      "outputs": [
        {
          "output_type": "execute_result",
          "data": {
            "text/plain": [
              "(14546, 22)"
            ]
          },
          "metadata": {},
          "execution_count": 4
        }
      ],
      "source": [
        "df.shape"
      ]
    },
    {
      "cell_type": "code",
      "execution_count": 5,
      "metadata": {
        "id": "03QKbqctldrH",
        "colab": {
          "base_uri": "https://localhost:8080/",
          "height": 317
        },
        "outputId": "1d4c1959-c29a-455d-c9b2-a8b9e4bcfea2"
      },
      "outputs": [
        {
          "output_type": "execute_result",
          "data": {
            "text/plain": [
              "   Unnamed: 0  MinTemp  MaxTemp  Rainfall  Evaporation  Sunshine WindGustDir  \\\n",
              "0           0     16.6     30.5      16.2          NaN       NaN          NE   \n",
              "1           1      3.5     21.2       0.0          NaN       NaN           N   \n",
              "2           2      9.1     13.8       0.0          1.6       NaN          NE   \n",
              "3           3      6.5     11.2       4.8          NaN       NaN           W   \n",
              "4           4     25.1     33.1       0.2          8.6       3.3         SSE   \n",
              "\n",
              "   WindGustSpeed WindDir9am WindDir3pm  ...  Humidity9am  Humidity3pm  \\\n",
              "0           31.0          E         NE  ...         73.0         45.0   \n",
              "1           74.0          N         NW  ...         68.0         43.0   \n",
              "2           43.0        NNE          N  ...         56.0         50.0   \n",
              "3           52.0          W        WSW  ...         99.0         95.0   \n",
              "4           46.0        SSE        ESE  ...         66.0         53.0   \n",
              "\n",
              "   Pressure9am  Pressure3pm  Cloud9am  Cloud3pm  Temp9am  Temp3pm  RainToday  \\\n",
              "0          NaN          NaN       NaN       NaN     20.3     29.4        Yes   \n",
              "1          NaN          NaN       NaN       NaN     12.0     15.1         No   \n",
              "2       1017.9       1012.3       NaN       NaN     10.6     13.6         No   \n",
              "3       1010.4       1012.6       8.0       8.0      8.5     10.8        Yes   \n",
              "4       1011.5       1008.8       7.0       7.0     29.5     32.0         No   \n",
              "\n",
              "   RainTomorrow  \n",
              "0            No  \n",
              "1            No  \n",
              "2           Yes  \n",
              "3           Yes  \n",
              "4           Yes  \n",
              "\n",
              "[5 rows x 22 columns]"
            ],
            "text/html": [
              "\n",
              "  <div id=\"df-d374b048-004c-45ef-9687-2d10a897d5fb\">\n",
              "    <div class=\"colab-df-container\">\n",
              "      <div>\n",
              "<style scoped>\n",
              "    .dataframe tbody tr th:only-of-type {\n",
              "        vertical-align: middle;\n",
              "    }\n",
              "\n",
              "    .dataframe tbody tr th {\n",
              "        vertical-align: top;\n",
              "    }\n",
              "\n",
              "    .dataframe thead th {\n",
              "        text-align: right;\n",
              "    }\n",
              "</style>\n",
              "<table border=\"1\" class=\"dataframe\">\n",
              "  <thead>\n",
              "    <tr style=\"text-align: right;\">\n",
              "      <th></th>\n",
              "      <th>Unnamed: 0</th>\n",
              "      <th>MinTemp</th>\n",
              "      <th>MaxTemp</th>\n",
              "      <th>Rainfall</th>\n",
              "      <th>Evaporation</th>\n",
              "      <th>Sunshine</th>\n",
              "      <th>WindGustDir</th>\n",
              "      <th>WindGustSpeed</th>\n",
              "      <th>WindDir9am</th>\n",
              "      <th>WindDir3pm</th>\n",
              "      <th>...</th>\n",
              "      <th>Humidity9am</th>\n",
              "      <th>Humidity3pm</th>\n",
              "      <th>Pressure9am</th>\n",
              "      <th>Pressure3pm</th>\n",
              "      <th>Cloud9am</th>\n",
              "      <th>Cloud3pm</th>\n",
              "      <th>Temp9am</th>\n",
              "      <th>Temp3pm</th>\n",
              "      <th>RainToday</th>\n",
              "      <th>RainTomorrow</th>\n",
              "    </tr>\n",
              "  </thead>\n",
              "  <tbody>\n",
              "    <tr>\n",
              "      <th>0</th>\n",
              "      <td>0</td>\n",
              "      <td>16.6</td>\n",
              "      <td>30.5</td>\n",
              "      <td>16.2</td>\n",
              "      <td>NaN</td>\n",
              "      <td>NaN</td>\n",
              "      <td>NE</td>\n",
              "      <td>31.0</td>\n",
              "      <td>E</td>\n",
              "      <td>NE</td>\n",
              "      <td>...</td>\n",
              "      <td>73.0</td>\n",
              "      <td>45.0</td>\n",
              "      <td>NaN</td>\n",
              "      <td>NaN</td>\n",
              "      <td>NaN</td>\n",
              "      <td>NaN</td>\n",
              "      <td>20.3</td>\n",
              "      <td>29.4</td>\n",
              "      <td>Yes</td>\n",
              "      <td>No</td>\n",
              "    </tr>\n",
              "    <tr>\n",
              "      <th>1</th>\n",
              "      <td>1</td>\n",
              "      <td>3.5</td>\n",
              "      <td>21.2</td>\n",
              "      <td>0.0</td>\n",
              "      <td>NaN</td>\n",
              "      <td>NaN</td>\n",
              "      <td>N</td>\n",
              "      <td>74.0</td>\n",
              "      <td>N</td>\n",
              "      <td>NW</td>\n",
              "      <td>...</td>\n",
              "      <td>68.0</td>\n",
              "      <td>43.0</td>\n",
              "      <td>NaN</td>\n",
              "      <td>NaN</td>\n",
              "      <td>NaN</td>\n",
              "      <td>NaN</td>\n",
              "      <td>12.0</td>\n",
              "      <td>15.1</td>\n",
              "      <td>No</td>\n",
              "      <td>No</td>\n",
              "    </tr>\n",
              "    <tr>\n",
              "      <th>2</th>\n",
              "      <td>2</td>\n",
              "      <td>9.1</td>\n",
              "      <td>13.8</td>\n",
              "      <td>0.0</td>\n",
              "      <td>1.6</td>\n",
              "      <td>NaN</td>\n",
              "      <td>NE</td>\n",
              "      <td>43.0</td>\n",
              "      <td>NNE</td>\n",
              "      <td>N</td>\n",
              "      <td>...</td>\n",
              "      <td>56.0</td>\n",
              "      <td>50.0</td>\n",
              "      <td>1017.9</td>\n",
              "      <td>1012.3</td>\n",
              "      <td>NaN</td>\n",
              "      <td>NaN</td>\n",
              "      <td>10.6</td>\n",
              "      <td>13.6</td>\n",
              "      <td>No</td>\n",
              "      <td>Yes</td>\n",
              "    </tr>\n",
              "    <tr>\n",
              "      <th>3</th>\n",
              "      <td>3</td>\n",
              "      <td>6.5</td>\n",
              "      <td>11.2</td>\n",
              "      <td>4.8</td>\n",
              "      <td>NaN</td>\n",
              "      <td>NaN</td>\n",
              "      <td>W</td>\n",
              "      <td>52.0</td>\n",
              "      <td>W</td>\n",
              "      <td>WSW</td>\n",
              "      <td>...</td>\n",
              "      <td>99.0</td>\n",
              "      <td>95.0</td>\n",
              "      <td>1010.4</td>\n",
              "      <td>1012.6</td>\n",
              "      <td>8.0</td>\n",
              "      <td>8.0</td>\n",
              "      <td>8.5</td>\n",
              "      <td>10.8</td>\n",
              "      <td>Yes</td>\n",
              "      <td>Yes</td>\n",
              "    </tr>\n",
              "    <tr>\n",
              "      <th>4</th>\n",
              "      <td>4</td>\n",
              "      <td>25.1</td>\n",
              "      <td>33.1</td>\n",
              "      <td>0.2</td>\n",
              "      <td>8.6</td>\n",
              "      <td>3.3</td>\n",
              "      <td>SSE</td>\n",
              "      <td>46.0</td>\n",
              "      <td>SSE</td>\n",
              "      <td>ESE</td>\n",
              "      <td>...</td>\n",
              "      <td>66.0</td>\n",
              "      <td>53.0</td>\n",
              "      <td>1011.5</td>\n",
              "      <td>1008.8</td>\n",
              "      <td>7.0</td>\n",
              "      <td>7.0</td>\n",
              "      <td>29.5</td>\n",
              "      <td>32.0</td>\n",
              "      <td>No</td>\n",
              "      <td>Yes</td>\n",
              "    </tr>\n",
              "  </tbody>\n",
              "</table>\n",
              "<p>5 rows × 22 columns</p>\n",
              "</div>\n",
              "      <button class=\"colab-df-convert\" onclick=\"convertToInteractive('df-d374b048-004c-45ef-9687-2d10a897d5fb')\"\n",
              "              title=\"Convert this dataframe to an interactive table.\"\n",
              "              style=\"display:none;\">\n",
              "        \n",
              "  <svg xmlns=\"http://www.w3.org/2000/svg\" height=\"24px\"viewBox=\"0 0 24 24\"\n",
              "       width=\"24px\">\n",
              "    <path d=\"M0 0h24v24H0V0z\" fill=\"none\"/>\n",
              "    <path d=\"M18.56 5.44l.94 2.06.94-2.06 2.06-.94-2.06-.94-.94-2.06-.94 2.06-2.06.94zm-11 1L8.5 8.5l.94-2.06 2.06-.94-2.06-.94L8.5 2.5l-.94 2.06-2.06.94zm10 10l.94 2.06.94-2.06 2.06-.94-2.06-.94-.94-2.06-.94 2.06-2.06.94z\"/><path d=\"M17.41 7.96l-1.37-1.37c-.4-.4-.92-.59-1.43-.59-.52 0-1.04.2-1.43.59L10.3 9.45l-7.72 7.72c-.78.78-.78 2.05 0 2.83L4 21.41c.39.39.9.59 1.41.59.51 0 1.02-.2 1.41-.59l7.78-7.78 2.81-2.81c.8-.78.8-2.07 0-2.86zM5.41 20L4 18.59l7.72-7.72 1.47 1.35L5.41 20z\"/>\n",
              "  </svg>\n",
              "      </button>\n",
              "      \n",
              "  <style>\n",
              "    .colab-df-container {\n",
              "      display:flex;\n",
              "      flex-wrap:wrap;\n",
              "      gap: 12px;\n",
              "    }\n",
              "\n",
              "    .colab-df-convert {\n",
              "      background-color: #E8F0FE;\n",
              "      border: none;\n",
              "      border-radius: 50%;\n",
              "      cursor: pointer;\n",
              "      display: none;\n",
              "      fill: #1967D2;\n",
              "      height: 32px;\n",
              "      padding: 0 0 0 0;\n",
              "      width: 32px;\n",
              "    }\n",
              "\n",
              "    .colab-df-convert:hover {\n",
              "      background-color: #E2EBFA;\n",
              "      box-shadow: 0px 1px 2px rgba(60, 64, 67, 0.3), 0px 1px 3px 1px rgba(60, 64, 67, 0.15);\n",
              "      fill: #174EA6;\n",
              "    }\n",
              "\n",
              "    [theme=dark] .colab-df-convert {\n",
              "      background-color: #3B4455;\n",
              "      fill: #D2E3FC;\n",
              "    }\n",
              "\n",
              "    [theme=dark] .colab-df-convert:hover {\n",
              "      background-color: #434B5C;\n",
              "      box-shadow: 0px 1px 3px 1px rgba(0, 0, 0, 0.15);\n",
              "      filter: drop-shadow(0px 1px 2px rgba(0, 0, 0, 0.3));\n",
              "      fill: #FFFFFF;\n",
              "    }\n",
              "  </style>\n",
              "\n",
              "      <script>\n",
              "        const buttonEl =\n",
              "          document.querySelector('#df-d374b048-004c-45ef-9687-2d10a897d5fb button.colab-df-convert');\n",
              "        buttonEl.style.display =\n",
              "          google.colab.kernel.accessAllowed ? 'block' : 'none';\n",
              "\n",
              "        async function convertToInteractive(key) {\n",
              "          const element = document.querySelector('#df-d374b048-004c-45ef-9687-2d10a897d5fb');\n",
              "          const dataTable =\n",
              "            await google.colab.kernel.invokeFunction('convertToInteractive',\n",
              "                                                     [key], {});\n",
              "          if (!dataTable) return;\n",
              "\n",
              "          const docLinkHtml = 'Like what you see? Visit the ' +\n",
              "            '<a target=\"_blank\" href=https://colab.research.google.com/notebooks/data_table.ipynb>data table notebook</a>'\n",
              "            + ' to learn more about interactive tables.';\n",
              "          element.innerHTML = '';\n",
              "          dataTable['output_type'] = 'display_data';\n",
              "          await google.colab.output.renderOutput(dataTable, element);\n",
              "          const docLink = document.createElement('div');\n",
              "          docLink.innerHTML = docLinkHtml;\n",
              "          element.appendChild(docLink);\n",
              "        }\n",
              "      </script>\n",
              "    </div>\n",
              "  </div>\n",
              "  "
            ]
          },
          "metadata": {},
          "execution_count": 5
        }
      ],
      "source": [
        "df.head()"
      ]
    },
    {
      "cell_type": "code",
      "execution_count": 6,
      "metadata": {
        "id": "dMsOeKS-wMz4",
        "colab": {
          "base_uri": "https://localhost:8080/"
        },
        "outputId": "18efb083-d055-495b-d96e-8621c2326ed1"
      },
      "outputs": [
        {
          "output_type": "execute_result",
          "data": {
            "text/plain": [
              "Unnamed: 0         int64\n",
              "MinTemp          float64\n",
              "MaxTemp          float64\n",
              "Rainfall         float64\n",
              "Evaporation      float64\n",
              "Sunshine         float64\n",
              "WindGustDir       object\n",
              "WindGustSpeed    float64\n",
              "WindDir9am        object\n",
              "WindDir3pm        object\n",
              "WindSpeed9am     float64\n",
              "WindSpeed3pm     float64\n",
              "Humidity9am      float64\n",
              "Humidity3pm      float64\n",
              "Pressure9am      float64\n",
              "Pressure3pm      float64\n",
              "Cloud9am         float64\n",
              "Cloud3pm         float64\n",
              "Temp9am          float64\n",
              "Temp3pm          float64\n",
              "RainToday         object\n",
              "RainTomorrow      object\n",
              "dtype: object"
            ]
          },
          "metadata": {},
          "execution_count": 6
        }
      ],
      "source": [
        "df.dtypes"
      ]
    },
    {
      "cell_type": "code",
      "execution_count": 7,
      "metadata": {
        "id": "xy-Bs1FC4mZ8",
        "colab": {
          "base_uri": "https://localhost:8080/",
          "height": 364
        },
        "outputId": "1fec382d-a56d-42db-903a-e48916d28259"
      },
      "outputs": [
        {
          "output_type": "execute_result",
          "data": {
            "text/plain": [
              "         Unnamed: 0       MinTemp       MaxTemp      Rainfall  Evaporation  \\\n",
              "count  14546.000000  14417.000000  14426.000000  14227.000000  8273.000000   \n",
              "mean    7272.500000     12.261622     23.279703      2.378695     5.497317   \n",
              "std     4199.212843      6.427091      7.163605      8.217734     4.051951   \n",
              "min        0.000000     -7.600000     -3.200000      0.000000     0.000000   \n",
              "25%     3636.250000      7.600000     17.900000      0.000000     2.600000   \n",
              "50%     7272.500000     12.100000     22.800000      0.000000     4.800000   \n",
              "75%    10908.750000     17.000000     28.400000      0.800000     7.400000   \n",
              "max    14545.000000     29.800000     46.400000    216.300000    82.400000   \n",
              "\n",
              "          Sunshine  WindGustSpeed  WindSpeed9am  WindSpeed3pm   Humidity9am  \\\n",
              "count  7584.000000   13512.000000  14376.000000  14243.000000  14295.000000   \n",
              "mean      7.626951      40.093028     14.053353     18.591097     68.560126   \n",
              "std       3.790713      13.588919      8.939394      8.871940     19.129836   \n",
              "min       0.000000       7.000000      0.000000      0.000000      1.000000   \n",
              "25%       4.900000      31.000000      7.000000     13.000000     57.000000   \n",
              "50%       8.500000      39.000000     13.000000     19.000000     69.000000   \n",
              "75%      10.700000      48.000000     19.000000     24.000000     83.000000   \n",
              "max      14.500000     120.000000     65.000000     76.000000    100.000000   \n",
              "\n",
              "        Humidity3pm   Pressure9am   Pressure3pm     Cloud9am     Cloud3pm  \\\n",
              "count  14137.000000  13021.000000  13024.000000  9051.000000  8709.000000   \n",
              "mean      51.398882   1017.498932   1015.141460     4.433101     4.490297   \n",
              "std       20.876594      7.153874      7.035546     2.890530     2.720447   \n",
              "min        1.000000    982.900000    981.200000     0.000000     0.000000   \n",
              "25%       37.000000   1012.800000   1010.300000     1.000000     2.000000   \n",
              "50%       52.000000   1017.500000   1015.100000     5.000000     5.000000   \n",
              "75%       66.000000   1022.300000   1019.900000     7.000000     7.000000   \n",
              "max      100.000000   1039.900000   1037.000000     8.000000     8.000000   \n",
              "\n",
              "            Temp9am       Temp3pm  \n",
              "count  14384.000000  14220.000000  \n",
              "mean      17.051592     21.747743  \n",
              "std        6.520984      6.982979  \n",
              "min       -5.600000     -3.900000  \n",
              "25%       12.300000     16.600000  \n",
              "50%       16.700000     21.300000  \n",
              "75%       21.700000     26.600000  \n",
              "max       38.200000     44.000000  "
            ],
            "text/html": [
              "\n",
              "  <div id=\"df-548214f4-a0c7-4dec-9329-80b2f0e5c623\">\n",
              "    <div class=\"colab-df-container\">\n",
              "      <div>\n",
              "<style scoped>\n",
              "    .dataframe tbody tr th:only-of-type {\n",
              "        vertical-align: middle;\n",
              "    }\n",
              "\n",
              "    .dataframe tbody tr th {\n",
              "        vertical-align: top;\n",
              "    }\n",
              "\n",
              "    .dataframe thead th {\n",
              "        text-align: right;\n",
              "    }\n",
              "</style>\n",
              "<table border=\"1\" class=\"dataframe\">\n",
              "  <thead>\n",
              "    <tr style=\"text-align: right;\">\n",
              "      <th></th>\n",
              "      <th>Unnamed: 0</th>\n",
              "      <th>MinTemp</th>\n",
              "      <th>MaxTemp</th>\n",
              "      <th>Rainfall</th>\n",
              "      <th>Evaporation</th>\n",
              "      <th>Sunshine</th>\n",
              "      <th>WindGustSpeed</th>\n",
              "      <th>WindSpeed9am</th>\n",
              "      <th>WindSpeed3pm</th>\n",
              "      <th>Humidity9am</th>\n",
              "      <th>Humidity3pm</th>\n",
              "      <th>Pressure9am</th>\n",
              "      <th>Pressure3pm</th>\n",
              "      <th>Cloud9am</th>\n",
              "      <th>Cloud3pm</th>\n",
              "      <th>Temp9am</th>\n",
              "      <th>Temp3pm</th>\n",
              "    </tr>\n",
              "  </thead>\n",
              "  <tbody>\n",
              "    <tr>\n",
              "      <th>count</th>\n",
              "      <td>14546.000000</td>\n",
              "      <td>14417.000000</td>\n",
              "      <td>14426.000000</td>\n",
              "      <td>14227.000000</td>\n",
              "      <td>8273.000000</td>\n",
              "      <td>7584.000000</td>\n",
              "      <td>13512.000000</td>\n",
              "      <td>14376.000000</td>\n",
              "      <td>14243.000000</td>\n",
              "      <td>14295.000000</td>\n",
              "      <td>14137.000000</td>\n",
              "      <td>13021.000000</td>\n",
              "      <td>13024.000000</td>\n",
              "      <td>9051.000000</td>\n",
              "      <td>8709.000000</td>\n",
              "      <td>14384.000000</td>\n",
              "      <td>14220.000000</td>\n",
              "    </tr>\n",
              "    <tr>\n",
              "      <th>mean</th>\n",
              "      <td>7272.500000</td>\n",
              "      <td>12.261622</td>\n",
              "      <td>23.279703</td>\n",
              "      <td>2.378695</td>\n",
              "      <td>5.497317</td>\n",
              "      <td>7.626951</td>\n",
              "      <td>40.093028</td>\n",
              "      <td>14.053353</td>\n",
              "      <td>18.591097</td>\n",
              "      <td>68.560126</td>\n",
              "      <td>51.398882</td>\n",
              "      <td>1017.498932</td>\n",
              "      <td>1015.141460</td>\n",
              "      <td>4.433101</td>\n",
              "      <td>4.490297</td>\n",
              "      <td>17.051592</td>\n",
              "      <td>21.747743</td>\n",
              "    </tr>\n",
              "    <tr>\n",
              "      <th>std</th>\n",
              "      <td>4199.212843</td>\n",
              "      <td>6.427091</td>\n",
              "      <td>7.163605</td>\n",
              "      <td>8.217734</td>\n",
              "      <td>4.051951</td>\n",
              "      <td>3.790713</td>\n",
              "      <td>13.588919</td>\n",
              "      <td>8.939394</td>\n",
              "      <td>8.871940</td>\n",
              "      <td>19.129836</td>\n",
              "      <td>20.876594</td>\n",
              "      <td>7.153874</td>\n",
              "      <td>7.035546</td>\n",
              "      <td>2.890530</td>\n",
              "      <td>2.720447</td>\n",
              "      <td>6.520984</td>\n",
              "      <td>6.982979</td>\n",
              "    </tr>\n",
              "    <tr>\n",
              "      <th>min</th>\n",
              "      <td>0.000000</td>\n",
              "      <td>-7.600000</td>\n",
              "      <td>-3.200000</td>\n",
              "      <td>0.000000</td>\n",
              "      <td>0.000000</td>\n",
              "      <td>0.000000</td>\n",
              "      <td>7.000000</td>\n",
              "      <td>0.000000</td>\n",
              "      <td>0.000000</td>\n",
              "      <td>1.000000</td>\n",
              "      <td>1.000000</td>\n",
              "      <td>982.900000</td>\n",
              "      <td>981.200000</td>\n",
              "      <td>0.000000</td>\n",
              "      <td>0.000000</td>\n",
              "      <td>-5.600000</td>\n",
              "      <td>-3.900000</td>\n",
              "    </tr>\n",
              "    <tr>\n",
              "      <th>25%</th>\n",
              "      <td>3636.250000</td>\n",
              "      <td>7.600000</td>\n",
              "      <td>17.900000</td>\n",
              "      <td>0.000000</td>\n",
              "      <td>2.600000</td>\n",
              "      <td>4.900000</td>\n",
              "      <td>31.000000</td>\n",
              "      <td>7.000000</td>\n",
              "      <td>13.000000</td>\n",
              "      <td>57.000000</td>\n",
              "      <td>37.000000</td>\n",
              "      <td>1012.800000</td>\n",
              "      <td>1010.300000</td>\n",
              "      <td>1.000000</td>\n",
              "      <td>2.000000</td>\n",
              "      <td>12.300000</td>\n",
              "      <td>16.600000</td>\n",
              "    </tr>\n",
              "    <tr>\n",
              "      <th>50%</th>\n",
              "      <td>7272.500000</td>\n",
              "      <td>12.100000</td>\n",
              "      <td>22.800000</td>\n",
              "      <td>0.000000</td>\n",
              "      <td>4.800000</td>\n",
              "      <td>8.500000</td>\n",
              "      <td>39.000000</td>\n",
              "      <td>13.000000</td>\n",
              "      <td>19.000000</td>\n",
              "      <td>69.000000</td>\n",
              "      <td>52.000000</td>\n",
              "      <td>1017.500000</td>\n",
              "      <td>1015.100000</td>\n",
              "      <td>5.000000</td>\n",
              "      <td>5.000000</td>\n",
              "      <td>16.700000</td>\n",
              "      <td>21.300000</td>\n",
              "    </tr>\n",
              "    <tr>\n",
              "      <th>75%</th>\n",
              "      <td>10908.750000</td>\n",
              "      <td>17.000000</td>\n",
              "      <td>28.400000</td>\n",
              "      <td>0.800000</td>\n",
              "      <td>7.400000</td>\n",
              "      <td>10.700000</td>\n",
              "      <td>48.000000</td>\n",
              "      <td>19.000000</td>\n",
              "      <td>24.000000</td>\n",
              "      <td>83.000000</td>\n",
              "      <td>66.000000</td>\n",
              "      <td>1022.300000</td>\n",
              "      <td>1019.900000</td>\n",
              "      <td>7.000000</td>\n",
              "      <td>7.000000</td>\n",
              "      <td>21.700000</td>\n",
              "      <td>26.600000</td>\n",
              "    </tr>\n",
              "    <tr>\n",
              "      <th>max</th>\n",
              "      <td>14545.000000</td>\n",
              "      <td>29.800000</td>\n",
              "      <td>46.400000</td>\n",
              "      <td>216.300000</td>\n",
              "      <td>82.400000</td>\n",
              "      <td>14.500000</td>\n",
              "      <td>120.000000</td>\n",
              "      <td>65.000000</td>\n",
              "      <td>76.000000</td>\n",
              "      <td>100.000000</td>\n",
              "      <td>100.000000</td>\n",
              "      <td>1039.900000</td>\n",
              "      <td>1037.000000</td>\n",
              "      <td>8.000000</td>\n",
              "      <td>8.000000</td>\n",
              "      <td>38.200000</td>\n",
              "      <td>44.000000</td>\n",
              "    </tr>\n",
              "  </tbody>\n",
              "</table>\n",
              "</div>\n",
              "      <button class=\"colab-df-convert\" onclick=\"convertToInteractive('df-548214f4-a0c7-4dec-9329-80b2f0e5c623')\"\n",
              "              title=\"Convert this dataframe to an interactive table.\"\n",
              "              style=\"display:none;\">\n",
              "        \n",
              "  <svg xmlns=\"http://www.w3.org/2000/svg\" height=\"24px\"viewBox=\"0 0 24 24\"\n",
              "       width=\"24px\">\n",
              "    <path d=\"M0 0h24v24H0V0z\" fill=\"none\"/>\n",
              "    <path d=\"M18.56 5.44l.94 2.06.94-2.06 2.06-.94-2.06-.94-.94-2.06-.94 2.06-2.06.94zm-11 1L8.5 8.5l.94-2.06 2.06-.94-2.06-.94L8.5 2.5l-.94 2.06-2.06.94zm10 10l.94 2.06.94-2.06 2.06-.94-2.06-.94-.94-2.06-.94 2.06-2.06.94z\"/><path d=\"M17.41 7.96l-1.37-1.37c-.4-.4-.92-.59-1.43-.59-.52 0-1.04.2-1.43.59L10.3 9.45l-7.72 7.72c-.78.78-.78 2.05 0 2.83L4 21.41c.39.39.9.59 1.41.59.51 0 1.02-.2 1.41-.59l7.78-7.78 2.81-2.81c.8-.78.8-2.07 0-2.86zM5.41 20L4 18.59l7.72-7.72 1.47 1.35L5.41 20z\"/>\n",
              "  </svg>\n",
              "      </button>\n",
              "      \n",
              "  <style>\n",
              "    .colab-df-container {\n",
              "      display:flex;\n",
              "      flex-wrap:wrap;\n",
              "      gap: 12px;\n",
              "    }\n",
              "\n",
              "    .colab-df-convert {\n",
              "      background-color: #E8F0FE;\n",
              "      border: none;\n",
              "      border-radius: 50%;\n",
              "      cursor: pointer;\n",
              "      display: none;\n",
              "      fill: #1967D2;\n",
              "      height: 32px;\n",
              "      padding: 0 0 0 0;\n",
              "      width: 32px;\n",
              "    }\n",
              "\n",
              "    .colab-df-convert:hover {\n",
              "      background-color: #E2EBFA;\n",
              "      box-shadow: 0px 1px 2px rgba(60, 64, 67, 0.3), 0px 1px 3px 1px rgba(60, 64, 67, 0.15);\n",
              "      fill: #174EA6;\n",
              "    }\n",
              "\n",
              "    [theme=dark] .colab-df-convert {\n",
              "      background-color: #3B4455;\n",
              "      fill: #D2E3FC;\n",
              "    }\n",
              "\n",
              "    [theme=dark] .colab-df-convert:hover {\n",
              "      background-color: #434B5C;\n",
              "      box-shadow: 0px 1px 3px 1px rgba(0, 0, 0, 0.15);\n",
              "      filter: drop-shadow(0px 1px 2px rgba(0, 0, 0, 0.3));\n",
              "      fill: #FFFFFF;\n",
              "    }\n",
              "  </style>\n",
              "\n",
              "      <script>\n",
              "        const buttonEl =\n",
              "          document.querySelector('#df-548214f4-a0c7-4dec-9329-80b2f0e5c623 button.colab-df-convert');\n",
              "        buttonEl.style.display =\n",
              "          google.colab.kernel.accessAllowed ? 'block' : 'none';\n",
              "\n",
              "        async function convertToInteractive(key) {\n",
              "          const element = document.querySelector('#df-548214f4-a0c7-4dec-9329-80b2f0e5c623');\n",
              "          const dataTable =\n",
              "            await google.colab.kernel.invokeFunction('convertToInteractive',\n",
              "                                                     [key], {});\n",
              "          if (!dataTable) return;\n",
              "\n",
              "          const docLinkHtml = 'Like what you see? Visit the ' +\n",
              "            '<a target=\"_blank\" href=https://colab.research.google.com/notebooks/data_table.ipynb>data table notebook</a>'\n",
              "            + ' to learn more about interactive tables.';\n",
              "          element.innerHTML = '';\n",
              "          dataTable['output_type'] = 'display_data';\n",
              "          await google.colab.output.renderOutput(dataTable, element);\n",
              "          const docLink = document.createElement('div');\n",
              "          docLink.innerHTML = docLinkHtml;\n",
              "          element.appendChild(docLink);\n",
              "        }\n",
              "      </script>\n",
              "    </div>\n",
              "  </div>\n",
              "  "
            ]
          },
          "metadata": {},
          "execution_count": 7
        }
      ],
      "source": [
        "df.describe()"
      ]
    },
    {
      "cell_type": "code",
      "execution_count": 8,
      "metadata": {
        "id": "ZPqq6CS9xTER",
        "colab": {
          "base_uri": "https://localhost:8080/"
        },
        "outputId": "e439b932-e2a1-4700-9cf4-885e5c04db71"
      },
      "outputs": [
        {
          "output_type": "execute_result",
          "data": {
            "text/plain": [
              "Unnamed: 0          0\n",
              "MinTemp           129\n",
              "MaxTemp           120\n",
              "Rainfall          319\n",
              "Evaporation      6273\n",
              "Sunshine         6962\n",
              "WindGustDir      1038\n",
              "WindGustSpeed    1034\n",
              "WindDir9am       1015\n",
              "WindDir3pm        445\n",
              "WindSpeed9am      170\n",
              "WindSpeed3pm      303\n",
              "Humidity9am       251\n",
              "Humidity3pm       409\n",
              "Pressure9am      1525\n",
              "Pressure3pm      1522\n",
              "Cloud9am         5495\n",
              "Cloud3pm         5837\n",
              "Temp9am           162\n",
              "Temp3pm           326\n",
              "RainToday         319\n",
              "RainTomorrow      319\n",
              "dtype: int64"
            ]
          },
          "metadata": {},
          "execution_count": 8
        }
      ],
      "source": [
        "df.isna().sum()"
      ]
    },
    {
      "cell_type": "code",
      "execution_count": 9,
      "metadata": {
        "id": "eQGkqBJTxYKp",
        "colab": {
          "base_uri": "https://localhost:8080/",
          "height": 358
        },
        "outputId": "5362fc7e-1af6-4210-95e7-d19fc477dab0"
      },
      "outputs": [
        {
          "output_type": "execute_result",
          "data": {
            "text/plain": [
              "<AxesSubplot:>"
            ]
          },
          "metadata": {},
          "execution_count": 9
        },
        {
          "output_type": "display_data",
          "data": {
            "text/plain": [
              "<Figure size 432x288 with 2 Axes>"
            ],
            "image/png": "[encoded data removed]"
          },
          "metadata": {
            "needs_background": "light"
          }
        }
      ],
      "source": [
        "sns.heatmap(df.isnull())"
      ]
    },
    {
      "cell_type": "code",
      "source": [
        "ddf = df.drop('Unnamed: 0', axis=1)"
      ],
      "metadata": {
        "id": "lnsuYSObKvLk"
      },
      "execution_count": 10,
      "outputs": []
    },
    {
      "cell_type": "code",
      "execution_count": 11,
      "metadata": {
        "id": "Diaq7L9axcnK",
        "colab": {
          "base_uri": "https://localhost:8080/",
          "height": 487
        },
        "outputId": "588843a3-ff2b-4f85-e58e-5139dc06df85"
      },
      "outputs": [
        {
          "output_type": "execute_result",
          "data": {
            "text/plain": [
              "       MinTemp  MaxTemp  Rainfall  Evaporation  Sunshine WindGustDir  \\\n",
              "4         25.1     33.1       0.2          8.6       3.3         SSE   \n",
              "8         17.5     28.6       0.0          6.4      10.7           E   \n",
              "10         5.3     12.8       3.8          0.4       5.6          SW   \n",
              "12        12.4     34.5       0.0          8.2      13.0          SW   \n",
              "14        15.8     29.1       0.0         11.6      11.7          NE   \n",
              "...        ...      ...       ...          ...       ...         ...   \n",
              "14536     15.6     24.5       0.0          0.4       9.5         WNW   \n",
              "14537     21.6     29.9       0.0          7.2       4.9         SSW   \n",
              "14538      4.2      9.8      11.8          3.2       7.6           W   \n",
              "14539     16.4     26.6       0.0          5.4      10.8         ENE   \n",
              "14543     23.9     33.0       2.8          2.0       6.7           S   \n",
              "\n",
              "       WindGustSpeed WindDir9am WindDir3pm  WindSpeed9am  ...  Humidity9am  \\\n",
              "4               46.0        SSE        ESE          17.0  ...         66.0   \n",
              "8               39.0         SE        ENE          17.0  ...         48.0   \n",
              "10              56.0        SSW        SSW          15.0  ...         64.0   \n",
              "12              44.0        SSW         SW          13.0  ...         44.0   \n",
              "14              39.0         SE        ENE          11.0  ...         39.0   \n",
              "...              ...        ...        ...           ...  ...          ...   \n",
              "14536           41.0        WSW          W          17.0  ...         90.0   \n",
              "14537           48.0        WNW          S           9.0  ...         82.0   \n",
              "14538           69.0        SSW          S          33.0  ...         76.0   \n",
              "14539           19.0        SSW        ENE           6.0  ...         66.0   \n",
              "14543           54.0          W          W          19.0  ...         77.0   \n",
              "\n",
              "       Humidity3pm  Pressure9am  Pressure3pm  Cloud9am  Cloud3pm  Temp9am  \\\n",
              "4             53.0       1011.5       1008.8       7.0       7.0     29.5   \n",
              "8             42.0       1016.1       1013.0       1.0       1.0     24.8   \n",
              "10            56.0       1004.6       1002.4       2.0       5.0     11.1   \n",
              "12            24.0       1008.9       1005.0       0.0       0.0     24.1   \n",
              "14            39.0       1018.0       1013.9       0.0       0.0     24.8   \n",
              "...            ...          ...          ...       ...       ...      ...   \n",
              "14536         58.0       1011.9       1010.5       8.0       3.0     17.0   \n",
              "14537         86.0       1016.2       1014.6       7.0       6.0     23.7   \n",
              "14538         85.0       1010.5       1013.2       8.0       8.0      7.5   \n",
              "14539         51.0       1020.8       1018.1       2.0       1.0     22.1   \n",
              "14543         65.0       1008.8       1006.2       6.0       7.0     29.9   \n",
              "\n",
              "       Temp3pm  RainToday RainTomorrow  \n",
              "4         32.0         No          Yes  \n",
              "8         28.1         No           No  \n",
              "10        10.9        Yes           No  \n",
              "12        32.3         No           No  \n",
              "14        27.8         No           No  \n",
              "...        ...        ...          ...  \n",
              "14536     22.6         No           No  \n",
              "14537     24.2         No          Yes  \n",
              "14538      6.2        Yes          Yes  \n",
              "14539     25.5         No           No  \n",
              "14543     30.5        Yes          Yes  \n",
              "\n",
              "[5679 rows x 21 columns]"
            ],
            "text/html": [
              "\n",
              "  <div id=\"df-16db40d6-704c-4814-a0e9-96c926038770\">\n",
              "    <div class=\"colab-df-container\">\n",
              "      <div>\n",
              "<style scoped>\n",
              "    .dataframe tbody tr th:only-of-type {\n",
              "        vertical-align: middle;\n",
              "    }\n",
              "\n",
              "    .dataframe tbody tr th {\n",
              "        vertical-align: top;\n",
              "    }\n",
              "\n",
              "    .dataframe thead th {\n",
              "        text-align: right;\n",
              "    }\n",
              "</style>\n",
              "<table border=\"1\" class=\"dataframe\">\n",
              "  <thead>\n",
              "    <tr style=\"text-align: right;\">\n",
              "      <th></th>\n",
              "      <th>MinTemp</th>\n",
              "      <th>MaxTemp</th>\n",
              "      <th>Rainfall</th>\n",
              "      <th>Evaporation</th>\n",
              "      <th>Sunshine</th>\n",
              "      <th>WindGustDir</th>\n",
              "      <th>WindGustSpeed</th>\n",
              "      <th>WindDir9am</th>\n",
              "      <th>WindDir3pm</th>\n",
              "      <th>WindSpeed9am</th>\n",
              "      <th>...</th>\n",
              "      <th>Humidity9am</th>\n",
              "      <th>Humidity3pm</th>\n",
              "      <th>Pressure9am</th>\n",
              "      <th>Pressure3pm</th>\n",
              "      <th>Cloud9am</th>\n",
              "      <th>Cloud3pm</th>\n",
              "      <th>Temp9am</th>\n",
              "      <th>Temp3pm</th>\n",
              "      <th>RainToday</th>\n",
              "      <th>RainTomorrow</th>\n",
              "    </tr>\n",
              "  </thead>\n",
              "  <tbody>\n",
              "    <tr>\n",
              "      <th>4</th>\n",
              "      <td>25.1</td>\n",
              "      <td>33.1</td>\n",
              "      <td>0.2</td>\n",
              "      <td>8.6</td>\n",
              "      <td>3.3</td>\n",
              "      <td>SSE</td>\n",
              "      <td>46.0</td>\n",
              "      <td>SSE</td>\n",
              "      <td>ESE</td>\n",
              "      <td>17.0</td>\n",
              "      <td>...</td>\n",
              "      <td>66.0</td>\n",
              "      <td>53.0</td>\n",
              "      <td>1011.5</td>\n",
              "      <td>1008.8</td>\n",
              "      <td>7.0</td>\n",
              "      <td>7.0</td>\n",
              "      <td>29.5</td>\n",
              "      <td>32.0</td>\n",
              "      <td>No</td>\n",
              "      <td>Yes</td>\n",
              "    </tr>\n",
              "    <tr>\n",
              "      <th>8</th>\n",
              "      <td>17.5</td>\n",
              "      <td>28.6</td>\n",
              "      <td>0.0</td>\n",
              "      <td>6.4</td>\n",
              "      <td>10.7</td>\n",
              "      <td>E</td>\n",
              "      <td>39.0</td>\n",
              "      <td>SE</td>\n",
              "      <td>ENE</td>\n",
              "      <td>17.0</td>\n",
              "      <td>...</td>\n",
              "      <td>48.0</td>\n",
              "      <td>42.0</td>\n",
              "      <td>1016.1</td>\n",
              "      <td>1013.0</td>\n",
              "      <td>1.0</td>\n",
              "      <td>1.0</td>\n",
              "      <td>24.8</td>\n",
              "      <td>28.1</td>\n",
              "      <td>No</td>\n",
              "      <td>No</td>\n",
              "    </tr>\n",
              "    <tr>\n",
              "      <th>10</th>\n",
              "      <td>5.3</td>\n",
              "      <td>12.8</td>\n",
              "      <td>3.8</td>\n",
              "      <td>0.4</td>\n",
              "      <td>5.6</td>\n",
              "      <td>SW</td>\n",
              "      <td>56.0</td>\n",
              "      <td>SSW</td>\n",
              "      <td>SSW</td>\n",
              "      <td>15.0</td>\n",
              "      <td>...</td>\n",
              "      <td>64.0</td>\n",
              "      <td>56.0</td>\n",
              "      <td>1004.6</td>\n",
              "      <td>1002.4</td>\n",
              "      <td>2.0</td>\n",
              "      <td>5.0</td>\n",
              "      <td>11.1</td>\n",
              "      <td>10.9</td>\n",
              "      <td>Yes</td>\n",
              "      <td>No</td>\n",
              "    </tr>\n",
              "    <tr>\n",
              "      <th>12</th>\n",
              "      <td>12.4</td>\n",
              "      <td>34.5</td>\n",
              "      <td>0.0</td>\n",
              "      <td>8.2</td>\n",
              "      <td>13.0</td>\n",
              "      <td>SW</td>\n",
              "      <td>44.0</td>\n",
              "      <td>SSW</td>\n",
              "      <td>SW</td>\n",
              "      <td>13.0</td>\n",
              "      <td>...</td>\n",
              "      <td>44.0</td>\n",
              "      <td>24.0</td>\n",
              "      <td>1008.9</td>\n",
              "      <td>1005.0</td>\n",
              "      <td>0.0</td>\n",
              "      <td>0.0</td>\n",
              "      <td>24.1</td>\n",
              "      <td>32.3</td>\n",
              "      <td>No</td>\n",
              "      <td>No</td>\n",
              "    </tr>\n",
              "    <tr>\n",
              "      <th>14</th>\n",
              "      <td>15.8</td>\n",
              "      <td>29.1</td>\n",
              "      <td>0.0</td>\n",
              "      <td>11.6</td>\n",
              "      <td>11.7</td>\n",
              "      <td>NE</td>\n",
              "      <td>39.0</td>\n",
              "      <td>SE</td>\n",
              "      <td>ENE</td>\n",
              "      <td>11.0</td>\n",
              "      <td>...</td>\n",
              "      <td>39.0</td>\n",
              "      <td>39.0</td>\n",
              "      <td>1018.0</td>\n",
              "      <td>1013.9</td>\n",
              "      <td>0.0</td>\n",
              "      <td>0.0</td>\n",
              "      <td>24.8</td>\n",
              "      <td>27.8</td>\n",
              "      <td>No</td>\n",
              "      <td>No</td>\n",
              "    </tr>\n",
              "    <tr>\n",
              "      <th>...</th>\n",
              "      <td>...</td>\n",
              "      <td>...</td>\n",
              "      <td>...</td>\n",
              "      <td>...</td>\n",
              "      <td>...</td>\n",
              "      <td>...</td>\n",
              "      <td>...</td>\n",
              "      <td>...</td>\n",
              "      <td>...</td>\n",
              "      <td>...</td>\n",
              "      <td>...</td>\n",
              "      <td>...</td>\n",
              "      <td>...</td>\n",
              "      <td>...</td>\n",
              "      <td>...</td>\n",
              "      <td>...</td>\n",
              "      <td>...</td>\n",
              "      <td>...</td>\n",
              "      <td>...</td>\n",
              "      <td>...</td>\n",
              "      <td>...</td>\n",
              "    </tr>\n",
              "    <tr>\n",
              "      <th>14536</th>\n",
              "      <td>15.6</td>\n",
              "      <td>24.5</td>\n",
              "      <td>0.0</td>\n",
              "      <td>0.4</td>\n",
              "      <td>9.5</td>\n",
              "      <td>WNW</td>\n",
              "      <td>41.0</td>\n",
              "      <td>WSW</td>\n",
              "      <td>W</td>\n",
              "      <td>17.0</td>\n",
              "      <td>...</td>\n",
              "      <td>90.0</td>\n",
              "      <td>58.0</td>\n",
              "      <td>1011.9</td>\n",
              "      <td>1010.5</td>\n",
              "      <td>8.0</td>\n",
              "      <td>3.0</td>\n",
              "      <td>17.0</td>\n",
              "      <td>22.6</td>\n",
              "      <td>No</td>\n",
              "      <td>No</td>\n",
              "    </tr>\n",
              "    <tr>\n",
              "      <th>14537</th>\n",
              "      <td>21.6</td>\n",
              "      <td>29.9</td>\n",
              "      <td>0.0</td>\n",
              "      <td>7.2</td>\n",
              "      <td>4.9</td>\n",
              "      <td>SSW</td>\n",
              "      <td>48.0</td>\n",
              "      <td>WNW</td>\n",
              "      <td>S</td>\n",
              "      <td>9.0</td>\n",
              "      <td>...</td>\n",
              "      <td>82.0</td>\n",
              "      <td>86.0</td>\n",
              "      <td>1016.2</td>\n",
              "      <td>1014.6</td>\n",
              "      <td>7.0</td>\n",
              "      <td>6.0</td>\n",
              "      <td>23.7</td>\n",
              "      <td>24.2</td>\n",
              "      <td>No</td>\n",
              "      <td>Yes</td>\n",
              "    </tr>\n",
              "    <tr>\n",
              "      <th>14538</th>\n",
              "      <td>4.2</td>\n",
              "      <td>9.8</td>\n",
              "      <td>11.8</td>\n",
              "      <td>3.2</td>\n",
              "      <td>7.6</td>\n",
              "      <td>W</td>\n",
              "      <td>69.0</td>\n",
              "      <td>SSW</td>\n",
              "      <td>S</td>\n",
              "      <td>33.0</td>\n",
              "      <td>...</td>\n",
              "      <td>76.0</td>\n",
              "      <td>85.0</td>\n",
              "      <td>1010.5</td>\n",
              "      <td>1013.2</td>\n",
              "      <td>8.0</td>\n",
              "      <td>8.0</td>\n",
              "      <td>7.5</td>\n",
              "      <td>6.2</td>\n",
              "      <td>Yes</td>\n",
              "      <td>Yes</td>\n",
              "    </tr>\n",
              "    <tr>\n",
              "      <th>14539</th>\n",
              "      <td>16.4</td>\n",
              "      <td>26.6</td>\n",
              "      <td>0.0</td>\n",
              "      <td>5.4</td>\n",
              "      <td>10.8</td>\n",
              "      <td>ENE</td>\n",
              "      <td>19.0</td>\n",
              "      <td>SSW</td>\n",
              "      <td>ENE</td>\n",
              "      <td>6.0</td>\n",
              "      <td>...</td>\n",
              "      <td>66.0</td>\n",
              "      <td>51.0</td>\n",
              "      <td>1020.8</td>\n",
              "      <td>1018.1</td>\n",
              "      <td>2.0</td>\n",
              "      <td>1.0</td>\n",
              "      <td>22.1</td>\n",
              "      <td>25.5</td>\n",
              "      <td>No</td>\n",
              "      <td>No</td>\n",
              "    </tr>\n",
              "    <tr>\n",
              "      <th>14543</th>\n",
              "      <td>23.9</td>\n",
              "      <td>33.0</td>\n",
              "      <td>2.8</td>\n",
              "      <td>2.0</td>\n",
              "      <td>6.7</td>\n",
              "      <td>S</td>\n",
              "      <td>54.0</td>\n",
              "      <td>W</td>\n",
              "      <td>W</td>\n",
              "      <td>19.0</td>\n",
              "      <td>...</td>\n",
              "      <td>77.0</td>\n",
              "      <td>65.0</td>\n",
              "      <td>1008.8</td>\n",
              "      <td>1006.2</td>\n",
              "      <td>6.0</td>\n",
              "      <td>7.0</td>\n",
              "      <td>29.9</td>\n",
              "      <td>30.5</td>\n",
              "      <td>Yes</td>\n",
              "      <td>Yes</td>\n",
              "    </tr>\n",
              "  </tbody>\n",
              "</table>\n",
              "<p>5679 rows × 21 columns</p>\n",
              "</div>\n",
              "      <button class=\"colab-df-convert\" onclick=\"convertToInteractive('df-16db40d6-704c-4814-a0e9-96c926038770')\"\n",
              "              title=\"Convert this dataframe to an interactive table.\"\n",
              "              style=\"display:none;\">\n",
              "        \n",
              "  <svg xmlns=\"http://www.w3.org/2000/svg\" height=\"24px\"viewBox=\"0 0 24 24\"\n",
              "       width=\"24px\">\n",
              "    <path d=\"M0 0h24v24H0V0z\" fill=\"none\"/>\n",
              "    <path d=\"M18.56 5.44l.94 2.06.94-2.06 2.06-.94-2.06-.94-.94-2.06-.94 2.06-2.06.94zm-11 1L8.5 8.5l.94-2.06 2.06-.94-2.06-.94L8.5 2.5l-.94 2.06-2.06.94zm10 10l.94 2.06.94-2.06 2.06-.94-2.06-.94-.94-2.06-.94 2.06-2.06.94z\"/><path d=\"M17.41 7.96l-1.37-1.37c-.4-.4-.92-.59-1.43-.59-.52 0-1.04.2-1.43.59L10.3 9.45l-7.72 7.72c-.78.78-.78 2.05 0 2.83L4 21.41c.39.39.9.59 1.41.59.51 0 1.02-.2 1.41-.59l7.78-7.78 2.81-2.81c.8-.78.8-2.07 0-2.86zM5.41 20L4 18.59l7.72-7.72 1.47 1.35L5.41 20z\"/>\n",
              "  </svg>\n",
              "      </button>\n",
              "      \n",
              "  <style>\n",
              "    .colab-df-container {\n",
              "      display:flex;\n",
              "      flex-wrap:wrap;\n",
              "      gap: 12px;\n",
              "    }\n",
              "\n",
              "    .colab-df-convert {\n",
              "      background-color: #E8F0FE;\n",
              "      border: none;\n",
              "      border-radius: 50%;\n",
              "      cursor: pointer;\n",
              "      display: none;\n",
              "      fill: #1967D2;\n",
              "      height: 32px;\n",
              "      padding: 0 0 0 0;\n",
              "      width: 32px;\n",
              "    }\n",
              "\n",
              "    .colab-df-convert:hover {\n",
              "      background-color: #E2EBFA;\n",
              "      box-shadow: 0px 1px 2px rgba(60, 64, 67, 0.3), 0px 1px 3px 1px rgba(60, 64, 67, 0.15);\n",
              "      fill: #174EA6;\n",
              "    }\n",
              "\n",
              "    [theme=dark] .colab-df-convert {\n",
              "      background-color: #3B4455;\n",
              "      fill: #D2E3FC;\n",
              "    }\n",
              "\n",
              "    [theme=dark] .colab-df-convert:hover {\n",
              "      background-color: #434B5C;\n",
              "      box-shadow: 0px 1px 3px 1px rgba(0, 0, 0, 0.15);\n",
              "      filter: drop-shadow(0px 1px 2px rgba(0, 0, 0, 0.3));\n",
              "      fill: #FFFFFF;\n",
              "    }\n",
              "  </style>\n",
              "\n",
              "      <script>\n",
              "        const buttonEl =\n",
              "          document.querySelector('#df-16db40d6-704c-4814-a0e9-96c926038770 button.colab-df-convert');\n",
              "        buttonEl.style.display =\n",
              "          google.colab.kernel.accessAllowed ? 'block' : 'none';\n",
              "\n",
              "        async function convertToInteractive(key) {\n",
              "          const element = document.querySelector('#df-16db40d6-704c-4814-a0e9-96c926038770');\n",
              "          const dataTable =\n",
              "            await google.colab.kernel.invokeFunction('convertToInteractive',\n",
              "                                                     [key], {});\n",
              "          if (!dataTable) return;\n",
              "\n",
              "          const docLinkHtml = 'Like what you see? Visit the ' +\n",
              "            '<a target=\"_blank\" href=https://colab.research.google.com/notebooks/data_table.ipynb>data table notebook</a>'\n",
              "            + ' to learn more about interactive tables.';\n",
              "          element.innerHTML = '';\n",
              "          dataTable['output_type'] = 'display_data';\n",
              "          await google.colab.output.renderOutput(dataTable, element);\n",
              "          const docLink = document.createElement('div');\n",
              "          docLink.innerHTML = docLinkHtml;\n",
              "          element.appendChild(docLink);\n",
              "        }\n",
              "      </script>\n",
              "    </div>\n",
              "  </div>\n",
              "  "
            ]
          },
          "metadata": {},
          "execution_count": 11
        }
      ],
      "source": [
        "dataa=ddf.dropna()\n",
        "dataa"
      ]
    },
    {
      "cell_type": "markdown",
      "source": [
        "##Outliers de MinTemp"
      ],
      "metadata": {
        "id": "Si__Z8orLBNd"
      }
    },
    {
      "cell_type": "code",
      "source": [
        "Q1 = np.quantile (dataa['MinTemp'],0.25)\n",
        "Q1"
      ],
      "metadata": {
        "id": "7BTivNB6LCPF",
        "colab": {
          "base_uri": "https://localhost:8080/"
        },
        "outputId": "1bc76e41-6536-405b-aab4-ba7c143930a5"
      },
      "execution_count": 12,
      "outputs": [
        {
          "output_type": "execute_result",
          "data": {
            "text/plain": [
              "8.7"
            ]
          },
          "metadata": {},
          "execution_count": 12
        }
      ]
    },
    {
      "cell_type": "code",
      "source": [
        "Q3 = np.quantile (dataa['MinTemp'],0.75)\n",
        "Q3"
      ],
      "metadata": {
        "id": "HAFkApKsLJhW",
        "colab": {
          "base_uri": "https://localhost:8080/"
        },
        "outputId": "b3fc0688-cc42-4135-e0ae-93c24107ecb6"
      },
      "execution_count": 13,
      "outputs": [
        {
          "output_type": "execute_result",
          "data": {
            "text/plain": [
              "18.6"
            ]
          },
          "metadata": {},
          "execution_count": 13
        }
      ]
    },
    {
      "cell_type": "code",
      "source": [
        "IQR=Q3-Q1"
      ],
      "metadata": {
        "id": "koDiiD3ELROg"
      },
      "execution_count": 14,
      "outputs": []
    },
    {
      "cell_type": "code",
      "source": [
        "sup=Q3+1.5*IQR\n",
        "print(sup)"
      ],
      "metadata": {
        "id": "WS92HhJzLTa7",
        "colab": {
          "base_uri": "https://localhost:8080/"
        },
        "outputId": "399c7189-a8e5-4e6a-fa97-60e6def5f408"
      },
      "execution_count": 15,
      "outputs": [
        {
          "output_type": "stream",
          "name": "stdout",
          "text": [
            "33.45\n"
          ]
        }
      ]
    },
    {
      "cell_type": "code",
      "source": [
        "inf=Q1-1.5*IQR\n",
        "print(inf)"
      ],
      "metadata": {
        "id": "97O48OPcLW3P",
        "colab": {
          "base_uri": "https://localhost:8080/"
        },
        "outputId": "36086d10-fa7a-4d35-fcbf-002ee4d2afb6"
      },
      "execution_count": 16,
      "outputs": [
        {
          "output_type": "stream",
          "name": "stdout",
          "text": [
            "-6.150000000000004\n"
          ]
        }
      ]
    },
    {
      "cell_type": "code",
      "source": [
        "v = np.array (dataa['MinTemp'])"
      ],
      "metadata": {
        "id": "6uDVa2QtLZY5"
      },
      "execution_count": 17,
      "outputs": []
    },
    {
      "cell_type": "code",
      "source": [
        "inferior =np.where(dataa['MinTemp'] <= (Q1-1.5*IQR))\n",
        "print(\"limite inferior:\", inferior)"
      ],
      "metadata": {
        "id": "axsH2Hs5LnBi",
        "colab": {
          "base_uri": "https://localhost:8080/"
        },
        "outputId": "2e6349ef-54f8-4ab9-82dc-5d96db8ce802"
      },
      "execution_count": 18,
      "outputs": [
        {
          "output_type": "stream",
          "name": "stdout",
          "text": [
            "limite inferior: (array([4328]),)\n"
          ]
        }
      ]
    },
    {
      "cell_type": "code",
      "source": [
        "superior = np.where(dataa['MinTemp'] >= (Q3+1.5*IQR))\n",
        "print(\"limite superior:\", superior)"
      ],
      "metadata": {
        "id": "MsmnSJE8Lq_T",
        "colab": {
          "base_uri": "https://localhost:8080/"
        },
        "outputId": "8af0be48-a3ee-4769-fb8e-167f6ec1ca04"
      },
      "execution_count": 19,
      "outputs": [
        {
          "output_type": "stream",
          "name": "stdout",
          "text": [
            "limite superior: (array([], dtype=int64),)\n"
          ]
        }
      ]
    },
    {
      "cell_type": "markdown",
      "source": [
        "##Outliers de MaxTemp"
      ],
      "metadata": {
        "id": "sG5gyz3WLx62"
      }
    },
    {
      "cell_type": "code",
      "source": [
        "Q1=np.quantile(dataa['MaxTemp'],0.25)\n",
        "Q1"
      ],
      "metadata": {
        "id": "JyuGAGbKLyze",
        "colab": {
          "base_uri": "https://localhost:8080/"
        },
        "outputId": "1b4d5570-3361-4184-a176-c264b70aec5b"
      },
      "execution_count": 20,
      "outputs": [
        {
          "output_type": "execute_result",
          "data": {
            "text/plain": [
              "18.8"
            ]
          },
          "metadata": {},
          "execution_count": 20
        }
      ]
    },
    {
      "cell_type": "code",
      "source": [
        "Q3=np.quantile(dataa['MaxTemp'],0.75)\n",
        "Q3"
      ],
      "metadata": {
        "id": "W0jHUA_OL6El",
        "colab": {
          "base_uri": "https://localhost:8080/"
        },
        "outputId": "ab69403e-3770-4194-b561-ccc4af55245f"
      },
      "execution_count": 21,
      "outputs": [
        {
          "output_type": "execute_result",
          "data": {
            "text/plain": [
              "29.7"
            ]
          },
          "metadata": {},
          "execution_count": 21
        }
      ]
    },
    {
      "cell_type": "code",
      "source": [
        "IQR=Q3-Q1"
      ],
      "metadata": {
        "id": "BvW2gkGFL8ch"
      },
      "execution_count": 22,
      "outputs": []
    },
    {
      "cell_type": "code",
      "source": [
        "sup=Q3+1.5*IQR\n",
        "print(sup)"
      ],
      "metadata": {
        "id": "DBVglyMUL_hp",
        "colab": {
          "base_uri": "https://localhost:8080/"
        },
        "outputId": "fa63d916-4a4b-4967-a67c-7d73bf107495"
      },
      "execution_count": 23,
      "outputs": [
        {
          "output_type": "stream",
          "name": "stdout",
          "text": [
            "46.05\n"
          ]
        }
      ]
    },
    {
      "cell_type": "code",
      "source": [
        "inf=Q1-1.5*IQR\n",
        "print(inf)"
      ],
      "metadata": {
        "id": "h_veNOx3MCNp",
        "colab": {
          "base_uri": "https://localhost:8080/"
        },
        "outputId": "857cc141-966d-4f04-af16-757b4b417536"
      },
      "execution_count": 24,
      "outputs": [
        {
          "output_type": "stream",
          "name": "stdout",
          "text": [
            "2.450000000000003\n"
          ]
        }
      ]
    },
    {
      "cell_type": "code",
      "source": [
        "v=np.array(dataa['MaxTemp'])"
      ],
      "metadata": {
        "id": "XtF-QXocME5l"
      },
      "execution_count": 25,
      "outputs": []
    },
    {
      "cell_type": "code",
      "source": [
        "inferior =np.where(dataa['MaxTemp'] <= (Q1-1.5*IQR))\n",
        "print(\"limite inferior:\", inferior)"
      ],
      "metadata": {
        "id": "rg-PQosOMJHF",
        "colab": {
          "base_uri": "https://localhost:8080/"
        },
        "outputId": "f01305d7-6ee4-4871-ebca-6aa646dcea4b"
      },
      "execution_count": 26,
      "outputs": [
        {
          "output_type": "stream",
          "name": "stdout",
          "text": [
            "limite inferior: (array([], dtype=int64),)\n"
          ]
        }
      ]
    },
    {
      "cell_type": "code",
      "source": [
        "superior = np.where(dataa['MaxTemp'] >= (Q3+1.5*IQR))\n",
        "print(\"limite superior:\", superior)"
      ],
      "metadata": {
        "id": "5wUzaa84ML_u",
        "colab": {
          "base_uri": "https://localhost:8080/"
        },
        "outputId": "2f5dc9d7-b0eb-4a21-f916-3492edd3fa57"
      },
      "execution_count": 27,
      "outputs": [
        {
          "output_type": "stream",
          "name": "stdout",
          "text": [
            "limite superior: (array([], dtype=int64),)\n"
          ]
        }
      ]
    },
    {
      "cell_type": "markdown",
      "source": [
        "##Outliers de Rainfall"
      ],
      "metadata": {
        "id": "C9s_SLWRMSE6"
      }
    },
    {
      "cell_type": "code",
      "source": [
        "Q1=np.quantile(dataa['Rainfall'],0.25)\n",
        "Q1"
      ],
      "metadata": {
        "id": "rtJn9VIwMPCu",
        "colab": {
          "base_uri": "https://localhost:8080/"
        },
        "outputId": "91135275-6889-4461-d8d1-5fcc296c9637"
      },
      "execution_count": 28,
      "outputs": [
        {
          "output_type": "execute_result",
          "data": {
            "text/plain": [
              "0.0"
            ]
          },
          "metadata": {},
          "execution_count": 28
        }
      ]
    },
    {
      "cell_type": "code",
      "source": [
        "Q3=np.quantile(dataa['Rainfall'],0.75)\n",
        "Q3"
      ],
      "metadata": {
        "id": "U4ZF8lYlMV-e",
        "colab": {
          "base_uri": "https://localhost:8080/"
        },
        "outputId": "7161a776-1ec0-4952-d98f-4c80dbf617ef"
      },
      "execution_count": 29,
      "outputs": [
        {
          "output_type": "execute_result",
          "data": {
            "text/plain": [
              "0.8"
            ]
          },
          "metadata": {},
          "execution_count": 29
        }
      ]
    },
    {
      "cell_type": "code",
      "source": [
        "IQR=Q3-Q1"
      ],
      "metadata": {
        "id": "zPhxD8RLMWu1"
      },
      "execution_count": 30,
      "outputs": []
    },
    {
      "cell_type": "code",
      "source": [
        "sup=Q3+1.5*IQR\n",
        "print(sup)"
      ],
      "metadata": {
        "id": "RJSokfWTMW0g",
        "colab": {
          "base_uri": "https://localhost:8080/"
        },
        "outputId": "8643fe5f-9c88-41d6-c8a9-7f17abd0e5fe"
      },
      "execution_count": 31,
      "outputs": [
        {
          "output_type": "stream",
          "name": "stdout",
          "text": [
            "2.0\n"
          ]
        }
      ]
    },
    {
      "cell_type": "code",
      "source": [
        "inf=Q1-1.5*IQR\n",
        "print(inf)"
      ],
      "metadata": {
        "id": "2pCy9k2VMW3x",
        "colab": {
          "base_uri": "https://localhost:8080/"
        },
        "outputId": "f45c47ef-f6fc-4290-ce77-9eaa67be7d00"
      },
      "execution_count": 32,
      "outputs": [
        {
          "output_type": "stream",
          "name": "stdout",
          "text": [
            "-1.2000000000000002\n"
          ]
        }
      ]
    },
    {
      "cell_type": "code",
      "source": [
        "v=np.array(dataa['Rainfall'])"
      ],
      "metadata": {
        "id": "VANrt0oEMW67"
      },
      "execution_count": 33,
      "outputs": []
    },
    {
      "cell_type": "code",
      "source": [
        "inferior =np.where(dataa['Rainfall'] <= (Q1-1.5*IQR))\n",
        "print(\"limite inferior:\", inferior)"
      ],
      "metadata": {
        "id": "s7xnO7AHMXBL",
        "colab": {
          "base_uri": "https://localhost:8080/"
        },
        "outputId": "8af02e47-999c-4b99-ac32-656ec973a225"
      },
      "execution_count": 34,
      "outputs": [
        {
          "output_type": "stream",
          "name": "stdout",
          "text": [
            "limite inferior: (array([], dtype=int64),)\n"
          ]
        }
      ]
    },
    {
      "cell_type": "code",
      "source": [
        "superior = np.where(dataa['Rainfall'] >= (Q3+1.5*IQR))\n",
        "print(\"limite superior:\", superior)"
      ],
      "metadata": {
        "id": "XanB_HMoMjci",
        "colab": {
          "base_uri": "https://localhost:8080/"
        },
        "outputId": "ed2cc6ee-b882-4248-a956-a933bde79c31"
      },
      "execution_count": 35,
      "outputs": [
        {
          "output_type": "stream",
          "name": "stdout",
          "text": [
            "limite superior: (array([   2,    9,   13, ..., 5669, 5676, 5678]),)\n"
          ]
        }
      ]
    },
    {
      "cell_type": "markdown",
      "source": [
        "##Outliers de Evaporation"
      ],
      "metadata": {
        "id": "ZvrW2BaKMsAN"
      }
    },
    {
      "cell_type": "code",
      "source": [
        "Q1=np.quantile(dataa['Evaporation'],0.25)\n",
        "Q1"
      ],
      "metadata": {
        "id": "9kKJgSMyMtNG",
        "colab": {
          "base_uri": "https://localhost:8080/"
        },
        "outputId": "ee741067-7a5a-47d5-e607-3166cc3e74ec"
      },
      "execution_count": 36,
      "outputs": [
        {
          "output_type": "execute_result",
          "data": {
            "text/plain": [
              "2.8"
            ]
          },
          "metadata": {},
          "execution_count": 36
        }
      ]
    },
    {
      "cell_type": "code",
      "source": [
        "Q3=np.quantile(dataa['Evaporation'],0.75)\n",
        "Q3"
      ],
      "metadata": {
        "id": "EQdrWuZ6Mtuw",
        "colab": {
          "base_uri": "https://localhost:8080/"
        },
        "outputId": "c44cb7f2-9217-4a51-b69b-6dbcf88c2d0d"
      },
      "execution_count": 37,
      "outputs": [
        {
          "output_type": "execute_result",
          "data": {
            "text/plain": [
              "7.6"
            ]
          },
          "metadata": {},
          "execution_count": 37
        }
      ]
    },
    {
      "cell_type": "code",
      "source": [
        "IQR=Q3-Q1"
      ],
      "metadata": {
        "id": "10fa5dMiMtxf"
      },
      "execution_count": 38,
      "outputs": []
    },
    {
      "cell_type": "code",
      "source": [
        "sup=Q3+1.5*IQR\n",
        "print(sup)"
      ],
      "metadata": {
        "id": "h_qRwyPMMt0n",
        "colab": {
          "base_uri": "https://localhost:8080/"
        },
        "outputId": "2e0e3683-6821-44b1-d218-99cfdd1d67bc"
      },
      "execution_count": 39,
      "outputs": [
        {
          "output_type": "stream",
          "name": "stdout",
          "text": [
            "14.799999999999999\n"
          ]
        }
      ]
    },
    {
      "cell_type": "code",
      "source": [
        "inf=Q1-1.5*IQR\n",
        "print(inf)"
      ],
      "metadata": {
        "id": "nuHZdeHpMt3T",
        "colab": {
          "base_uri": "https://localhost:8080/"
        },
        "outputId": "474a8256-5c36-4d4c-c4de-59e5f715f40a"
      },
      "execution_count": 40,
      "outputs": [
        {
          "output_type": "stream",
          "name": "stdout",
          "text": [
            "-4.3999999999999995\n"
          ]
        }
      ]
    },
    {
      "cell_type": "code",
      "source": [
        "v=np.array(dataa['Rainfall'])"
      ],
      "metadata": {
        "id": "b_OuSGH8Mt87"
      },
      "execution_count": 41,
      "outputs": []
    },
    {
      "cell_type": "code",
      "source": [
        "inferior =np.where(dataa['Rainfall'] <= (Q1-1.5*IQR))\n",
        "print(\"limite inferior:\", inferior)"
      ],
      "metadata": {
        "id": "wMyy78X0MuFr",
        "colab": {
          "base_uri": "https://localhost:8080/"
        },
        "outputId": "7c7bb145-8c1d-4324-a502-bc3bda492bb4"
      },
      "execution_count": 42,
      "outputs": [
        {
          "output_type": "stream",
          "name": "stdout",
          "text": [
            "limite inferior: (array([], dtype=int64),)\n"
          ]
        }
      ]
    },
    {
      "cell_type": "code",
      "source": [
        "superior = np.where(dataa['Rainfall'] >= (Q3+1.5*IQR))\n",
        "print(\"limite superior:\", superior)"
      ],
      "metadata": {
        "id": "VOaTogyPNBGY",
        "colab": {
          "base_uri": "https://localhost:8080/"
        },
        "outputId": "0e369b3d-a1d8-4c08-8a4f-867301ef2068"
      },
      "execution_count": 43,
      "outputs": [
        {
          "output_type": "stream",
          "name": "stdout",
          "text": [
            "limite superior: (array([  33,  137,  169,  185,  195,  202,  210,  271,  278,  314,  332,\n",
            "        364,  406,  413,  469,  491,  495,  497,  510,  522,  533,  547,\n",
            "        591,  597,  610,  625,  666,  675,  696,  710,  717,  766,  780,\n",
            "        810,  812,  824,  828,  856,  881,  932,  952,  982, 1009, 1023,\n",
            "       1058, 1062, 1068, 1087, 1093, 1111, 1118, 1130, 1151, 1162, 1209,\n",
            "       1215, 1225, 1227, 1249, 1268, 1293, 1295, 1305, 1340, 1364, 1515,\n",
            "       1560, 1570, 1584, 1603, 1621, 1713, 1717, 1757, 1780, 1793, 1802,\n",
            "       1815, 1831, 1846, 1853, 1860, 1888, 1915, 1968, 1975, 1982, 1986,\n",
            "       1997, 2005, 2038, 2062, 2063, 2069, 2078, 2101, 2147, 2193, 2308,\n",
            "       2321, 2345, 2357, 2361, 2380, 2398, 2406, 2430, 2470, 2477, 2491,\n",
            "       2502, 2531, 2546, 2554, 2569, 2654, 2660, 2689, 2724, 2742, 2762,\n",
            "       2773, 2777, 2783, 2790, 2791, 2808, 2843, 2845, 2859, 2885, 2920,\n",
            "       2962, 2973, 2976, 3031, 3055, 3082, 3134, 3140, 3190, 3229, 3273,\n",
            "       3282, 3312, 3319, 3327, 3331, 3337, 3363, 3409, 3433, 3476, 3487,\n",
            "       3520, 3542, 3555, 3561, 3607, 3634, 3654, 3672, 3676, 3696, 3707,\n",
            "       3731, 3737, 3743, 3767, 3777, 3791, 3798, 3816, 3820, 3831, 3939,\n",
            "       3949, 3952, 3963, 3969, 3996, 4002, 4010, 4058, 4109, 4115, 4148,\n",
            "       4151, 4200, 4217, 4220, 4284, 4334, 4342, 4343, 4393, 4422, 4464,\n",
            "       4481, 4490, 4523, 4548, 4592, 4616, 4625, 4662, 4683, 4686, 4706,\n",
            "       4709, 4757, 4823, 4848, 4853, 4877, 4907, 4917, 4987, 5021, 5046,\n",
            "       5053, 5115, 5124, 5145, 5148, 5168, 5169, 5194, 5195, 5225, 5273,\n",
            "       5356, 5370, 5394, 5437, 5442, 5493, 5501, 5513, 5584, 5605, 5613,\n",
            "       5625, 5669]),)\n"
          ]
        }
      ]
    },
    {
      "cell_type": "markdown",
      "source": [
        "##Outliers de Sunshine"
      ],
      "metadata": {
        "id": "K6UjltkXNMCX"
      }
    },
    {
      "cell_type": "code",
      "source": [
        "Q1=np.quantile(dataa['Sunshine'],0.25)\n",
        "Q1"
      ],
      "metadata": {
        "id": "exzwk1BaNNH6",
        "colab": {
          "base_uri": "https://localhost:8080/"
        },
        "outputId": "9ebebca8-9c9c-4d2b-8fb0-ca0a9ed16d72"
      },
      "execution_count": 44,
      "outputs": [
        {
          "output_type": "execute_result",
          "data": {
            "text/plain": [
              "5.1"
            ]
          },
          "metadata": {},
          "execution_count": 44
        }
      ]
    },
    {
      "cell_type": "code",
      "source": [
        "Q3=np.quantile(dataa['Sunshine'],0.75)\n",
        "Q3"
      ],
      "metadata": {
        "id": "QDm54sr-NNee",
        "colab": {
          "base_uri": "https://localhost:8080/"
        },
        "outputId": "4e6c528b-9e09-4096-a53f-f93495eefbc2"
      },
      "execution_count": 45,
      "outputs": [
        {
          "output_type": "execute_result",
          "data": {
            "text/plain": [
              "10.7"
            ]
          },
          "metadata": {},
          "execution_count": 45
        }
      ]
    },
    {
      "cell_type": "code",
      "source": [
        "IQR=Q3-Q1"
      ],
      "metadata": {
        "id": "aBFWu4qTNNhL"
      },
      "execution_count": 46,
      "outputs": []
    },
    {
      "cell_type": "code",
      "source": [
        "sup=Q3+1.5*IQR\n",
        "print(sup)"
      ],
      "metadata": {
        "id": "HsR1ciFgNNoH",
        "colab": {
          "base_uri": "https://localhost:8080/"
        },
        "outputId": "3e255ea5-4037-4566-cc1a-69e8f2cffe61"
      },
      "execution_count": 47,
      "outputs": [
        {
          "output_type": "stream",
          "name": "stdout",
          "text": [
            "19.099999999999998\n"
          ]
        }
      ]
    },
    {
      "cell_type": "code",
      "source": [
        "inf=Q1-1.5*IQR\n",
        "print(inf)"
      ],
      "metadata": {
        "id": "X18BkKawNNqX",
        "colab": {
          "base_uri": "https://localhost:8080/"
        },
        "outputId": "7fd2918d-9695-4fd7-d417-f784938fc575"
      },
      "execution_count": 48,
      "outputs": [
        {
          "output_type": "stream",
          "name": "stdout",
          "text": [
            "-3.299999999999999\n"
          ]
        }
      ]
    },
    {
      "cell_type": "code",
      "source": [
        "v=np.array(dataa['Sunshine'])"
      ],
      "metadata": {
        "id": "eRsjYA7tNNtM"
      },
      "execution_count": 49,
      "outputs": []
    },
    {
      "cell_type": "code",
      "source": [
        "inferior =np.where(dataa['Sunshine'] <= (Q1-1.5*IQR))\n",
        "print(\"limite inferior:\", inferior)"
      ],
      "metadata": {
        "id": "W17sOcTVNNwQ",
        "colab": {
          "base_uri": "https://localhost:8080/"
        },
        "outputId": "ed0fb2db-819d-433a-8b86-50fd6546c1a1"
      },
      "execution_count": 50,
      "outputs": [
        {
          "output_type": "stream",
          "name": "stdout",
          "text": [
            "limite inferior: (array([], dtype=int64),)\n"
          ]
        }
      ]
    },
    {
      "cell_type": "code",
      "source": [
        "superior = np.where(dataa['Sunshine'] >= (Q3+1.5*IQR))\n",
        "print(\"limite superior:\", superior)"
      ],
      "metadata": {
        "id": "Mhc1TBg0NNy2",
        "colab": {
          "base_uri": "https://localhost:8080/"
        },
        "outputId": "661e0eb3-bcbc-46f0-ec0f-8856da42d380"
      },
      "execution_count": 51,
      "outputs": [
        {
          "output_type": "stream",
          "name": "stdout",
          "text": [
            "limite superior: (array([], dtype=int64),)\n"
          ]
        }
      ]
    },
    {
      "cell_type": "markdown",
      "source": [
        "##Outliers de WindGustSpeed"
      ],
      "metadata": {
        "id": "VvGcdOHVNl-Z"
      }
    },
    {
      "cell_type": "code",
      "source": [
        "Q1=np.quantile(dataa['WindGustSpeed'],0.25)\n",
        "Q1"
      ],
      "metadata": {
        "id": "tQ5OHdfENN1t",
        "colab": {
          "base_uri": "https://localhost:8080/"
        },
        "outputId": "235ee004-da7e-44aa-e275-fa94e0205c8a"
      },
      "execution_count": 52,
      "outputs": [
        {
          "output_type": "execute_result",
          "data": {
            "text/plain": [
              "31.0"
            ]
          },
          "metadata": {},
          "execution_count": 52
        }
      ]
    },
    {
      "cell_type": "code",
      "source": [
        "Q3=np.quantile(dataa['WindGustSpeed'],0.75)\n",
        "Q3"
      ],
      "metadata": {
        "id": "-iLCPsCuNN3o",
        "colab": {
          "base_uri": "https://localhost:8080/"
        },
        "outputId": "6eaab024-1517-4561-b961-3e4f9bbb7b92"
      },
      "execution_count": 53,
      "outputs": [
        {
          "output_type": "execute_result",
          "data": {
            "text/plain": [
              "48.0"
            ]
          },
          "metadata": {},
          "execution_count": 53
        }
      ]
    },
    {
      "cell_type": "code",
      "source": [
        "IQR=Q3-Q1"
      ],
      "metadata": {
        "id": "63gfB_xoNN5c"
      },
      "execution_count": 54,
      "outputs": []
    },
    {
      "cell_type": "code",
      "source": [
        "sup=Q3+1.5*IQR\n",
        "print(sup)"
      ],
      "metadata": {
        "id": "5cng7LXsNtfx",
        "colab": {
          "base_uri": "https://localhost:8080/"
        },
        "outputId": "d240e796-7f8f-4313-938b-2b700ddc4e54"
      },
      "execution_count": 55,
      "outputs": [
        {
          "output_type": "stream",
          "name": "stdout",
          "text": [
            "73.5\n"
          ]
        }
      ]
    },
    {
      "cell_type": "code",
      "source": [
        "inf=Q1-1.5*IQR\n",
        "print(inf)"
      ],
      "metadata": {
        "id": "B7oW31WFNtiX",
        "colab": {
          "base_uri": "https://localhost:8080/"
        },
        "outputId": "ae09fb24-45f7-49c3-91a8-fdda23264ccf"
      },
      "execution_count": 56,
      "outputs": [
        {
          "output_type": "stream",
          "name": "stdout",
          "text": [
            "5.5\n"
          ]
        }
      ]
    },
    {
      "cell_type": "code",
      "source": [
        "v=np.array(dataa['WindGustSpeed'])"
      ],
      "metadata": {
        "id": "jtcKS9YzNtkm"
      },
      "execution_count": 57,
      "outputs": []
    },
    {
      "cell_type": "code",
      "source": [
        "inferior =np.where(dataa['WindGustSpeed'] <= (Q1-1.5*IQR))\n",
        "print(\"limite inferior:\", inferior)"
      ],
      "metadata": {
        "id": "RuD_RZpLNtnZ",
        "colab": {
          "base_uri": "https://localhost:8080/"
        },
        "outputId": "04f44693-9508-4244-beca-4a930318febd"
      },
      "execution_count": 58,
      "outputs": [
        {
          "output_type": "stream",
          "name": "stdout",
          "text": [
            "limite inferior: (array([], dtype=int64),)\n"
          ]
        }
      ]
    },
    {
      "cell_type": "code",
      "source": [
        "superior = np.where(dataa['WindGustSpeed'] >= (Q3+1.5*IQR))\n",
        "print(\"limite superior:\", superior)"
      ],
      "metadata": {
        "id": "dkh6hNp0N1tZ",
        "colab": {
          "base_uri": "https://localhost:8080/"
        },
        "outputId": "fd2c0b5c-91ef-4e65-f919-58775e941dfc"
      },
      "execution_count": 59,
      "outputs": [
        {
          "output_type": "stream",
          "name": "stdout",
          "text": [
            "limite superior: (array([  51,   80,   97,  114,  150,  229,  230,  356,  422,  438,  449,\n",
            "        578,  654,  719,  784,  903,  906,  926,  963,  980, 1019, 1058,\n",
            "       1068, 1090, 1132, 1209, 1237, 1245, 1249, 1272, 1340, 1381, 1426,\n",
            "       1433, 1484, 1532, 1567, 1775, 1799, 1832, 1841, 1860, 1935, 1994,\n",
            "       2049, 2058, 2068, 2116, 2117, 2271, 2357, 2378, 2398, 2421, 2448,\n",
            "       2454, 2479, 2551, 2553, 2590, 2695, 2697, 2742, 2790, 2792, 2832,\n",
            "       2836, 2858, 3044, 3049, 3167, 3190, 3270, 3286, 3465, 3495, 3518,\n",
            "       3537, 3571, 3592, 3627, 3638, 3644, 3654, 3670, 3702, 3719, 3731,\n",
            "       3777, 3778, 3782, 3820, 3829, 3887, 4038, 4104, 4147, 4177, 4313,\n",
            "       4369, 4384, 4475, 4530, 4541, 4568, 4608, 4638, 4643, 4734, 4794,\n",
            "       4804, 4854, 4976, 4978, 5023, 5115, 5148, 5214, 5268, 5285, 5346,\n",
            "       5363, 5380, 5415, 5421, 5446, 5453, 5459, 5635, 5636, 5673]),)\n"
          ]
        }
      ]
    },
    {
      "cell_type": "markdown",
      "source": [
        "##Outliers de WindSpeed9am"
      ],
      "metadata": {
        "id": "jaXTaL52N-hJ"
      }
    },
    {
      "cell_type": "code",
      "source": [
        "Q1=np.quantile(dataa['WindSpeed9am'],0.25)\n",
        "Q1"
      ],
      "metadata": {
        "id": "72MzURYJN_al",
        "colab": {
          "base_uri": "https://localhost:8080/"
        },
        "outputId": "97c89bb7-4adb-4073-92aa-9eb01bd512a3"
      },
      "execution_count": 60,
      "outputs": [
        {
          "output_type": "execute_result",
          "data": {
            "text/plain": [
              "9.0"
            ]
          },
          "metadata": {},
          "execution_count": 60
        }
      ]
    },
    {
      "cell_type": "code",
      "source": [
        "Q3=np.quantile(dataa['WindSpeed9am'],0.75)\n",
        "Q3"
      ],
      "metadata": {
        "id": "_OTwhroHN_x7",
        "colab": {
          "base_uri": "https://localhost:8080/"
        },
        "outputId": "24b636da-e46c-4d09-a8c5-7d3625156f47"
      },
      "execution_count": 61,
      "outputs": [
        {
          "output_type": "execute_result",
          "data": {
            "text/plain": [
              "20.0"
            ]
          },
          "metadata": {},
          "execution_count": 61
        }
      ]
    },
    {
      "cell_type": "code",
      "source": [
        "IQR=Q3-Q1"
      ],
      "metadata": {
        "id": "ZlDekrsSN_0r"
      },
      "execution_count": 62,
      "outputs": []
    },
    {
      "cell_type": "code",
      "source": [
        "sup=Q3+1.5*IQR\n",
        "print(sup)"
      ],
      "metadata": {
        "id": "RiKVTIbCN_3a",
        "colab": {
          "base_uri": "https://localhost:8080/"
        },
        "outputId": "9e793e0c-c9ec-4684-f45a-0f43b9801ee7"
      },
      "execution_count": 63,
      "outputs": [
        {
          "output_type": "stream",
          "name": "stdout",
          "text": [
            "36.5\n"
          ]
        }
      ]
    },
    {
      "cell_type": "code",
      "source": [
        "inf=Q1-1.5*IQR\n",
        "print(inf)"
      ],
      "metadata": {
        "id": "O_dsbecgOADL",
        "colab": {
          "base_uri": "https://localhost:8080/"
        },
        "outputId": "3f36565f-3da2-4443-ab36-da616b1c21a2"
      },
      "execution_count": 64,
      "outputs": [
        {
          "output_type": "stream",
          "name": "stdout",
          "text": [
            "-7.5\n"
          ]
        }
      ]
    },
    {
      "cell_type": "code",
      "source": [
        "v=np.array(dataa['WindSpeed9am'])"
      ],
      "metadata": {
        "id": "g7y6PkC8OAF8"
      },
      "execution_count": 65,
      "outputs": []
    },
    {
      "cell_type": "code",
      "source": [
        "inferior =np.where(dataa['WindSpeed9am'] <= (Q1-1.5*IQR))\n",
        "print(\"limite inferior:\", inferior)"
      ],
      "metadata": {
        "id": "Recg_C54OAI7",
        "colab": {
          "base_uri": "https://localhost:8080/"
        },
        "outputId": "2890c6cc-7804-4359-a2ad-86a8cf763cce"
      },
      "execution_count": 66,
      "outputs": [
        {
          "output_type": "stream",
          "name": "stdout",
          "text": [
            "limite inferior: (array([], dtype=int64),)\n"
          ]
        }
      ]
    },
    {
      "cell_type": "code",
      "source": [
        "superior = np.where(dataa['WindSpeed9am'] >= (Q3+1.5*IQR))\n",
        "print(\"limite superior:\", superior)"
      ],
      "metadata": {
        "id": "udG76OZ2OAVM",
        "colab": {
          "base_uri": "https://localhost:8080/"
        },
        "outputId": "5e3d1df1-cf4b-4ddc-93f8-a3a7e0be3302"
      },
      "execution_count": 67,
      "outputs": [
        {
          "output_type": "stream",
          "name": "stdout",
          "text": [
            "limite superior: (array([  80,  134,  150,  356,  422,  466,  502,  508,  519,  547,  562,\n",
            "        594,  661,  669,  854,  870,  882,  906,  946,  980, 1019, 1068,\n",
            "       1090, 1112, 1200, 1209, 1229, 1237, 1340, 1377, 1380, 1386, 1466,\n",
            "       1484, 1532, 1567, 1786, 1799, 1802, 1810, 1841, 1863, 1886, 1919,\n",
            "       1957, 1994, 2058, 2142, 2177, 2267, 2270, 2271, 2278, 2357, 2375,\n",
            "       2448, 2469, 2491, 2551, 2588, 2792, 2836, 3001, 3042, 3044, 3049,\n",
            "       3053, 3167, 3190, 3270, 3286, 3298, 3414, 3428, 3465, 3518, 3537,\n",
            "       3592, 3627, 3638, 3682, 3782, 3829, 3985, 4104, 4120, 4122, 4131,\n",
            "       4147, 4177, 4200, 4213, 4338, 4384, 4388, 4398, 4416, 4515, 4559,\n",
            "       4638, 4687, 4696, 4733, 4744, 4898, 4931, 4958, 5023, 5024, 5067,\n",
            "       5081, 5189, 5274, 5285, 5346, 5417, 5459, 5526, 5559, 5588, 5673]),)\n"
          ]
        }
      ]
    },
    {
      "cell_type": "markdown",
      "source": [
        "##Outliers de WindSpeed3pm"
      ],
      "metadata": {
        "id": "GOwa2gSlOUhS"
      }
    },
    {
      "cell_type": "code",
      "source": [
        "Q1=np.quantile(dataa['WindSpeed3pm'],0.25)\n",
        "Q1"
      ],
      "metadata": {
        "id": "ehhBwgG-OVP_",
        "colab": {
          "base_uri": "https://localhost:8080/"
        },
        "outputId": "6cab4411-a46f-40fc-c186-4dad92e0dd82"
      },
      "execution_count": 68,
      "outputs": [
        {
          "output_type": "execute_result",
          "data": {
            "text/plain": [
              "13.0"
            ]
          },
          "metadata": {},
          "execution_count": 68
        }
      ]
    },
    {
      "cell_type": "code",
      "source": [
        "Q3=np.quantile(dataa['WindSpeed3pm'],0.75)\n",
        "Q3"
      ],
      "metadata": {
        "id": "jeBP-cMOOViF",
        "colab": {
          "base_uri": "https://localhost:8080/"
        },
        "outputId": "ae5a271c-f7cb-40b8-8552-da0d12878f6b"
      },
      "execution_count": 69,
      "outputs": [
        {
          "output_type": "execute_result",
          "data": {
            "text/plain": [
              "26.0"
            ]
          },
          "metadata": {},
          "execution_count": 69
        }
      ]
    },
    {
      "cell_type": "code",
      "source": [
        "IQR=Q3-Q1"
      ],
      "metadata": {
        "id": "8O4GgbZhOVkV"
      },
      "execution_count": 70,
      "outputs": []
    },
    {
      "cell_type": "code",
      "source": [
        "sup=Q3+1.5*IQR\n",
        "print(sup)"
      ],
      "metadata": {
        "id": "VvrmMORKOVmk",
        "colab": {
          "base_uri": "https://localhost:8080/"
        },
        "outputId": "c97ceccc-5e9f-4959-a0d9-fba543a23854"
      },
      "execution_count": 71,
      "outputs": [
        {
          "output_type": "stream",
          "name": "stdout",
          "text": [
            "45.5\n"
          ]
        }
      ]
    },
    {
      "cell_type": "code",
      "source": [
        "inf=Q1-1.5*IQR\n",
        "print(inf)"
      ],
      "metadata": {
        "id": "cXkEe114OVrY",
        "colab": {
          "base_uri": "https://localhost:8080/"
        },
        "outputId": "a4ad8e2a-7a24-45f6-bd37-e67070d7e4b2"
      },
      "execution_count": 72,
      "outputs": [
        {
          "output_type": "stream",
          "name": "stdout",
          "text": [
            "-6.5\n"
          ]
        }
      ]
    },
    {
      "cell_type": "code",
      "source": [
        "v=np.array(dataa['WindSpeed3pm'])"
      ],
      "metadata": {
        "id": "pBU7x5YPOVuD"
      },
      "execution_count": 73,
      "outputs": []
    },
    {
      "cell_type": "code",
      "source": [
        "inferior =np.where(dataa['WindSpeed3pm'] <= (Q1-1.5*IQR))\n",
        "print(\"limite inferior:\", inferior)"
      ],
      "metadata": {
        "id": "rcgtgdUZOVwn",
        "colab": {
          "base_uri": "https://localhost:8080/"
        },
        "outputId": "64218fe1-84fc-4637-b5f8-7b49f9ea9560"
      },
      "execution_count": 74,
      "outputs": [
        {
          "output_type": "stream",
          "name": "stdout",
          "text": [
            "limite inferior: (array([], dtype=int64),)\n"
          ]
        }
      ]
    },
    {
      "cell_type": "code",
      "source": [
        "superior = np.where(dataa['WindSpeed3pm'] >= (Q3+1.5*IQR))\n",
        "print(\"limite superior:\", superior)"
      ],
      "metadata": {
        "id": "wVJMho_NOVzz",
        "colab": {
          "base_uri": "https://localhost:8080/"
        },
        "outputId": "74e1b0ae-90a6-4263-d9e7-71048789cf14"
      },
      "execution_count": 75,
      "outputs": [
        {
          "output_type": "stream",
          "name": "stdout",
          "text": [
            "limite superior: (array([ 230,  422,  877,  903,  980, 1090, 1340, 1410, 1426, 1567, 2278,\n",
            "       2421, 2695, 2777, 2836, 2858, 3044, 3377, 3465, 3592, 3719, 3887,\n",
            "       3928, 4104, 4122, 4177, 4231, 4313, 4369, 4384, 4475, 4587, 4638,\n",
            "       4978, 5115, 5421, 5559, 5588, 5673]),)\n"
          ]
        }
      ]
    },
    {
      "cell_type": "markdown",
      "source": [
        "##Outliers de Humidity9am"
      ],
      "metadata": {
        "id": "vMS3KrIjO0xc"
      }
    },
    {
      "cell_type": "code",
      "source": [
        "Q1=np.quantile(dataa['Humidity9am'],0.25)\n",
        "Q1"
      ],
      "metadata": {
        "id": "XRCnOrEnO4Lx",
        "colab": {
          "base_uri": "https://localhost:8080/"
        },
        "outputId": "605ab874-ade9-421d-8abf-e752b81aebaa"
      },
      "execution_count": 76,
      "outputs": [
        {
          "output_type": "execute_result",
          "data": {
            "text/plain": [
              "54.0"
            ]
          },
          "metadata": {},
          "execution_count": 76
        }
      ]
    },
    {
      "cell_type": "code",
      "source": [
        "Q3=np.quantile(dataa['Humidity9am'],0.75)\n",
        "Q3"
      ],
      "metadata": {
        "id": "3rYYPZ1OO4jn",
        "colab": {
          "base_uri": "https://localhost:8080/"
        },
        "outputId": "ad441cd6-0f30-4bb5-d995-0feff5a4e6aa"
      },
      "execution_count": 77,
      "outputs": [
        {
          "output_type": "execute_result",
          "data": {
            "text/plain": [
              "79.0"
            ]
          },
          "metadata": {},
          "execution_count": 77
        }
      ]
    },
    {
      "cell_type": "code",
      "source": [
        "IQR=Q3-Q1"
      ],
      "metadata": {
        "id": "FqdvYjQZO4mZ"
      },
      "execution_count": 78,
      "outputs": []
    },
    {
      "cell_type": "code",
      "source": [
        "sup=Q3+1.5*IQR\n",
        "print(sup)"
      ],
      "metadata": {
        "id": "YEqORxJPO4qW",
        "colab": {
          "base_uri": "https://localhost:8080/"
        },
        "outputId": "2a1e7353-0dbb-4fc5-9ae3-e7c23b58ae7b"
      },
      "execution_count": 79,
      "outputs": [
        {
          "output_type": "stream",
          "name": "stdout",
          "text": [
            "116.5\n"
          ]
        }
      ]
    },
    {
      "cell_type": "code",
      "source": [
        "inf=Q1-1.5*IQR\n",
        "print(inf)"
      ],
      "metadata": {
        "id": "wTv0LK1cO4s7",
        "colab": {
          "base_uri": "https://localhost:8080/"
        },
        "outputId": "f5cb19e1-ca01-4ceb-b789-9f674e5e179b"
      },
      "execution_count": 80,
      "outputs": [
        {
          "output_type": "stream",
          "name": "stdout",
          "text": [
            "16.5\n"
          ]
        }
      ]
    },
    {
      "cell_type": "code",
      "source": [
        "v=np.array(dataa['Humidity9am'])"
      ],
      "metadata": {
        "id": "cRy0j2uWO4vW"
      },
      "execution_count": 81,
      "outputs": []
    },
    {
      "cell_type": "code",
      "source": [
        "inferior =np.where(dataa['Humidity9am'] <= (Q1-1.5*IQR))\n",
        "print(\"limite inferior:\", inferior)"
      ],
      "metadata": {
        "id": "WdfG7adXO4yI",
        "colab": {
          "base_uri": "https://localhost:8080/"
        },
        "outputId": "a382c7c9-5dce-4af7-c092-70e61d90a362"
      },
      "execution_count": 82,
      "outputs": [
        {
          "output_type": "stream",
          "name": "stdout",
          "text": [
            "limite inferior: (array([ 111,  125,  204,  424,  432,  748, 1027, 1076, 1107, 1138, 1229,\n",
            "       1240, 1245, 1417, 1525, 1587, 1631, 1673, 1905, 1928, 1987, 2080,\n",
            "       2167, 2341, 2468, 2558, 2567, 2626, 2682, 2695, 2744, 2810, 2817,\n",
            "       2820, 3153, 3463, 3466, 3556, 3605, 3732, 3749, 3762, 3845, 3887,\n",
            "       4195, 4211, 4271, 4378, 4549, 4745, 4761, 4798, 4991, 5015, 5084,\n",
            "       5111, 5153, 5155, 5278, 5421, 5443, 5523, 5559, 5630, 5658]),)\n"
          ]
        }
      ]
    },
    {
      "cell_type": "code",
      "source": [
        "superior = np.where(dataa['Humidity9am'] >= (Q3+1.5*IQR))\n",
        "print(\"limite superior:\", superior)"
      ],
      "metadata": {
        "id": "AW_GnbFmO439",
        "colab": {
          "base_uri": "https://localhost:8080/"
        },
        "outputId": "ed406976-3b20-4051-aae8-ace6f63002ff"
      },
      "execution_count": 83,
      "outputs": [
        {
          "output_type": "stream",
          "name": "stdout",
          "text": [
            "limite superior: (array([], dtype=int64),)\n"
          ]
        }
      ]
    },
    {
      "cell_type": "markdown",
      "source": [
        "##Outliers de Humidity3pm"
      ],
      "metadata": {
        "id": "3EkaijE3PKXJ"
      }
    },
    {
      "cell_type": "code",
      "source": [
        "Q1=np.quantile(dataa['Humidity3pm'],0.25)\n",
        "Q1"
      ],
      "metadata": {
        "id": "rcmVSte6POMu",
        "colab": {
          "base_uri": "https://localhost:8080/"
        },
        "outputId": "53f74bea-5c54-4353-e61e-0592d3d7bde6"
      },
      "execution_count": 84,
      "outputs": [
        {
          "output_type": "execute_result",
          "data": {
            "text/plain": [
              "35.0"
            ]
          },
          "metadata": {},
          "execution_count": 84
        }
      ]
    },
    {
      "cell_type": "code",
      "source": [
        "Q3=np.quantile(dataa['Humidity3pm'],0.75)\n",
        "Q3"
      ],
      "metadata": {
        "id": "Rx2Uz6TgPOhl",
        "colab": {
          "base_uri": "https://localhost:8080/"
        },
        "outputId": "6d3c9a19-095a-4091-a4e4-c39c7ba1c16b"
      },
      "execution_count": 85,
      "outputs": [
        {
          "output_type": "execute_result",
          "data": {
            "text/plain": [
              "63.0"
            ]
          },
          "metadata": {},
          "execution_count": 85
        }
      ]
    },
    {
      "cell_type": "code",
      "source": [
        "IQR=Q3-Q1"
      ],
      "metadata": {
        "id": "TSuK0qxePOj3"
      },
      "execution_count": 86,
      "outputs": []
    },
    {
      "cell_type": "code",
      "source": [
        "sup=Q3+1.5*IQR\n",
        "print(sup)"
      ],
      "metadata": {
        "id": "SwrX9KobPOl0",
        "colab": {
          "base_uri": "https://localhost:8080/"
        },
        "outputId": "8aeeeb9a-74ef-4688-bb10-5f3f9302e7fb"
      },
      "execution_count": 87,
      "outputs": [
        {
          "output_type": "stream",
          "name": "stdout",
          "text": [
            "105.0\n"
          ]
        }
      ]
    },
    {
      "cell_type": "code",
      "source": [
        "inf=Q1-1.5*IQR\n",
        "print(inf)"
      ],
      "metadata": {
        "id": "VFgUR4tFPOop",
        "colab": {
          "base_uri": "https://localhost:8080/"
        },
        "outputId": "7728db59-00f7-4198-83d1-c0b2d83f9df6"
      },
      "execution_count": 88,
      "outputs": [
        {
          "output_type": "stream",
          "name": "stdout",
          "text": [
            "-7.0\n"
          ]
        }
      ]
    },
    {
      "cell_type": "code",
      "source": [
        "v=np.array(dataa['Humidity3pm'])"
      ],
      "metadata": {
        "id": "v1OZB74NPOrT"
      },
      "execution_count": 89,
      "outputs": []
    },
    {
      "cell_type": "code",
      "source": [
        "inferior =np.where(dataa['Humidity3pm'] <= (Q1-1.5*IQR))\n",
        "print(\"limite inferior:\", inferior)"
      ],
      "metadata": {
        "id": "y3wPQzNZPOui",
        "colab": {
          "base_uri": "https://localhost:8080/"
        },
        "outputId": "4791ddbe-4195-4e34-9546-cd742980c675"
      },
      "execution_count": 90,
      "outputs": [
        {
          "output_type": "stream",
          "name": "stdout",
          "text": [
            "limite inferior: (array([], dtype=int64),)\n"
          ]
        }
      ]
    },
    {
      "cell_type": "code",
      "source": [
        "superior = np.where(dataa['Humidity3pm'] >= (Q3+1.5*IQR))\n",
        "print(\"limite superior:\", superior)"
      ],
      "metadata": {
        "id": "TbOAkvbMPOxZ",
        "colab": {
          "base_uri": "https://localhost:8080/"
        },
        "outputId": "6af51e65-3431-4b89-880a-28db62dc9d8f"
      },
      "execution_count": 91,
      "outputs": [
        {
          "output_type": "stream",
          "name": "stdout",
          "text": [
            "limite superior: (array([], dtype=int64),)\n"
          ]
        }
      ]
    },
    {
      "cell_type": "markdown",
      "source": [
        "##Outliers de Pressure9am"
      ],
      "metadata": {
        "id": "0SBxsiq9PkEO"
      }
    },
    {
      "cell_type": "code",
      "source": [
        "Q1=np.quantile(dataa['Pressure9am'],0.25)\n",
        "Q1"
      ],
      "metadata": {
        "id": "fmA1DYhOPk7C",
        "colab": {
          "base_uri": "https://localhost:8080/"
        },
        "outputId": "7d95ea36-d1c4-4314-aecd-3170ee15c9bc"
      },
      "execution_count": 92,
      "outputs": [
        {
          "output_type": "execute_result",
          "data": {
            "text/plain": [
              "1012.5"
            ]
          },
          "metadata": {},
          "execution_count": 92
        }
      ]
    },
    {
      "cell_type": "code",
      "source": [
        "Q3=np.quantile(dataa['Pressure9am'],0.75)\n",
        "Q3"
      ],
      "metadata": {
        "id": "YsyXBlKRPlXb",
        "colab": {
          "base_uri": "https://localhost:8080/"
        },
        "outputId": "1548de4d-6805-4ab7-d69e-5a14ddea895d"
      },
      "execution_count": 93,
      "outputs": [
        {
          "output_type": "execute_result",
          "data": {
            "text/plain": [
              "1021.6"
            ]
          },
          "metadata": {},
          "execution_count": 93
        }
      ]
    },
    {
      "cell_type": "code",
      "source": [
        "IQR=Q3-Q1"
      ],
      "metadata": {
        "id": "yqgN8n5rPlZo"
      },
      "execution_count": 94,
      "outputs": []
    },
    {
      "cell_type": "code",
      "source": [
        "sup=Q3+1.5*IQR\n",
        "print(sup)"
      ],
      "metadata": {
        "id": "nwl65Vg-Pld8",
        "colab": {
          "base_uri": "https://localhost:8080/"
        },
        "outputId": "a006dfe7-04ce-430e-b0a2-1f5a63cb51e2"
      },
      "execution_count": 95,
      "outputs": [
        {
          "output_type": "stream",
          "name": "stdout",
          "text": [
            "1035.25\n"
          ]
        }
      ]
    },
    {
      "cell_type": "code",
      "source": [
        "inf=Q1-1.5*IQR\n",
        "print(inf)"
      ],
      "metadata": {
        "id": "9rWEnSIBPlgL",
        "colab": {
          "base_uri": "https://localhost:8080/"
        },
        "outputId": "689808d2-1365-44b0-e63b-52adc196be5b"
      },
      "execution_count": 96,
      "outputs": [
        {
          "output_type": "stream",
          "name": "stdout",
          "text": [
            "998.8499999999999\n"
          ]
        }
      ]
    },
    {
      "cell_type": "code",
      "source": [
        "v=np.array(dataa['Pressure9am'])"
      ],
      "metadata": {
        "id": "h3t1o0yvPliq"
      },
      "execution_count": 97,
      "outputs": []
    },
    {
      "cell_type": "code",
      "source": [
        "inferior =np.where(dataa['Pressure9am'] <= (Q1-1.5*IQR))\n",
        "print(\"limite inferior:\", inferior)"
      ],
      "metadata": {
        "id": "N3mPAFDfPllI",
        "colab": {
          "base_uri": "https://localhost:8080/"
        },
        "outputId": "b776e221-aa27-44c5-80f8-c3b281028e12"
      },
      "execution_count": 98,
      "outputs": [
        {
          "output_type": "stream",
          "name": "stdout",
          "text": [
            "limite inferior: (array([ 149,  480,  591,  732,  875,  907,  952, 1143, 1302, 1652, 1897,\n",
            "       1972, 2035, 2068, 2069, 2265, 2858, 3049, 3301, 3518, 3592, 3638,\n",
            "       3644, 3682, 3731, 3820, 4396, 4490, 4533, 4643, 4778, 4897, 4922,\n",
            "       5067, 5214, 5453, 5599]),)\n"
          ]
        }
      ]
    },
    {
      "cell_type": "code",
      "source": [
        "superior = np.where(dataa['Pressure9am'] >= (Q3+1.5*IQR))\n",
        "print(\"limite superior:\", superior)"
      ],
      "metadata": {
        "id": "0jWJDhwvPln6",
        "colab": {
          "base_uri": "https://localhost:8080/"
        },
        "outputId": "3882ea46-30ae-41de-bcc0-02d6da0fd24d"
      },
      "execution_count": 99,
      "outputs": [
        {
          "output_type": "stream",
          "name": "stdout",
          "text": [
            "limite superior: (array([  63,  131,  159,  200, 1085, 1362, 1395, 1408, 1528, 1607, 1925,\n",
            "       1985, 2207, 2243, 2679, 2764, 3118, 3503, 3843, 4107, 4354, 4783]),)\n"
          ]
        }
      ]
    },
    {
      "cell_type": "markdown",
      "source": [
        "##Outliers de Pressure3pm"
      ],
      "metadata": {
        "id": "xAIo5CraP2vu"
      }
    },
    {
      "cell_type": "code",
      "source": [
        "Q1=np.quantile(dataa['Pressure3pm'],0.25)\n",
        "Q1"
      ],
      "metadata": {
        "id": "PwytRXaoPlrr",
        "colab": {
          "base_uri": "https://localhost:8080/"
        },
        "outputId": "123572bc-bfd8-43c1-a193-3d8cf8fb9319"
      },
      "execution_count": 100,
      "outputs": [
        {
          "output_type": "execute_result",
          "data": {
            "text/plain": [
              "1009.9"
            ]
          },
          "metadata": {},
          "execution_count": 100
        }
      ]
    },
    {
      "cell_type": "code",
      "source": [
        "Q3=np.quantile(dataa['Pressure3pm'],0.75)\n",
        "Q3"
      ],
      "metadata": {
        "id": "MxQTmQccP6Wf",
        "colab": {
          "base_uri": "https://localhost:8080/"
        },
        "outputId": "f72a3860-c1e7-43c1-f788-23315ab055f1"
      },
      "execution_count": 101,
      "outputs": [
        {
          "output_type": "execute_result",
          "data": {
            "text/plain": [
              "1019.3"
            ]
          },
          "metadata": {},
          "execution_count": 101
        }
      ]
    },
    {
      "cell_type": "code",
      "source": [
        "IQR=Q3-Q1"
      ],
      "metadata": {
        "id": "-ajHsdzmP6ZM"
      },
      "execution_count": 102,
      "outputs": []
    },
    {
      "cell_type": "code",
      "source": [
        "sup=Q3+1.5*IQR\n",
        "print(sup)"
      ],
      "metadata": {
        "id": "WLtLSL55P6bq",
        "colab": {
          "base_uri": "https://localhost:8080/"
        },
        "outputId": "9d7d28a4-7623-4f01-cff3-e98ac4deb74d"
      },
      "execution_count": 103,
      "outputs": [
        {
          "output_type": "stream",
          "name": "stdout",
          "text": [
            "1033.3999999999999\n"
          ]
        }
      ]
    },
    {
      "cell_type": "code",
      "source": [
        "inf=Q1-1.5*IQR\n",
        "print(inf)"
      ],
      "metadata": {
        "id": "IidB-is_P6fc",
        "colab": {
          "base_uri": "https://localhost:8080/"
        },
        "outputId": "2a38d76e-3f1e-4987-9c7e-3c015bf24896"
      },
      "execution_count": 104,
      "outputs": [
        {
          "output_type": "stream",
          "name": "stdout",
          "text": [
            "995.8\n"
          ]
        }
      ]
    },
    {
      "cell_type": "code",
      "source": [
        "v=np.array(dataa['Pressure3pm'])"
      ],
      "metadata": {
        "id": "t4R7pjMtP6ld"
      },
      "execution_count": 105,
      "outputs": []
    },
    {
      "cell_type": "code",
      "source": [
        "inferior =np.where(dataa['Pressure3pm'] <= (Q1-1.5*IQR))\n",
        "print(\"limite inferior:\", inferior)"
      ],
      "metadata": {
        "id": "dbd_9AEHQFMH",
        "colab": {
          "base_uri": "https://localhost:8080/"
        },
        "outputId": "8f9ba0dd-cd5d-4cce-9eee-0272f287fa9b"
      },
      "execution_count": 106,
      "outputs": [
        {
          "output_type": "stream",
          "name": "stdout",
          "text": [
            "limite inferior: (array([ 149,  480,  591,  875,  884, 1143, 1302, 1652, 1897, 2068, 3518,\n",
            "       3592, 3644, 4490, 4533, 4897, 4922, 5453, 5599]),)\n"
          ]
        }
      ]
    },
    {
      "cell_type": "code",
      "source": [
        "superior = np.where(dataa['Pressure9am'] >= (Q3+1.5*IQR))\n",
        "print(\"limite superior:\", superior)"
      ],
      "metadata": {
        "id": "aAUD3N9LQE-3",
        "colab": {
          "base_uri": "https://localhost:8080/"
        },
        "outputId": "60bef000-332c-4d11-d1a4-31c90197dd0a"
      },
      "execution_count": 107,
      "outputs": [
        {
          "output_type": "stream",
          "name": "stdout",
          "text": [
            "limite superior: (array([  63,  120,  131,  159,  200,  494,  678,  682, 1085, 1273, 1362,\n",
            "       1395, 1408, 1528, 1607, 1798, 1804, 1925, 1985, 2207, 2243, 2307,\n",
            "       2635, 2679, 2707, 2764, 2816, 2873, 3118, 3191, 3447, 3486, 3503,\n",
            "       3626, 3812, 3834, 3843, 4107, 4130, 4300, 4354, 4558, 4717, 4783,\n",
            "       4800, 4885, 4891, 4924, 5134, 5181, 5337, 5505, 5659]),)\n"
          ]
        }
      ]
    },
    {
      "cell_type": "markdown",
      "source": [
        "##Outliers de Cloud9am"
      ],
      "metadata": {
        "id": "pygCA9RQQM2J"
      }
    },
    {
      "cell_type": "code",
      "source": [
        "Q1=np.quantile(dataa['Cloud9am'],0.25)\n",
        "Q1"
      ],
      "metadata": {
        "id": "JSVB6ni-QNz2",
        "colab": {
          "base_uri": "https://localhost:8080/"
        },
        "outputId": "a71d6ed1-18c5-4e37-a562-7ac58c5c8577"
      },
      "execution_count": 108,
      "outputs": [
        {
          "output_type": "execute_result",
          "data": {
            "text/plain": [
              "1.0"
            ]
          },
          "metadata": {},
          "execution_count": 108
        }
      ]
    },
    {
      "cell_type": "code",
      "source": [
        "Q3=np.quantile(dataa['Cloud9am'],0.75)\n",
        "Q3"
      ],
      "metadata": {
        "id": "L4_cUYvYQOKw",
        "colab": {
          "base_uri": "https://localhost:8080/"
        },
        "outputId": "169fc81e-ef24-4246-d11c-d0856fff3919"
      },
      "execution_count": 109,
      "outputs": [
        {
          "output_type": "execute_result",
          "data": {
            "text/plain": [
              "7.0"
            ]
          },
          "metadata": {},
          "execution_count": 109
        }
      ]
    },
    {
      "cell_type": "code",
      "source": [
        "IQR=Q3-Q1"
      ],
      "metadata": {
        "id": "jmzm-ldoQOMt"
      },
      "execution_count": 110,
      "outputs": []
    },
    {
      "cell_type": "code",
      "source": [
        "sup=Q3+1.5*IQR\n",
        "print(sup)"
      ],
      "metadata": {
        "id": "uXkkx5R8QOPP",
        "colab": {
          "base_uri": "https://localhost:8080/"
        },
        "outputId": "4810a3ff-66bd-4e48-9fd9-f08880e5f48f"
      },
      "execution_count": 111,
      "outputs": [
        {
          "output_type": "stream",
          "name": "stdout",
          "text": [
            "16.0\n"
          ]
        }
      ]
    },
    {
      "cell_type": "code",
      "source": [
        "inf=Q1-1.5*IQR\n",
        "print(inf)"
      ],
      "metadata": {
        "id": "fkqFV--KQOTN",
        "colab": {
          "base_uri": "https://localhost:8080/"
        },
        "outputId": "c3f8db50-52ed-4701-a901-58403039d763"
      },
      "execution_count": 112,
      "outputs": [
        {
          "output_type": "stream",
          "name": "stdout",
          "text": [
            "-8.0\n"
          ]
        }
      ]
    },
    {
      "cell_type": "code",
      "source": [
        "v=np.array(dataa['Cloud9am'])"
      ],
      "metadata": {
        "id": "mDaPMu8sQOV2"
      },
      "execution_count": 113,
      "outputs": []
    },
    {
      "cell_type": "code",
      "source": [
        "inferior =np.where(dataa['Cloud9am'] <= (Q1-1.5*IQR))\n",
        "print(\"limite inferior:\", inferior)"
      ],
      "metadata": {
        "id": "YcWFPWnqQaQZ",
        "colab": {
          "base_uri": "https://localhost:8080/"
        },
        "outputId": "4c8302e9-adbd-4e82-c221-98bc522dabe6"
      },
      "execution_count": 114,
      "outputs": [
        {
          "output_type": "stream",
          "name": "stdout",
          "text": [
            "limite inferior: (array([], dtype=int64),)\n"
          ]
        }
      ]
    },
    {
      "cell_type": "code",
      "source": [
        "superior = np.where(dataa['Cloud9am'] >= (Q3+1.5*IQR))\n",
        "print(\"limite superior:\", superior)"
      ],
      "metadata": {
        "id": "DkkNI-tmQaMe",
        "colab": {
          "base_uri": "https://localhost:8080/"
        },
        "outputId": "20394bbb-9a4f-4a09-a8c9-1f8e49acc2af"
      },
      "execution_count": 115,
      "outputs": [
        {
          "output_type": "stream",
          "name": "stdout",
          "text": [
            "limite superior: (array([], dtype=int64),)\n"
          ]
        }
      ]
    },
    {
      "cell_type": "markdown",
      "source": [
        "##Outliers de Cloud3pm"
      ],
      "metadata": {
        "id": "RUnYFlI3QkWY"
      }
    },
    {
      "cell_type": "code",
      "source": [
        "Q1=np.quantile(dataa['Cloud3pm'],0.25)\n",
        "Q1"
      ],
      "metadata": {
        "id": "Bt9TdGbvQaHc",
        "colab": {
          "base_uri": "https://localhost:8080/"
        },
        "outputId": "18694c1e-be26-45a3-cfef-53fc703d8f7f"
      },
      "execution_count": 116,
      "outputs": [
        {
          "output_type": "execute_result",
          "data": {
            "text/plain": [
              "2.0"
            ]
          },
          "metadata": {},
          "execution_count": 116
        }
      ]
    },
    {
      "cell_type": "code",
      "source": [
        "Q3=np.quantile(dataa['Cloud3pm'],0.75)\n",
        "Q3"
      ],
      "metadata": {
        "id": "_aU57RgvQoOx",
        "colab": {
          "base_uri": "https://localhost:8080/"
        },
        "outputId": "904885b9-e1da-4be1-d5fc-e19ae3bca664"
      },
      "execution_count": 117,
      "outputs": [
        {
          "output_type": "execute_result",
          "data": {
            "text/plain": [
              "7.0"
            ]
          },
          "metadata": {},
          "execution_count": 117
        }
      ]
    },
    {
      "cell_type": "code",
      "source": [
        "IQR=Q3-Q1"
      ],
      "metadata": {
        "id": "m4U6XjoLQoMB"
      },
      "execution_count": 118,
      "outputs": []
    },
    {
      "cell_type": "code",
      "source": [
        "sup=Q3+1.5*IQR\n",
        "print(sup)"
      ],
      "metadata": {
        "id": "iGpNMlXDQoJ2",
        "colab": {
          "base_uri": "https://localhost:8080/"
        },
        "outputId": "b309b465-c1a5-46eb-fc82-7a2cb629b5d4"
      },
      "execution_count": 119,
      "outputs": [
        {
          "output_type": "stream",
          "name": "stdout",
          "text": [
            "14.5\n"
          ]
        }
      ]
    },
    {
      "cell_type": "code",
      "source": [
        "inf=Q1-1.5*IQR\n",
        "print(inf)"
      ],
      "metadata": {
        "id": "tFmOV_0nQoHi",
        "colab": {
          "base_uri": "https://localhost:8080/"
        },
        "outputId": "42baf69e-f30a-43a5-e239-84ee2d9820b3"
      },
      "execution_count": 120,
      "outputs": [
        {
          "output_type": "stream",
          "name": "stdout",
          "text": [
            "-5.5\n"
          ]
        }
      ]
    },
    {
      "cell_type": "code",
      "source": [
        "v=np.array(dataa['Cloud3pm'])"
      ],
      "metadata": {
        "id": "AOH2zIcsQoDE"
      },
      "execution_count": 121,
      "outputs": []
    },
    {
      "cell_type": "code",
      "source": [
        "inferior =np.where(dataa['Cloud3pm'] <= (Q1-1.5*IQR))\n",
        "print(\"limite inferior:\", inferior)"
      ],
      "metadata": {
        "id": "fjvPL7sQQn_E",
        "colab": {
          "base_uri": "https://localhost:8080/"
        },
        "outputId": "2f41732a-3d5c-472f-ce9d-539bc9b91c36"
      },
      "execution_count": 122,
      "outputs": [
        {
          "output_type": "stream",
          "name": "stdout",
          "text": [
            "limite inferior: (array([], dtype=int64),)\n"
          ]
        }
      ]
    },
    {
      "cell_type": "code",
      "source": [
        "superior = np.where(dataa['Cloud3pm'] >= (Q3+1.5*IQR))\n",
        "print(\"limite superior:\", superior)"
      ],
      "metadata": {
        "id": "732DXAkbQn8R",
        "colab": {
          "base_uri": "https://localhost:8080/"
        },
        "outputId": "19907a68-43de-4df0-cdac-c70380ad75bc"
      },
      "execution_count": 123,
      "outputs": [
        {
          "output_type": "stream",
          "name": "stdout",
          "text": [
            "limite superior: (array([], dtype=int64),)\n"
          ]
        }
      ]
    },
    {
      "cell_type": "markdown",
      "source": [
        "##Outliers de Temp9am"
      ],
      "metadata": {
        "id": "j2dWJ9uLQ55i"
      }
    },
    {
      "cell_type": "code",
      "source": [
        "Q1=np.quantile(dataa['Temp9am'],0.25)\n",
        "Q1"
      ],
      "metadata": {
        "id": "bVw7MZnwQn5S",
        "colab": {
          "base_uri": "https://localhost:8080/"
        },
        "outputId": "3a3e72cb-6519-45d4-fe23-bdf7401748a7"
      },
      "execution_count": 124,
      "outputs": [
        {
          "output_type": "execute_result",
          "data": {
            "text/plain": [
              "13.2"
            ]
          },
          "metadata": {},
          "execution_count": 124
        }
      ]
    },
    {
      "cell_type": "code",
      "source": [
        "Q3=np.quantile(dataa['Temp9am'],0.75)\n",
        "Q3"
      ],
      "metadata": {
        "id": "9gD-8D-bQ9hO",
        "colab": {
          "base_uri": "https://localhost:8080/"
        },
        "outputId": "afe498b4-933e-4d1f-a20e-f7038d8b8e3c"
      },
      "execution_count": 125,
      "outputs": [
        {
          "output_type": "execute_result",
          "data": {
            "text/plain": [
              "23.45"
            ]
          },
          "metadata": {},
          "execution_count": 125
        }
      ]
    },
    {
      "cell_type": "code",
      "source": [
        "IQR=Q3-Q1"
      ],
      "metadata": {
        "id": "_M9SEygBQ9fE"
      },
      "execution_count": 126,
      "outputs": []
    },
    {
      "cell_type": "code",
      "source": [
        "sup=Q3+1.5*IQR\n",
        "print(sup)"
      ],
      "metadata": {
        "id": "1d2flbAdQ9cu",
        "colab": {
          "base_uri": "https://localhost:8080/"
        },
        "outputId": "914a6bc1-565c-478e-ac29-aacfe2fb0297"
      },
      "execution_count": 127,
      "outputs": [
        {
          "output_type": "stream",
          "name": "stdout",
          "text": [
            "38.825\n"
          ]
        }
      ]
    },
    {
      "cell_type": "code",
      "source": [
        "inf=Q1-1.5*IQR\n",
        "print(inf)"
      ],
      "metadata": {
        "id": "Awu1HnngQ9aO",
        "colab": {
          "base_uri": "https://localhost:8080/"
        },
        "outputId": "8aa63b70-f8fd-4014-acdb-5c0d24139fc0"
      },
      "execution_count": 128,
      "outputs": [
        {
          "output_type": "stream",
          "name": "stdout",
          "text": [
            "-2.1750000000000007\n"
          ]
        }
      ]
    },
    {
      "cell_type": "code",
      "source": [
        "v=np.array(dataa['Temp9am'])"
      ],
      "metadata": {
        "id": "pE_zyVTDRG6S"
      },
      "execution_count": 129,
      "outputs": []
    },
    {
      "cell_type": "code",
      "source": [
        "inferior =np.where(dataa['Temp9am'] <= (Q1-1.5*IQR))\n",
        "print(\"limite inferior:\", inferior)"
      ],
      "metadata": {
        "id": "SklShT8NRG1S",
        "colab": {
          "base_uri": "https://localhost:8080/"
        },
        "outputId": "1f9e3c02-40f6-4b66-f6f3-b18f30f7b8dd"
      },
      "execution_count": 130,
      "outputs": [
        {
          "output_type": "stream",
          "name": "stdout",
          "text": [
            "limite inferior: (array([], dtype=int64),)\n"
          ]
        }
      ]
    },
    {
      "cell_type": "code",
      "source": [
        "superior = np.where(dataa['Temp9am'] >= (Q3+1.5*IQR))\n",
        "print(\"limite superior:\", superior)"
      ],
      "metadata": {
        "id": "ph1nPFkORGyz",
        "colab": {
          "base_uri": "https://localhost:8080/"
        },
        "outputId": "7c087bdf-4a03-4068-d302-c12299ef789a"
      },
      "execution_count": 131,
      "outputs": [
        {
          "output_type": "stream",
          "name": "stdout",
          "text": [
            "limite superior: (array([], dtype=int64),)\n"
          ]
        }
      ]
    },
    {
      "cell_type": "markdown",
      "source": [
        "##Outliers de Temp3pm"
      ],
      "metadata": {
        "id": "dqGxcsZBRPPb"
      }
    },
    {
      "cell_type": "code",
      "source": [
        "Q1=np.quantile(dataa['Temp3pm'],0.25)\n",
        "Q1"
      ],
      "metadata": {
        "id": "Xu26SgKqRQEe",
        "colab": {
          "base_uri": "https://localhost:8080/"
        },
        "outputId": "7b7a75dd-2a16-4b64-ffac-f46b8a113f6f"
      },
      "execution_count": 132,
      "outputs": [
        {
          "output_type": "execute_result",
          "data": {
            "text/plain": [
              "17.5"
            ]
          },
          "metadata": {},
          "execution_count": 132
        }
      ]
    },
    {
      "cell_type": "code",
      "source": [
        "Q3=np.quantile(dataa['Temp3pm'],0.75)\n",
        "Q3"
      ],
      "metadata": {
        "id": "SaJeuZZPRQ5y",
        "colab": {
          "base_uri": "https://localhost:8080/"
        },
        "outputId": "1f7a4503-8a67-4d2a-9f11-b1fae5bd5b22"
      },
      "execution_count": 133,
      "outputs": [
        {
          "output_type": "execute_result",
          "data": {
            "text/plain": [
              "28.0"
            ]
          },
          "metadata": {},
          "execution_count": 133
        }
      ]
    },
    {
      "cell_type": "code",
      "source": [
        "IQR=Q3-Q1"
      ],
      "metadata": {
        "id": "UX5ASJ7XRQz6"
      },
      "execution_count": 134,
      "outputs": []
    },
    {
      "cell_type": "code",
      "source": [
        "sup=Q3+1.5*IQR\n",
        "print(sup)"
      ],
      "metadata": {
        "id": "zG_5VcdrRQw6",
        "colab": {
          "base_uri": "https://localhost:8080/"
        },
        "outputId": "2ca342f3-0a51-413e-a45c-b4bcf2194775"
      },
      "execution_count": 135,
      "outputs": [
        {
          "output_type": "stream",
          "name": "stdout",
          "text": [
            "43.75\n"
          ]
        }
      ]
    },
    {
      "cell_type": "code",
      "source": [
        "inf=Q1-1.5*IQR\n",
        "print(inf)"
      ],
      "metadata": {
        "id": "SPVkq7PxRQuc",
        "colab": {
          "base_uri": "https://localhost:8080/"
        },
        "outputId": "00bf0d7f-23ef-400d-dd73-29fcf732f09a"
      },
      "execution_count": 136,
      "outputs": [
        {
          "output_type": "stream",
          "name": "stdout",
          "text": [
            "1.75\n"
          ]
        }
      ]
    },
    {
      "cell_type": "code",
      "source": [
        "v=np.array(dataa['Temp3pm'])"
      ],
      "metadata": {
        "id": "3r-pwKiqRZqj"
      },
      "execution_count": 137,
      "outputs": []
    },
    {
      "cell_type": "code",
      "source": [
        "inferior =np.where(dataa['Temp3pm'] <= (Q1-1.5*IQR))\n",
        "print(\"limite inferior:\", inferior)"
      ],
      "metadata": {
        "id": "1WYslKrxRQsG",
        "colab": {
          "base_uri": "https://localhost:8080/"
        },
        "outputId": "99c54d95-a708-4802-f842-128adf0a4fd5"
      },
      "execution_count": 138,
      "outputs": [
        {
          "output_type": "stream",
          "name": "stdout",
          "text": [
            "limite inferior: (array([], dtype=int64),)\n"
          ]
        }
      ]
    },
    {
      "cell_type": "code",
      "source": [
        "superior = np.where(dataa['Temp3pm'] >= (Q3+1.5*IQR))\n",
        "print(\"limite superior:\", superior)"
      ],
      "metadata": {
        "id": "H7cokBAHRQpm",
        "colab": {
          "base_uri": "https://localhost:8080/"
        },
        "outputId": "89ae1861-59d9-4e85-8d8d-09b309bd53dc"
      },
      "execution_count": 139,
      "outputs": [
        {
          "output_type": "stream",
          "name": "stdout",
          "text": [
            "limite superior: (array([], dtype=int64),)\n"
          ]
        }
      ]
    },
    {
      "cell_type": "markdown",
      "metadata": {
        "id": "AQ_hKCmuwVVy"
      },
      "source": [
        "# 5. Análisis univariado"
      ]
    },
    {
      "cell_type": "markdown",
      "metadata": {
        "id": "J38YUKIXwkud"
      },
      "source": [
        "\n",
        "*   Explorar la variable objetivo RainTomorrow\n",
        "*   Resultados del Análisis Univariado"
      ]
    },
    {
      "cell_type": "code",
      "execution_count": 140,
      "metadata": {
        "id": "EK_MZS0GxmxB",
        "colab": {
          "base_uri": "https://localhost:8080/"
        },
        "outputId": "fd2a3573-9cf4-4124-e309-eecc7afbfda1"
      },
      "outputs": [
        {
          "output_type": "execute_result",
          "data": {
            "text/plain": [
              "4        Yes\n",
              "8         No\n",
              "10        No\n",
              "12        No\n",
              "14        No\n",
              "        ... \n",
              "14536     No\n",
              "14537    Yes\n",
              "14538    Yes\n",
              "14539     No\n",
              "14543    Yes\n",
              "Name: RainTomorrow, Length: 5679, dtype: object"
            ]
          },
          "metadata": {},
          "execution_count": 140
        }
      ],
      "source": [
        "Rain=dataa.RainTomorrow\n",
        "Rain"
      ]
    },
    {
      "cell_type": "code",
      "execution_count": 141,
      "metadata": {
        "id": "ac9J1O51xvL4",
        "colab": {
          "base_uri": "https://localhost:8080/"
        },
        "outputId": "8de409f2-b913-4978-dadf-3d360cb40285"
      },
      "outputs": [
        {
          "output_type": "execute_result",
          "data": {
            "text/plain": [
              "(5679,)"
            ]
          },
          "metadata": {},
          "execution_count": 141
        }
      ],
      "source": [
        "Rain.shape"
      ]
    },
    {
      "cell_type": "code",
      "execution_count": 142,
      "metadata": {
        "id": "S6SPwWQ6xyBg",
        "colab": {
          "base_uri": "https://localhost:8080/"
        },
        "outputId": "53b80a03-0b24-4580-b9c3-125bf5b06e95"
      },
      "outputs": [
        {
          "output_type": "execute_result",
          "data": {
            "text/plain": [
              "<bound method NDFrame.describe of 4        Yes\n",
              "8         No\n",
              "10        No\n",
              "12        No\n",
              "14        No\n",
              "        ... \n",
              "14536     No\n",
              "14537    Yes\n",
              "14538    Yes\n",
              "14539     No\n",
              "14543    Yes\n",
              "Name: RainTomorrow, Length: 5679, dtype: object>"
            ]
          },
          "metadata": {},
          "execution_count": 142
        }
      ],
      "source": [
        "Rain.describe"
      ]
    },
    {
      "cell_type": "code",
      "execution_count": 143,
      "metadata": {
        "id": "TPIrcAgHx03A",
        "colab": {
          "base_uri": "https://localhost:8080/"
        },
        "outputId": "987282a2-269f-4f8f-fc90-74568f1c9c63"
      },
      "outputs": [
        {
          "output_type": "execute_result",
          "data": {
            "text/plain": [
              "0"
            ]
          },
          "metadata": {},
          "execution_count": 143
        }
      ],
      "source": [
        "Rain.isna().sum()"
      ]
    },
    {
      "cell_type": "markdown",
      "metadata": {
        "id": "OOlaquxfx_Gz"
      },
      "source": [
        "# 6. Análisis bivariado"
      ]
    },
    {
      "cell_type": "markdown",
      "metadata": {
        "id": "3SgfDfdayKu5"
      },
      "source": [
        "\n",
        "\n",
        "*   Tipos de variables\n",
        "\n",
        "*   Explorar variables categóricas\n",
        "\n",
        "*   Resumen de variables categóricas\n",
        "\n",
        "*   Explorar problemas dentro de variables categóricas\n",
        "*   Explorar variables numéricas\n",
        "\n",
        "\n",
        "*   Resumen de variables numéricas \n",
        "\n",
        "\n",
        "*   Explorar problemas dentro de variables numéricas\n"
      ]
    },
    {
      "cell_type": "code",
      "execution_count": 144,
      "metadata": {
        "id": "1yrUu48QQS1u",
        "colab": {
          "base_uri": "https://localhost:8080/"
        },
        "outputId": "2437c71f-59b9-4825-8d87-b94fda36a423"
      },
      "outputs": [
        {
          "output_type": "execute_result",
          "data": {
            "text/plain": [
              "4         0.2\n",
              "8         0.0\n",
              "10        3.8\n",
              "12        0.0\n",
              "14        0.0\n",
              "         ... \n",
              "14536     0.0\n",
              "14537     0.0\n",
              "14538    11.8\n",
              "14539     0.0\n",
              "14543     2.8\n",
              "Name: Rainfall, Length: 5679, dtype: float64"
            ]
          },
          "metadata": {},
          "execution_count": 144
        }
      ],
      "source": [
        "Rainf=dataa.Rainfall\n",
        "Rainf"
      ]
    },
    {
      "cell_type": "code",
      "execution_count": 145,
      "metadata": {
        "id": "OWwgknNEQfCW",
        "colab": {
          "base_uri": "https://localhost:8080/"
        },
        "outputId": "aa0737c0-ad6a-47de-aaef-2926db5bb083"
      },
      "outputs": [
        {
          "output_type": "execute_result",
          "data": {
            "text/plain": [
              "dtype('float64')"
            ]
          },
          "metadata": {},
          "execution_count": 145
        }
      ],
      "source": [
        "Rainf.dtypes"
      ]
    },
    {
      "cell_type": "code",
      "execution_count": 146,
      "metadata": {
        "id": "fGSzMSAKQjVe",
        "colab": {
          "base_uri": "https://localhost:8080/"
        },
        "outputId": "497d09a8-d5e0-4a95-81f4-0cfcbef678ac"
      },
      "outputs": [
        {
          "output_type": "execute_result",
          "data": {
            "text/plain": [
              "dtype('O')"
            ]
          },
          "metadata": {},
          "execution_count": 146
        }
      ],
      "source": [
        "Rain.dtypes"
      ]
    },
    {
      "cell_type": "code",
      "execution_count": 147,
      "metadata": {
        "id": "z3DFp9SGQtu6",
        "colab": {
          "base_uri": "https://localhost:8080/"
        },
        "outputId": "53ea650e-f8a8-4c5c-d559-cc932c24cc87"
      },
      "outputs": [
        {
          "output_type": "execute_result",
          "data": {
            "text/plain": [
              "(5679,)"
            ]
          },
          "metadata": {},
          "execution_count": 147
        }
      ],
      "source": [
        "Rainf.shape"
      ]
    },
    {
      "cell_type": "code",
      "execution_count": 148,
      "metadata": {
        "id": "wyX3Of0dQx1J",
        "colab": {
          "base_uri": "https://localhost:8080/"
        },
        "outputId": "2b6060c9-0823-46de-f0d2-511549361b84"
      },
      "outputs": [
        {
          "output_type": "execute_result",
          "data": {
            "text/plain": [
              "<bound method NDFrame.describe of 4         0.2\n",
              "8         0.0\n",
              "10        3.8\n",
              "12        0.0\n",
              "14        0.0\n",
              "         ... \n",
              "14536     0.0\n",
              "14537     0.0\n",
              "14538    11.8\n",
              "14539     0.0\n",
              "14543     2.8\n",
              "Name: Rainfall, Length: 5679, dtype: float64>"
            ]
          },
          "metadata": {},
          "execution_count": 148
        }
      ],
      "source": [
        "Rainf.describe"
      ]
    },
    {
      "cell_type": "code",
      "execution_count": 149,
      "metadata": {
        "id": "bdH0b2ynQ1ph",
        "colab": {
          "base_uri": "https://localhost:8080/"
        },
        "outputId": "b5f99be8-0eed-40fa-ee1f-c8851ec92722"
      },
      "outputs": [
        {
          "output_type": "execute_result",
          "data": {
            "text/plain": [
              "0"
            ]
          },
          "metadata": {},
          "execution_count": 149
        }
      ],
      "source": [
        "Rainf.isna().sum()"
      ]
    },
    {
      "cell_type": "code",
      "execution_count": 150,
      "metadata": {
        "id": "OXHAEpfWlhXv",
        "colab": {
          "base_uri": "https://localhost:8080/",
          "height": 387
        },
        "outputId": "d3e67904-eaac-4a89-ca0c-3825f2e9111a"
      },
      "outputs": [
        {
          "output_type": "execute_result",
          "data": {
            "text/plain": [
              "<seaborn.axisgrid.FacetGrid at 0x7fe68699c970>"
            ]
          },
          "metadata": {},
          "execution_count": 150
        },
        {
          "output_type": "display_data",
          "data": {
            "text/plain": [
              "<Figure size 437.875x360 with 1 Axes>"
            ],
            "image/png": "[encoded data removed]"
          },
          "metadata": {
            "needs_background": "light"
          }
        }
      ],
      "source": [
        "sns.displot(data=dataa, x=\"Rainfall\", hue=\"RainTomorrow\", kind=\"kde\")"
      ]
    },
    {
      "cell_type": "code",
      "execution_count": 151,
      "metadata": {
        "id": "FtpvvDZSl7yP",
        "colab": {
          "base_uri": "https://localhost:8080/",
          "height": 270
        },
        "outputId": "50621ef2-a835-4010-92c0-1e73e7158f31"
      },
      "outputs": [
        {
          "output_type": "execute_result",
          "data": {
            "text/plain": [
              "<AxesSubplot:ylabel='Rainfall'>"
            ]
          },
          "metadata": {},
          "execution_count": 151
        },
        {
          "output_type": "display_data",
          "data": {
            "text/plain": [
              "<Figure size 432x288 with 1 Axes>"
            ],
            "image/png": "[encoded data removed]"
          },
          "metadata": {
            "needs_background": "light"
          }
        }
      ],
      "source": [
        "#sns.boxplot(x=\"Rainfall\",y=\"RainTomorrow\",data=dataa)\n",
        "sns.boxplot(y =df['Rainfall'])\n"
      ]
    },
    {
      "cell_type": "markdown",
      "metadata": {
        "id": "1LTM1xugRZCk"
      },
      "source": [
        "# 7. Análisis multivariado"
      ]
    },
    {
      "cell_type": "markdown",
      "metadata": {
        "id": "pNfldKbARfN-"
      },
      "source": [
        "\n",
        "\n",
        "*   Mapa de calor\n",
        "*   Pairplot"
      ]
    },
    {
      "cell_type": "code",
      "execution_count": 152,
      "metadata": {
        "id": "aTfiNoa9RqD5",
        "colab": {
          "base_uri": "https://localhost:8080/",
          "height": 487
        },
        "outputId": "8345eb25-1886-4853-b681-435730a9c0cd"
      },
      "outputs": [
        {
          "output_type": "execute_result",
          "data": {
            "text/plain": [
              "       MinTemp  MaxTemp  Rainfall  Evaporation  Sunshine  WindGustSpeed  \\\n",
              "4         25.1     33.1       0.2          8.6       3.3           46.0   \n",
              "8         17.5     28.6       0.0          6.4      10.7           39.0   \n",
              "10         5.3     12.8       3.8          0.4       5.6           56.0   \n",
              "12        12.4     34.5       0.0          8.2      13.0           44.0   \n",
              "14        15.8     29.1       0.0         11.6      11.7           39.0   \n",
              "...        ...      ...       ...          ...       ...            ...   \n",
              "14536     15.6     24.5       0.0          0.4       9.5           41.0   \n",
              "14537     21.6     29.9       0.0          7.2       4.9           48.0   \n",
              "14538      4.2      9.8      11.8          3.2       7.6           69.0   \n",
              "14539     16.4     26.6       0.0          5.4      10.8           19.0   \n",
              "14543     23.9     33.0       2.8          2.0       6.7           54.0   \n",
              "\n",
              "       WindSpeed9am  WindSpeed3pm  Humidity9am  Humidity3pm  ...  \\\n",
              "4              17.0          24.0         66.0         53.0  ...   \n",
              "8              17.0          26.0         48.0         42.0  ...   \n",
              "10             15.0          15.0         64.0         56.0  ...   \n",
              "12             13.0          31.0         44.0         24.0  ...   \n",
              "14             11.0          30.0         39.0         39.0  ...   \n",
              "...             ...           ...          ...          ...  ...   \n",
              "14536          17.0          26.0         90.0         58.0  ...   \n",
              "14537           9.0          26.0         82.0         86.0  ...   \n",
              "14538          33.0          24.0         76.0         85.0  ...   \n",
              "14539           6.0           9.0         66.0         51.0  ...   \n",
              "14543          19.0          24.0         77.0         65.0  ...   \n",
              "\n",
              "       WindDir3pm_S  WindDir3pm_SE  WindDir3pm_SSE  WindDir3pm_SSW  \\\n",
              "4                 0              0               0               0   \n",
              "8                 0              0               0               0   \n",
              "10                0              0               0               1   \n",
              "12                0              0               0               0   \n",
              "14                0              0               0               0   \n",
              "...             ...            ...             ...             ...   \n",
              "14536             0              0               0               0   \n",
              "14537             1              0               0               0   \n",
              "14538             1              0               0               0   \n",
              "14539             0              0               0               0   \n",
              "14543             0              0               0               0   \n",
              "\n",
              "       WindDir3pm_SW  WindDir3pm_W  WindDir3pm_WNW  WindDir3pm_WSW  \\\n",
              "4                  0             0               0               0   \n",
              "8                  0             0               0               0   \n",
              "10                 0             0               0               0   \n",
              "12                 1             0               0               0   \n",
              "14                 0             0               0               0   \n",
              "...              ...           ...             ...             ...   \n",
              "14536              0             1               0               0   \n",
              "14537              0             0               0               0   \n",
              "14538              0             0               0               0   \n",
              "14539              0             0               0               0   \n",
              "14543              0             1               0               0   \n",
              "\n",
              "       RainToday_Yes  RainTomorrow_Yes  \n",
              "4                  0                 1  \n",
              "8                  0                 0  \n",
              "10                 1                 0  \n",
              "12                 0                 0  \n",
              "14                 0                 0  \n",
              "...              ...               ...  \n",
              "14536              0                 0  \n",
              "14537              0                 1  \n",
              "14538              1                 1  \n",
              "14539              0                 0  \n",
              "14543              1                 1  \n",
              "\n",
              "[5679 rows x 63 columns]"
            ],
            "text/html": [
              "\n",
              "  <div id=\"df-7232caa0-d00e-4568-81a3-4ec8ae853c76\">\n",
              "    <div class=\"colab-df-container\">\n",
              "      <div>\n",
              "<style scoped>\n",
              "    .dataframe tbody tr th:only-of-type {\n",
              "        vertical-align: middle;\n",
              "    }\n",
              "\n",
              "    .dataframe tbody tr th {\n",
              "        vertical-align: top;\n",
              "    }\n",
              "\n",
              "    .dataframe thead th {\n",
              "        text-align: right;\n",
              "    }\n",
              "</style>\n",
              "<table border=\"1\" class=\"dataframe\">\n",
              "  <thead>\n",
              "    <tr style=\"text-align: right;\">\n",
              "      <th></th>\n",
              "      <th>MinTemp</th>\n",
              "      <th>MaxTemp</th>\n",
              "      <th>Rainfall</th>\n",
              "      <th>Evaporation</th>\n",
              "      <th>Sunshine</th>\n",
              "      <th>WindGustSpeed</th>\n",
              "      <th>WindSpeed9am</th>\n",
              "      <th>WindSpeed3pm</th>\n",
              "      <th>Humidity9am</th>\n",
              "      <th>Humidity3pm</th>\n",
              "      <th>...</th>\n",
              "      <th>WindDir3pm_S</th>\n",
              "      <th>WindDir3pm_SE</th>\n",
              "      <th>WindDir3pm_SSE</th>\n",
              "      <th>WindDir3pm_SSW</th>\n",
              "      <th>WindDir3pm_SW</th>\n",
              "      <th>WindDir3pm_W</th>\n",
              "      <th>WindDir3pm_WNW</th>\n",
              "      <th>WindDir3pm_WSW</th>\n",
              "      <th>RainToday_Yes</th>\n",
              "      <th>RainTomorrow_Yes</th>\n",
              "    </tr>\n",
              "  </thead>\n",
              "  <tbody>\n",
              "    <tr>\n",
              "      <th>4</th>\n",
              "      <td>25.1</td>\n",
              "      <td>33.1</td>\n",
              "      <td>0.2</td>\n",
              "      <td>8.6</td>\n",
              "      <td>3.3</td>\n",
              "      <td>46.0</td>\n",
              "      <td>17.0</td>\n",
              "      <td>24.0</td>\n",
              "      <td>66.0</td>\n",
              "      <td>53.0</td>\n",
              "      <td>...</td>\n",
              "      <td>0</td>\n",
              "      <td>0</td>\n",
              "      <td>0</td>\n",
              "      <td>0</td>\n",
              "      <td>0</td>\n",
              "      <td>0</td>\n",
              "      <td>0</td>\n",
              "      <td>0</td>\n",
              "      <td>0</td>\n",
              "      <td>1</td>\n",
              "    </tr>\n",
              "    <tr>\n",
              "      <th>8</th>\n",
              "      <td>17.5</td>\n",
              "      <td>28.6</td>\n",
              "      <td>0.0</td>\n",
              "      <td>6.4</td>\n",
              "      <td>10.7</td>\n",
              "      <td>39.0</td>\n",
              "      <td>17.0</td>\n",
              "      <td>26.0</td>\n",
              "      <td>48.0</td>\n",
              "      <td>42.0</td>\n",
              "      <td>...</td>\n",
              "      <td>0</td>\n",
              "      <td>0</td>\n",
              "      <td>0</td>\n",
              "      <td>0</td>\n",
              "      <td>0</td>\n",
              "      <td>0</td>\n",
              "      <td>0</td>\n",
              "      <td>0</td>\n",
              "      <td>0</td>\n",
              "      <td>0</td>\n",
              "    </tr>\n",
              "    <tr>\n",
              "      <th>10</th>\n",
              "      <td>5.3</td>\n",
              "      <td>12.8</td>\n",
              "      <td>3.8</td>\n",
              "      <td>0.4</td>\n",
              "      <td>5.6</td>\n",
              "      <td>56.0</td>\n",
              "      <td>15.0</td>\n",
              "      <td>15.0</td>\n",
              "      <td>64.0</td>\n",
              "      <td>56.0</td>\n",
              "      <td>...</td>\n",
              "      <td>0</td>\n",
              "      <td>0</td>\n",
              "      <td>0</td>\n",
              "      <td>1</td>\n",
              "      <td>0</td>\n",
              "      <td>0</td>\n",
              "      <td>0</td>\n",
              "      <td>0</td>\n",
              "      <td>1</td>\n",
              "      <td>0</td>\n",
              "    </tr>\n",
              "    <tr>\n",
              "      <th>12</th>\n",
              "      <td>12.4</td>\n",
              "      <td>34.5</td>\n",
              "      <td>0.0</td>\n",
              "      <td>8.2</td>\n",
              "      <td>13.0</td>\n",
              "      <td>44.0</td>\n",
              "      <td>13.0</td>\n",
              "      <td>31.0</td>\n",
              "      <td>44.0</td>\n",
              "      <td>24.0</td>\n",
              "      <td>...</td>\n",
              "      <td>0</td>\n",
              "      <td>0</td>\n",
              "      <td>0</td>\n",
              "      <td>0</td>\n",
              "      <td>1</td>\n",
              "      <td>0</td>\n",
              "      <td>0</td>\n",
              "      <td>0</td>\n",
              "      <td>0</td>\n",
              "      <td>0</td>\n",
              "    </tr>\n",
              "    <tr>\n",
              "      <th>14</th>\n",
              "      <td>15.8</td>\n",
              "      <td>29.1</td>\n",
              "      <td>0.0</td>\n",
              "      <td>11.6</td>\n",
              "      <td>11.7</td>\n",
              "      <td>39.0</td>\n",
              "      <td>11.0</td>\n",
              "      <td>30.0</td>\n",
              "      <td>39.0</td>\n",
              "      <td>39.0</td>\n",
              "      <td>...</td>\n",
              "      <td>0</td>\n",
              "      <td>0</td>\n",
              "      <td>0</td>\n",
              "      <td>0</td>\n",
              "      <td>0</td>\n",
              "      <td>0</td>\n",
              "      <td>0</td>\n",
              "      <td>0</td>\n",
              "      <td>0</td>\n",
              "      <td>0</td>\n",
              "    </tr>\n",
              "    <tr>\n",
              "      <th>...</th>\n",
              "      <td>...</td>\n",
              "      <td>...</td>\n",
              "      <td>...</td>\n",
              "      <td>...</td>\n",
              "      <td>...</td>\n",
              "      <td>...</td>\n",
              "      <td>...</td>\n",
              "      <td>...</td>\n",
              "      <td>...</td>\n",
              "      <td>...</td>\n",
              "      <td>...</td>\n",
              "      <td>...</td>\n",
              "      <td>...</td>\n",
              "      <td>...</td>\n",
              "      <td>...</td>\n",
              "      <td>...</td>\n",
              "      <td>...</td>\n",
              "      <td>...</td>\n",
              "      <td>...</td>\n",
              "      <td>...</td>\n",
              "      <td>...</td>\n",
              "    </tr>\n",
              "    <tr>\n",
              "      <th>14536</th>\n",
              "      <td>15.6</td>\n",
              "      <td>24.5</td>\n",
              "      <td>0.0</td>\n",
              "      <td>0.4</td>\n",
              "      <td>9.5</td>\n",
              "      <td>41.0</td>\n",
              "      <td>17.0</td>\n",
              "      <td>26.0</td>\n",
              "      <td>90.0</td>\n",
              "      <td>58.0</td>\n",
              "      <td>...</td>\n",
              "      <td>0</td>\n",
              "      <td>0</td>\n",
              "      <td>0</td>\n",
              "      <td>0</td>\n",
              "      <td>0</td>\n",
              "      <td>1</td>\n",
              "      <td>0</td>\n",
              "      <td>0</td>\n",
              "      <td>0</td>\n",
              "      <td>0</td>\n",
              "    </tr>\n",
              "    <tr>\n",
              "      <th>14537</th>\n",
              "      <td>21.6</td>\n",
              "      <td>29.9</td>\n",
              "      <td>0.0</td>\n",
              "      <td>7.2</td>\n",
              "      <td>4.9</td>\n",
              "      <td>48.0</td>\n",
              "      <td>9.0</td>\n",
              "      <td>26.0</td>\n",
              "      <td>82.0</td>\n",
              "      <td>86.0</td>\n",
              "      <td>...</td>\n",
              "      <td>1</td>\n",
              "      <td>0</td>\n",
              "      <td>0</td>\n",
              "      <td>0</td>\n",
              "      <td>0</td>\n",
              "      <td>0</td>\n",
              "      <td>0</td>\n",
              "      <td>0</td>\n",
              "      <td>0</td>\n",
              "      <td>1</td>\n",
              "    </tr>\n",
              "    <tr>\n",
              "      <th>14538</th>\n",
              "      <td>4.2</td>\n",
              "      <td>9.8</td>\n",
              "      <td>11.8</td>\n",
              "      <td>3.2</td>\n",
              "      <td>7.6</td>\n",
              "      <td>69.0</td>\n",
              "      <td>33.0</td>\n",
              "      <td>24.0</td>\n",
              "      <td>76.0</td>\n",
              "      <td>85.0</td>\n",
              "      <td>...</td>\n",
              "      <td>1</td>\n",
              "      <td>0</td>\n",
              "      <td>0</td>\n",
              "      <td>0</td>\n",
              "      <td>0</td>\n",
              "      <td>0</td>\n",
              "      <td>0</td>\n",
              "      <td>0</td>\n",
              "      <td>1</td>\n",
              "      <td>1</td>\n",
              "    </tr>\n",
              "    <tr>\n",
              "      <th>14539</th>\n",
              "      <td>16.4</td>\n",
              "      <td>26.6</td>\n",
              "      <td>0.0</td>\n",
              "      <td>5.4</td>\n",
              "      <td>10.8</td>\n",
              "      <td>19.0</td>\n",
              "      <td>6.0</td>\n",
              "      <td>9.0</td>\n",
              "      <td>66.0</td>\n",
              "      <td>51.0</td>\n",
              "      <td>...</td>\n",
              "      <td>0</td>\n",
              "      <td>0</td>\n",
              "      <td>0</td>\n",
              "      <td>0</td>\n",
              "      <td>0</td>\n",
              "      <td>0</td>\n",
              "      <td>0</td>\n",
              "      <td>0</td>\n",
              "      <td>0</td>\n",
              "      <td>0</td>\n",
              "    </tr>\n",
              "    <tr>\n",
              "      <th>14543</th>\n",
              "      <td>23.9</td>\n",
              "      <td>33.0</td>\n",
              "      <td>2.8</td>\n",
              "      <td>2.0</td>\n",
              "      <td>6.7</td>\n",
              "      <td>54.0</td>\n",
              "      <td>19.0</td>\n",
              "      <td>24.0</td>\n",
              "      <td>77.0</td>\n",
              "      <td>65.0</td>\n",
              "      <td>...</td>\n",
              "      <td>0</td>\n",
              "      <td>0</td>\n",
              "      <td>0</td>\n",
              "      <td>0</td>\n",
              "      <td>0</td>\n",
              "      <td>1</td>\n",
              "      <td>0</td>\n",
              "      <td>0</td>\n",
              "      <td>1</td>\n",
              "      <td>1</td>\n",
              "    </tr>\n",
              "  </tbody>\n",
              "</table>\n",
              "<p>5679 rows × 63 columns</p>\n",
              "</div>\n",
              "      <button class=\"colab-df-convert\" onclick=\"convertToInteractive('df-7232caa0-d00e-4568-81a3-4ec8ae853c76')\"\n",
              "              title=\"Convert this dataframe to an interactive table.\"\n",
              "              style=\"display:none;\">\n",
              "        \n",
              "  <svg xmlns=\"http://www.w3.org/2000/svg\" height=\"24px\"viewBox=\"0 0 24 24\"\n",
              "       width=\"24px\">\n",
              "    <path d=\"M0 0h24v24H0V0z\" fill=\"none\"/>\n",
              "    <path d=\"M18.56 5.44l.94 2.06.94-2.06 2.06-.94-2.06-.94-.94-2.06-.94 2.06-2.06.94zm-11 1L8.5 8.5l.94-2.06 2.06-.94-2.06-.94L8.5 2.5l-.94 2.06-2.06.94zm10 10l.94 2.06.94-2.06 2.06-.94-2.06-.94-.94-2.06-.94 2.06-2.06.94z\"/><path d=\"M17.41 7.96l-1.37-1.37c-.4-.4-.92-.59-1.43-.59-.52 0-1.04.2-1.43.59L10.3 9.45l-7.72 7.72c-.78.78-.78 2.05 0 2.83L4 21.41c.39.39.9.59 1.41.59.51 0 1.02-.2 1.41-.59l7.78-7.78 2.81-2.81c.8-.78.8-2.07 0-2.86zM5.41 20L4 18.59l7.72-7.72 1.47 1.35L5.41 20z\"/>\n",
              "  </svg>\n",
              "      </button>\n",
              "      \n",
              "  <style>\n",
              "    .colab-df-container {\n",
              "      display:flex;\n",
              "      flex-wrap:wrap;\n",
              "      gap: 12px;\n",
              "    }\n",
              "\n",
              "    .colab-df-convert {\n",
              "      background-color: #E8F0FE;\n",
              "      border: none;\n",
              "      border-radius: 50%;\n",
              "      cursor: pointer;\n",
              "      display: none;\n",
              "      fill: #1967D2;\n",
              "      height: 32px;\n",
              "      padding: 0 0 0 0;\n",
              "      width: 32px;\n",
              "    }\n",
              "\n",
              "    .colab-df-convert:hover {\n",
              "      background-color: #E2EBFA;\n",
              "      box-shadow: 0px 1px 2px rgba(60, 64, 67, 0.3), 0px 1px 3px 1px rgba(60, 64, 67, 0.15);\n",
              "      fill: #174EA6;\n",
              "    }\n",
              "\n",
              "    [theme=dark] .colab-df-convert {\n",
              "      background-color: #3B4455;\n",
              "      fill: #D2E3FC;\n",
              "    }\n",
              "\n",
              "    [theme=dark] .colab-df-convert:hover {\n",
              "      background-color: #434B5C;\n",
              "      box-shadow: 0px 1px 3px 1px rgba(0, 0, 0, 0.15);\n",
              "      filter: drop-shadow(0px 1px 2px rgba(0, 0, 0, 0.3));\n",
              "      fill: #FFFFFF;\n",
              "    }\n",
              "  </style>\n",
              "\n",
              "      <script>\n",
              "        const buttonEl =\n",
              "          document.querySelector('#df-7232caa0-d00e-4568-81a3-4ec8ae853c76 button.colab-df-convert');\n",
              "        buttonEl.style.display =\n",
              "          google.colab.kernel.accessAllowed ? 'block' : 'none';\n",
              "\n",
              "        async function convertToInteractive(key) {\n",
              "          const element = document.querySelector('#df-7232caa0-d00e-4568-81a3-4ec8ae853c76');\n",
              "          const dataTable =\n",
              "            await google.colab.kernel.invokeFunction('convertToInteractive',\n",
              "                                                     [key], {});\n",
              "          if (!dataTable) return;\n",
              "\n",
              "          const docLinkHtml = 'Like what you see? Visit the ' +\n",
              "            '<a target=\"_blank\" href=https://colab.research.google.com/notebooks/data_table.ipynb>data table notebook</a>'\n",
              "            + ' to learn more about interactive tables.';\n",
              "          element.innerHTML = '';\n",
              "          dataTable['output_type'] = 'display_data';\n",
              "          await google.colab.output.renderOutput(dataTable, element);\n",
              "          const docLink = document.createElement('div');\n",
              "          docLink.innerHTML = docLinkHtml;\n",
              "          element.appendChild(docLink);\n",
              "        }\n",
              "      </script>\n",
              "    </div>\n",
              "  </div>\n",
              "  "
            ]
          },
          "metadata": {},
          "execution_count": 152
        }
      ],
      "source": [
        "dataaa=pd.get_dummies(dataa,drop_first=True)\n",
        "dataaa"
      ]
    },
    {
      "cell_type": "code",
      "execution_count": 153,
      "metadata": {
        "id": "Ivzl-V7lSDvZ",
        "colab": {
          "base_uri": "https://localhost:8080/",
          "height": 373
        },
        "outputId": "174371ed-bc73-46f0-9bd9-b4fcab45ffae"
      },
      "outputs": [
        {
          "output_type": "execute_result",
          "data": {
            "text/plain": [
              "<AxesSubplot:>"
            ]
          },
          "metadata": {},
          "execution_count": 153
        },
        {
          "output_type": "display_data",
          "data": {
            "text/plain": [
              "<Figure size 432x288 with 2 Axes>"
            ],
            "image/png": "[encoded data removed]"
          },
          "metadata": {
            "needs_background": "light"
          }
        }
      ],
      "source": [
        "sns.heatmap(dataaa)"
      ]
    },
    {
      "cell_type": "markdown",
      "metadata": {
        "id": "Zo5ZRT6VSWGj"
      },
      "source": [
        "# 8. Declarar vector de variables predictoras y variable objetivo"
      ]
    },
    {
      "cell_type": "code",
      "execution_count": 154,
      "metadata": {
        "id": "Vw76ehETSTix",
        "colab": {
          "base_uri": "https://localhost:8080/",
          "height": 299
        },
        "outputId": "bdf16d64-1f43-4a67-863b-b53ca9ff6482"
      },
      "outputs": [
        {
          "output_type": "execute_result",
          "data": {
            "text/plain": [
              "    MinTemp  MaxTemp  Rainfall  Evaporation  Sunshine  WindGustSpeed  \\\n",
              "4      25.1     33.1       0.2          8.6       3.3           46.0   \n",
              "8      17.5     28.6       0.0          6.4      10.7           39.0   \n",
              "10      5.3     12.8       3.8          0.4       5.6           56.0   \n",
              "12     12.4     34.5       0.0          8.2      13.0           44.0   \n",
              "14     15.8     29.1       0.0         11.6      11.7           39.0   \n",
              "\n",
              "    WindSpeed9am  WindSpeed3pm  Humidity9am  Humidity3pm  ...  WindDir3pm_SE  \\\n",
              "4           17.0          24.0         66.0         53.0  ...              0   \n",
              "8           17.0          26.0         48.0         42.0  ...              0   \n",
              "10          15.0          15.0         64.0         56.0  ...              0   \n",
              "12          13.0          31.0         44.0         24.0  ...              0   \n",
              "14          11.0          30.0         39.0         39.0  ...              0   \n",
              "\n",
              "    WindDir3pm_SSE  WindDir3pm_SSW  WindDir3pm_SW  WindDir3pm_W  \\\n",
              "4                0               0              0             0   \n",
              "8                0               0              0             0   \n",
              "10               0               1              0             0   \n",
              "12               0               0              1             0   \n",
              "14               0               0              0             0   \n",
              "\n",
              "    WindDir3pm_WNW  WindDir3pm_WSW  RainToday_Yes  RainTomorrow_Yes  \\\n",
              "4                0               0              0                 1   \n",
              "8                0               0              0                 0   \n",
              "10               0               0              1                 0   \n",
              "12               0               0              0                 0   \n",
              "14               0               0              0                 0   \n",
              "\n",
              "    RainTomorrow  \n",
              "4            Yes  \n",
              "8             No  \n",
              "10            No  \n",
              "12            No  \n",
              "14            No  \n",
              "\n",
              "[5 rows x 64 columns]"
            ],
            "text/html": [
              "\n",
              "  <div id=\"df-3b1901aa-a97d-4bb7-a8fd-08b7c8c63460\">\n",
              "    <div class=\"colab-df-container\">\n",
              "      <div>\n",
              "<style scoped>\n",
              "    .dataframe tbody tr th:only-of-type {\n",
              "        vertical-align: middle;\n",
              "    }\n",
              "\n",
              "    .dataframe tbody tr th {\n",
              "        vertical-align: top;\n",
              "    }\n",
              "\n",
              "    .dataframe thead th {\n",
              "        text-align: right;\n",
              "    }\n",
              "</style>\n",
              "<table border=\"1\" class=\"dataframe\">\n",
              "  <thead>\n",
              "    <tr style=\"text-align: right;\">\n",
              "      <th></th>\n",
              "      <th>MinTemp</th>\n",
              "      <th>MaxTemp</th>\n",
              "      <th>Rainfall</th>\n",
              "      <th>Evaporation</th>\n",
              "      <th>Sunshine</th>\n",
              "      <th>WindGustSpeed</th>\n",
              "      <th>WindSpeed9am</th>\n",
              "      <th>WindSpeed3pm</th>\n",
              "      <th>Humidity9am</th>\n",
              "      <th>Humidity3pm</th>\n",
              "      <th>...</th>\n",
              "      <th>WindDir3pm_SE</th>\n",
              "      <th>WindDir3pm_SSE</th>\n",
              "      <th>WindDir3pm_SSW</th>\n",
              "      <th>WindDir3pm_SW</th>\n",
              "      <th>WindDir3pm_W</th>\n",
              "      <th>WindDir3pm_WNW</th>\n",
              "      <th>WindDir3pm_WSW</th>\n",
              "      <th>RainToday_Yes</th>\n",
              "      <th>RainTomorrow_Yes</th>\n",
              "      <th>RainTomorrow</th>\n",
              "    </tr>\n",
              "  </thead>\n",
              "  <tbody>\n",
              "    <tr>\n",
              "      <th>4</th>\n",
              "      <td>25.1</td>\n",
              "      <td>33.1</td>\n",
              "      <td>0.2</td>\n",
              "      <td>8.6</td>\n",
              "      <td>3.3</td>\n",
              "      <td>46.0</td>\n",
              "      <td>17.0</td>\n",
              "      <td>24.0</td>\n",
              "      <td>66.0</td>\n",
              "      <td>53.0</td>\n",
              "      <td>...</td>\n",
              "      <td>0</td>\n",
              "      <td>0</td>\n",
              "      <td>0</td>\n",
              "      <td>0</td>\n",
              "      <td>0</td>\n",
              "      <td>0</td>\n",
              "      <td>0</td>\n",
              "      <td>0</td>\n",
              "      <td>1</td>\n",
              "      <td>Yes</td>\n",
              "    </tr>\n",
              "    <tr>\n",
              "      <th>8</th>\n",
              "      <td>17.5</td>\n",
              "      <td>28.6</td>\n",
              "      <td>0.0</td>\n",
              "      <td>6.4</td>\n",
              "      <td>10.7</td>\n",
              "      <td>39.0</td>\n",
              "      <td>17.0</td>\n",
              "      <td>26.0</td>\n",
              "      <td>48.0</td>\n",
              "      <td>42.0</td>\n",
              "      <td>...</td>\n",
              "      <td>0</td>\n",
              "      <td>0</td>\n",
              "      <td>0</td>\n",
              "      <td>0</td>\n",
              "      <td>0</td>\n",
              "      <td>0</td>\n",
              "      <td>0</td>\n",
              "      <td>0</td>\n",
              "      <td>0</td>\n",
              "      <td>No</td>\n",
              "    </tr>\n",
              "    <tr>\n",
              "      <th>10</th>\n",
              "      <td>5.3</td>\n",
              "      <td>12.8</td>\n",
              "      <td>3.8</td>\n",
              "      <td>0.4</td>\n",
              "      <td>5.6</td>\n",
              "      <td>56.0</td>\n",
              "      <td>15.0</td>\n",
              "      <td>15.0</td>\n",
              "      <td>64.0</td>\n",
              "      <td>56.0</td>\n",
              "      <td>...</td>\n",
              "      <td>0</td>\n",
              "      <td>0</td>\n",
              "      <td>1</td>\n",
              "      <td>0</td>\n",
              "      <td>0</td>\n",
              "      <td>0</td>\n",
              "      <td>0</td>\n",
              "      <td>1</td>\n",
              "      <td>0</td>\n",
              "      <td>No</td>\n",
              "    </tr>\n",
              "    <tr>\n",
              "      <th>12</th>\n",
              "      <td>12.4</td>\n",
              "      <td>34.5</td>\n",
              "      <td>0.0</td>\n",
              "      <td>8.2</td>\n",
              "      <td>13.0</td>\n",
              "      <td>44.0</td>\n",
              "      <td>13.0</td>\n",
              "      <td>31.0</td>\n",
              "      <td>44.0</td>\n",
              "      <td>24.0</td>\n",
              "      <td>...</td>\n",
              "      <td>0</td>\n",
              "      <td>0</td>\n",
              "      <td>0</td>\n",
              "      <td>1</td>\n",
              "      <td>0</td>\n",
              "      <td>0</td>\n",
              "      <td>0</td>\n",
              "      <td>0</td>\n",
              "      <td>0</td>\n",
              "      <td>No</td>\n",
              "    </tr>\n",
              "    <tr>\n",
              "      <th>14</th>\n",
              "      <td>15.8</td>\n",
              "      <td>29.1</td>\n",
              "      <td>0.0</td>\n",
              "      <td>11.6</td>\n",
              "      <td>11.7</td>\n",
              "      <td>39.0</td>\n",
              "      <td>11.0</td>\n",
              "      <td>30.0</td>\n",
              "      <td>39.0</td>\n",
              "      <td>39.0</td>\n",
              "      <td>...</td>\n",
              "      <td>0</td>\n",
              "      <td>0</td>\n",
              "      <td>0</td>\n",
              "      <td>0</td>\n",
              "      <td>0</td>\n",
              "      <td>0</td>\n",
              "      <td>0</td>\n",
              "      <td>0</td>\n",
              "      <td>0</td>\n",
              "      <td>No</td>\n",
              "    </tr>\n",
              "  </tbody>\n",
              "</table>\n",
              "<p>5 rows × 64 columns</p>\n",
              "</div>\n",
              "      <button class=\"colab-df-convert\" onclick=\"convertToInteractive('df-3b1901aa-a97d-4bb7-a8fd-08b7c8c63460')\"\n",
              "              title=\"Convert this dataframe to an interactive table.\"\n",
              "              style=\"display:none;\">\n",
              "        \n",
              "  <svg xmlns=\"http://www.w3.org/2000/svg\" height=\"24px\"viewBox=\"0 0 24 24\"\n",
              "       width=\"24px\">\n",
              "    <path d=\"M0 0h24v24H0V0z\" fill=\"none\"/>\n",
              "    <path d=\"M18.56 5.44l.94 2.06.94-2.06 2.06-.94-2.06-.94-.94-2.06-.94 2.06-2.06.94zm-11 1L8.5 8.5l.94-2.06 2.06-.94-2.06-.94L8.5 2.5l-.94 2.06-2.06.94zm10 10l.94 2.06.94-2.06 2.06-.94-2.06-.94-.94-2.06-.94 2.06-2.06.94z\"/><path d=\"M17.41 7.96l-1.37-1.37c-.4-.4-.92-.59-1.43-.59-.52 0-1.04.2-1.43.59L10.3 9.45l-7.72 7.72c-.78.78-.78 2.05 0 2.83L4 21.41c.39.39.9.59 1.41.59.51 0 1.02-.2 1.41-.59l7.78-7.78 2.81-2.81c.8-.78.8-2.07 0-2.86zM5.41 20L4 18.59l7.72-7.72 1.47 1.35L5.41 20z\"/>\n",
              "  </svg>\n",
              "      </button>\n",
              "      \n",
              "  <style>\n",
              "    .colab-df-container {\n",
              "      display:flex;\n",
              "      flex-wrap:wrap;\n",
              "      gap: 12px;\n",
              "    }\n",
              "\n",
              "    .colab-df-convert {\n",
              "      background-color: #E8F0FE;\n",
              "      border: none;\n",
              "      border-radius: 50%;\n",
              "      cursor: pointer;\n",
              "      display: none;\n",
              "      fill: #1967D2;\n",
              "      height: 32px;\n",
              "      padding: 0 0 0 0;\n",
              "      width: 32px;\n",
              "    }\n",
              "\n",
              "    .colab-df-convert:hover {\n",
              "      background-color: #E2EBFA;\n",
              "      box-shadow: 0px 1px 2px rgba(60, 64, 67, 0.3), 0px 1px 3px 1px rgba(60, 64, 67, 0.15);\n",
              "      fill: #174EA6;\n",
              "    }\n",
              "\n",
              "    [theme=dark] .colab-df-convert {\n",
              "      background-color: #3B4455;\n",
              "      fill: #D2E3FC;\n",
              "    }\n",
              "\n",
              "    [theme=dark] .colab-df-convert:hover {\n",
              "      background-color: #434B5C;\n",
              "      box-shadow: 0px 1px 3px 1px rgba(0, 0, 0, 0.15);\n",
              "      filter: drop-shadow(0px 1px 2px rgba(0, 0, 0, 0.3));\n",
              "      fill: #FFFFFF;\n",
              "    }\n",
              "  </style>\n",
              "\n",
              "      <script>\n",
              "        const buttonEl =\n",
              "          document.querySelector('#df-3b1901aa-a97d-4bb7-a8fd-08b7c8c63460 button.colab-df-convert');\n",
              "        buttonEl.style.display =\n",
              "          google.colab.kernel.accessAllowed ? 'block' : 'none';\n",
              "\n",
              "        async function convertToInteractive(key) {\n",
              "          const element = document.querySelector('#df-3b1901aa-a97d-4bb7-a8fd-08b7c8c63460');\n",
              "          const dataTable =\n",
              "            await google.colab.kernel.invokeFunction('convertToInteractive',\n",
              "                                                     [key], {});\n",
              "          if (!dataTable) return;\n",
              "\n",
              "          const docLinkHtml = 'Like what you see? Visit the ' +\n",
              "            '<a target=\"_blank\" href=https://colab.research.google.com/notebooks/data_table.ipynb>data table notebook</a>'\n",
              "            + ' to learn more about interactive tables.';\n",
              "          element.innerHTML = '';\n",
              "          dataTable['output_type'] = 'display_data';\n",
              "          await google.colab.output.renderOutput(dataTable, element);\n",
              "          const docLink = document.createElement('div');\n",
              "          docLink.innerHTML = docLinkHtml;\n",
              "          element.appendChild(docLink);\n",
              "        }\n",
              "      </script>\n",
              "    </div>\n",
              "  </div>\n",
              "  "
            ]
          },
          "metadata": {},
          "execution_count": 154
        }
      ],
      "source": [
        "code=pd.concat([dataaa,Rain], axis=1)\n",
        "code.head()"
      ]
    },
    {
      "cell_type": "markdown",
      "metadata": {
        "id": "vSnDMC53S4FC"
      },
      "source": [
        "# 9. Dividir datos en conjunto de entrenamiento y prueba"
      ]
    },
    {
      "cell_type": "code",
      "source": [
        "features=dataaa.iloc[:, :10]\n",
        "target=dataaa['RainTomorrow_Yes']\n",
        "features, target"
      ],
      "metadata": {
        "id": "keYJu_NKR88_",
        "colab": {
          "base_uri": "https://localhost:8080/"
        },
        "outputId": "a304eb62-845f-46d9-91f8-41031e3a4e34"
      },
      "execution_count": 155,
      "outputs": [
        {
          "output_type": "execute_result",
          "data": {
            "text/plain": [
              "(       MinTemp  MaxTemp  Rainfall  Evaporation  Sunshine  WindGustSpeed  \\\n",
              " 4         25.1     33.1       0.2          8.6       3.3           46.0   \n",
              " 8         17.5     28.6       0.0          6.4      10.7           39.0   \n",
              " 10         5.3     12.8       3.8          0.4       5.6           56.0   \n",
              " 12        12.4     34.5       0.0          8.2      13.0           44.0   \n",
              " 14        15.8     29.1       0.0         11.6      11.7           39.0   \n",
              " ...        ...      ...       ...          ...       ...            ...   \n",
              " 14536     15.6     24.5       0.0          0.4       9.5           41.0   \n",
              " 14537     21.6     29.9       0.0          7.2       4.9           48.0   \n",
              " 14538      4.2      9.8      11.8          3.2       7.6           69.0   \n",
              " 14539     16.4     26.6       0.0          5.4      10.8           19.0   \n",
              " 14543     23.9     33.0       2.8          2.0       6.7           54.0   \n",
              " \n",
              "        WindSpeed9am  WindSpeed3pm  Humidity9am  Humidity3pm  \n",
              " 4              17.0          24.0         66.0         53.0  \n",
              " 8              17.0          26.0         48.0         42.0  \n",
              " 10             15.0          15.0         64.0         56.0  \n",
              " 12             13.0          31.0         44.0         24.0  \n",
              " 14             11.0          30.0         39.0         39.0  \n",
              " ...             ...           ...          ...          ...  \n",
              " 14536          17.0          26.0         90.0         58.0  \n",
              " 14537           9.0          26.0         82.0         86.0  \n",
              " 14538          33.0          24.0         76.0         85.0  \n",
              " 14539           6.0           9.0         66.0         51.0  \n",
              " 14543          19.0          24.0         77.0         65.0  \n",
              " \n",
              " [5679 rows x 10 columns], 4        1\n",
              " 8        0\n",
              " 10       0\n",
              " 12       0\n",
              " 14       0\n",
              "         ..\n",
              " 14536    0\n",
              " 14537    1\n",
              " 14538    1\n",
              " 14539    0\n",
              " 14543    1\n",
              " Name: RainTomorrow_Yes, Length: 5679, dtype: uint8)"
            ]
          },
          "metadata": {},
          "execution_count": 155
        }
      ]
    },
    {
      "cell_type": "code",
      "execution_count": 156,
      "metadata": {
        "id": "GtxG5qomTEOx"
      },
      "outputs": [],
      "source": [
        "X_train,X_test,y_train,y_test=train_test_split(features,target,test_size=0.2)"
      ]
    },
    {
      "cell_type": "markdown",
      "metadata": {
        "id": "TW6Ap-uOThjJ"
      },
      "source": [
        "# 10. Ingeniería de características"
      ]
    },
    {
      "cell_type": "markdown",
      "metadata": {
        "id": "phgu7gMvTipJ"
      },
      "source": [
        "\n",
        "\n",
        "*   Ingienería de valores perdidos en variables numéricas\n",
        "\n",
        "*   Ingienería de valores perdidos en variables categóricas\n",
        "*   Ingienería de valores atípicos en variables numéricas\n",
        "\n",
        "\n",
        "*   Codificar variables categóricas\n"
      ]
    },
    {
      "cell_type": "markdown",
      "metadata": {
        "id": "yZWoxW5OTrwx"
      },
      "source": [
        "# 11. Escalado de características "
      ]
    },
    {
      "cell_type": "code",
      "execution_count": 157,
      "metadata": {
        "id": "mCa4pDsbTszB"
      },
      "outputs": [],
      "source": [
        "scaler = MinMaxScaler()"
      ]
    },
    {
      "cell_type": "code",
      "execution_count": 158,
      "metadata": {
        "id": "SBBbzCjYTz0J"
      },
      "outputs": [],
      "source": [
        "df_code_scal = scaler.fit_transform(dataaa)"
      ]
    },
    {
      "cell_type": "markdown",
      "metadata": {
        "id": "2BlZWR0bUMzi"
      },
      "source": [
        "# 12. Entrenamiento del modelo"
      ]
    },
    {
      "cell_type": "code",
      "execution_count": 159,
      "metadata": {
        "id": "n0pFQHyNUTZR"
      },
      "outputs": [],
      "source": [
        "mi_arbol=DecisionTreeClassifier(max_depth=4,criterion='entropy',class_weight='balanced',splitter='best')"
      ]
    },
    {
      "cell_type": "markdown",
      "metadata": {
        "id": "KWMQsA6jUznS"
      },
      "source": [
        "# 13. Predecir resultados"
      ]
    },
    {
      "cell_type": "code",
      "execution_count": 160,
      "metadata": {
        "id": "iUXToAYjU5pp"
      },
      "outputs": [],
      "source": [
        "mi_arbol=mi_arbol.fit(X_test,y_test)"
      ]
    },
    {
      "cell_type": "code",
      "execution_count": 161,
      "metadata": {
        "id": "nzaCQwJsVCnR"
      },
      "outputs": [],
      "source": [
        "y_pred=mi_arbol.predict(X_test)"
      ]
    },
    {
      "cell_type": "code",
      "execution_count": 162,
      "metadata": {
        "id": "F1D2hJwHVNK1",
        "colab": {
          "base_uri": "https://localhost:8080/"
        },
        "outputId": "10f1d6a0-9007-4240-857a-812250cb8ef7"
      },
      "outputs": [
        {
          "output_type": "stream",
          "name": "stdout",
          "text": [
            "Profundidad del árbol: 4\n",
            "Número de nodos terminales: 16\n"
          ]
        }
      ],
      "source": [
        "print(f\"Profundidad del árbol: {mi_arbol.get_depth()}\")\n",
        "print(f\"Número de nodos terminales: {mi_arbol.get_n_leaves()}\")"
      ]
    },
    {
      "cell_type": "code",
      "source": [
        "texto_modelo = export_text(\n",
        "                    decision_tree = mi_arbol,\n",
        "                    feature_names = list(features.columns)\n",
        "               )\n",
        "print(texto_modelo)"
      ],
      "metadata": {
        "id": "PdVXhurZSPCf",
        "colab": {
          "base_uri": "https://localhost:8080/"
        },
        "outputId": "c8e88701-8e1d-4cc1-883c-2c013915d221"
      },
      "execution_count": 163,
      "outputs": [
        {
          "output_type": "stream",
          "name": "stdout",
          "text": [
            "|--- Humidity3pm <= 63.50\n",
            "|   |--- Sunshine <= 6.85\n",
            "|   |   |--- WindGustSpeed <= 43.50\n",
            "|   |   |   |--- MaxTemp <= 30.75\n",
            "|   |   |   |   |--- class: 0\n",
            "|   |   |   |--- MaxTemp >  30.75\n",
            "|   |   |   |   |--- class: 1\n",
            "|   |   |--- WindGustSpeed >  43.50\n",
            "|   |   |   |--- Humidity3pm <= 34.00\n",
            "|   |   |   |   |--- class: 0\n",
            "|   |   |   |--- Humidity3pm >  34.00\n",
            "|   |   |   |   |--- class: 1\n",
            "|   |--- Sunshine >  6.85\n",
            "|   |   |--- Humidity3pm <= 53.50\n",
            "|   |   |   |--- Sunshine <= 8.25\n",
            "|   |   |   |   |--- class: 0\n",
            "|   |   |   |--- Sunshine >  8.25\n",
            "|   |   |   |   |--- class: 0\n",
            "|   |   |--- Humidity3pm >  53.50\n",
            "|   |   |   |--- WindGustSpeed <= 51.00\n",
            "|   |   |   |   |--- class: 0\n",
            "|   |   |   |--- WindGustSpeed >  51.00\n",
            "|   |   |   |   |--- class: 1\n",
            "|--- Humidity3pm >  63.50\n",
            "|   |--- Humidity3pm <= 74.50\n",
            "|   |   |--- Evaporation <= 1.90\n",
            "|   |   |   |--- Evaporation <= 0.50\n",
            "|   |   |   |   |--- class: 1\n",
            "|   |   |   |--- Evaporation >  0.50\n",
            "|   |   |   |   |--- class: 0\n",
            "|   |   |--- Evaporation >  1.90\n",
            "|   |   |   |--- Sunshine <= 9.85\n",
            "|   |   |   |   |--- class: 1\n",
            "|   |   |   |--- Sunshine >  9.85\n",
            "|   |   |   |   |--- class: 0\n",
            "|   |--- Humidity3pm >  74.50\n",
            "|   |   |--- Humidity3pm <= 86.50\n",
            "|   |   |   |--- Humidity9am <= 96.50\n",
            "|   |   |   |   |--- class: 1\n",
            "|   |   |   |--- Humidity9am >  96.50\n",
            "|   |   |   |   |--- class: 0\n",
            "|   |   |--- Humidity3pm >  86.50\n",
            "|   |   |   |--- Sunshine <= 6.20\n",
            "|   |   |   |   |--- class: 1\n",
            "|   |   |   |--- Sunshine >  6.20\n",
            "|   |   |   |   |--- class: 1\n",
            "\n"
          ]
        }
      ]
    },
    {
      "cell_type": "code",
      "source": [
        "print(f\"Profundidad del árbol: {mi_arbol.get_depth()}\")\n",
        "print(f\"Número de nodos terminales: {mi_arbol.get_n_leaves()}\")"
      ],
      "metadata": {
        "colab": {
          "base_uri": "https://localhost:8080/"
        },
        "id": "ysVEz17too6e",
        "outputId": "1eb0e452-ef94-4da0-e37a-0ad1f2432e0c"
      },
      "execution_count": 186,
      "outputs": [
        {
          "output_type": "stream",
          "name": "stdout",
          "text": [
            "Profundidad del árbol: 4\n",
            "Número de nodos terminales: 16\n"
          ]
        }
      ]
    },
    {
      "cell_type": "code",
      "source": [
        "fig, ax = plt.subplots(figsize=(27, 8))\n",
        "plot = plot_tree (decision_tree = mi_arbol,feature_names = features.columns,class_names='RainTomorrow',filled = True,impurity =True,fontsize = 7,precision = 2,ax = ax)"
      ],
      "metadata": {
        "colab": {
          "base_uri": "https://localhost:8080/",
          "height": 396
        },
        "id": "0hFGgUl6osZo",
        "outputId": "96224956-ab29-4f8e-a826-8d54287b5fea"
      },
      "execution_count": 198,
      "outputs": [
        {
          "output_type": "display_data",
          "data": {
            "text/plain": [
              "<Figure size 1944x576 with 1 Axes>"
            ],
            "image/png": "[encoded data removed]"
          },
          "metadata": {
            "needs_background": "light"
          }
        }
      ]
    },
    {
      "cell_type": "code",
      "source": [],
      "metadata": {
        "id": "dH_Wz1reoxXV"
      },
      "execution_count": null,
      "outputs": []
    },
    {
      "cell_type": "markdown",
      "metadata": {
        "id": "1pBlgRSTXAmk"
      },
      "source": [
        "# 14. Comprobar score de precisión"
      ]
    },
    {
      "cell_type": "markdown",
      "metadata": {
        "id": "DshbCs4tXJ2x"
      },
      "source": [
        "\n",
        "*   Comprobar *overfiting* y *underfiting*\n",
        "*   Comparar la precisión del modelo con la precisión nula\n"
      ]
    },
    {
      "cell_type": "code",
      "execution_count": 164,
      "metadata": {
        "id": "2gAKwSenXcmp",
        "colab": {
          "base_uri": "https://localhost:8080/"
        },
        "outputId": "29ca1aff-c326-43da-bb3f-f14b784dac20"
      },
      "outputs": [
        {
          "output_type": "execute_result",
          "data": {
            "text/plain": [
              "array([[0.94205106, 0.05794894],\n",
              "       [0.64858556, 0.35141444],\n",
              "       [0.94205106, 0.05794894],\n",
              "       ...,\n",
              "       [0.94205106, 0.05794894],\n",
              "       [0.09962989, 0.90037011],\n",
              "       [0.94205106, 0.05794894]])"
            ]
          },
          "metadata": {},
          "execution_count": 164
        }
      ],
      "source": [
        "mi_arbol.predict_proba(X_test)"
      ]
    },
    {
      "cell_type": "code",
      "execution_count": 165,
      "metadata": {
        "id": "a0prwI99XfIY",
        "colab": {
          "base_uri": "https://localhost:8080/"
        },
        "outputId": "cae8ddf8-aba7-4ab1-ef46-045a3a904cbb"
      },
      "outputs": [
        {
          "output_type": "stream",
          "name": "stdout",
          "text": [
            "0    875\n",
            "1    261\n",
            "Name: RainTomorrow_Yes, dtype: int64\n"
          ]
        }
      ],
      "source": [
        "print(y_test.value_counts())"
      ]
    },
    {
      "cell_type": "markdown",
      "metadata": {
        "id": "4ZqYchMe7AYT"
      },
      "source": [
        "# 15. Matriz de confusión"
      ]
    },
    {
      "cell_type": "code",
      "execution_count": 166,
      "metadata": {
        "id": "HCaiyvvMXj_4"
      },
      "outputs": [],
      "source": [
        "from sklearn.metrics import confusion_matrix\n",
        "from sklearn.metrics import accuracy_score\n",
        "MC = confusion_matrix(\n",
        "    y_true=y_test,\n",
        "    y_pred=y_pred,\n",
        "    labels=None,\n",
        "    normalize=None,\n",
        ")"
      ]
    },
    {
      "cell_type": "code",
      "execution_count": 167,
      "metadata": {
        "id": "8kQsy11WXmyI",
        "colab": {
          "base_uri": "https://localhost:8080/",
          "height": 112
        },
        "outputId": "8fe409d2-295f-4dd6-bb2d-18f14a8fc32d"
      },
      "outputs": [
        {
          "output_type": "execute_result",
          "data": {
            "text/plain": [
              "    TP   FN\n",
              "T  211   50\n",
              "N  114  761"
            ],
            "text/html": [
              "\n",
              "  <div id=\"df-93e1aeca-4165-4c3f-b7b7-c484d56e66c8\">\n",
              "    <div class=\"colab-df-container\">\n",
              "      <div>\n",
              "<style scoped>\n",
              "    .dataframe tbody tr th:only-of-type {\n",
              "        vertical-align: middle;\n",
              "    }\n",
              "\n",
              "    .dataframe tbody tr th {\n",
              "        vertical-align: top;\n",
              "    }\n",
              "\n",
              "    .dataframe thead th {\n",
              "        text-align: right;\n",
              "    }\n",
              "</style>\n",
              "<table border=\"1\" class=\"dataframe\">\n",
              "  <thead>\n",
              "    <tr style=\"text-align: right;\">\n",
              "      <th></th>\n",
              "      <th>TP</th>\n",
              "      <th>FN</th>\n",
              "    </tr>\n",
              "  </thead>\n",
              "  <tbody>\n",
              "    <tr>\n",
              "      <th>T</th>\n",
              "      <td>211</td>\n",
              "      <td>50</td>\n",
              "    </tr>\n",
              "    <tr>\n",
              "      <th>N</th>\n",
              "      <td>114</td>\n",
              "      <td>761</td>\n",
              "    </tr>\n",
              "  </tbody>\n",
              "</table>\n",
              "</div>\n",
              "      <button class=\"colab-df-convert\" onclick=\"convertToInteractive('df-93e1aeca-4165-4c3f-b7b7-c484d56e66c8')\"\n",
              "              title=\"Convert this dataframe to an interactive table.\"\n",
              "              style=\"display:none;\">\n",
              "        \n",
              "  <svg xmlns=\"http://www.w3.org/2000/svg\" height=\"24px\"viewBox=\"0 0 24 24\"\n",
              "       width=\"24px\">\n",
              "    <path d=\"M0 0h24v24H0V0z\" fill=\"none\"/>\n",
              "    <path d=\"M18.56 5.44l.94 2.06.94-2.06 2.06-.94-2.06-.94-.94-2.06-.94 2.06-2.06.94zm-11 1L8.5 8.5l.94-2.06 2.06-.94-2.06-.94L8.5 2.5l-.94 2.06-2.06.94zm10 10l.94 2.06.94-2.06 2.06-.94-2.06-.94-.94-2.06-.94 2.06-2.06.94z\"/><path d=\"M17.41 7.96l-1.37-1.37c-.4-.4-.92-.59-1.43-.59-.52 0-1.04.2-1.43.59L10.3 9.45l-7.72 7.72c-.78.78-.78 2.05 0 2.83L4 21.41c.39.39.9.59 1.41.59.51 0 1.02-.2 1.41-.59l7.78-7.78 2.81-2.81c.8-.78.8-2.07 0-2.86zM5.41 20L4 18.59l7.72-7.72 1.47 1.35L5.41 20z\"/>\n",
              "  </svg>\n",
              "      </button>\n",
              "      \n",
              "  <style>\n",
              "    .colab-df-container {\n",
              "      display:flex;\n",
              "      flex-wrap:wrap;\n",
              "      gap: 12px;\n",
              "    }\n",
              "\n",
              "    .colab-df-convert {\n",
              "      background-color: #E8F0FE;\n",
              "      border: none;\n",
              "      border-radius: 50%;\n",
              "      cursor: pointer;\n",
              "      display: none;\n",
              "      fill: #1967D2;\n",
              "      height: 32px;\n",
              "      padding: 0 0 0 0;\n",
              "      width: 32px;\n",
              "    }\n",
              "\n",
              "    .colab-df-convert:hover {\n",
              "      background-color: #E2EBFA;\n",
              "      box-shadow: 0px 1px 2px rgba(60, 64, 67, 0.3), 0px 1px 3px 1px rgba(60, 64, 67, 0.15);\n",
              "      fill: #174EA6;\n",
              "    }\n",
              "\n",
              "    [theme=dark] .colab-df-convert {\n",
              "      background-color: #3B4455;\n",
              "      fill: #D2E3FC;\n",
              "    }\n",
              "\n",
              "    [theme=dark] .colab-df-convert:hover {\n",
              "      background-color: #434B5C;\n",
              "      box-shadow: 0px 1px 3px 1px rgba(0, 0, 0, 0.15);\n",
              "      filter: drop-shadow(0px 1px 2px rgba(0, 0, 0, 0.3));\n",
              "      fill: #FFFFFF;\n",
              "    }\n",
              "  </style>\n",
              "\n",
              "      <script>\n",
              "        const buttonEl =\n",
              "          document.querySelector('#df-93e1aeca-4165-4c3f-b7b7-c484d56e66c8 button.colab-df-convert');\n",
              "        buttonEl.style.display =\n",
              "          google.colab.kernel.accessAllowed ? 'block' : 'none';\n",
              "\n",
              "        async function convertToInteractive(key) {\n",
              "          const element = document.querySelector('#df-93e1aeca-4165-4c3f-b7b7-c484d56e66c8');\n",
              "          const dataTable =\n",
              "            await google.colab.kernel.invokeFunction('convertToInteractive',\n",
              "                                                     [key], {});\n",
              "          if (!dataTable) return;\n",
              "\n",
              "          const docLinkHtml = 'Like what you see? Visit the ' +\n",
              "            '<a target=\"_blank\" href=https://colab.research.google.com/notebooks/data_table.ipynb>data table notebook</a>'\n",
              "            + ' to learn more about interactive tables.';\n",
              "          element.innerHTML = '';\n",
              "          dataTable['output_type'] = 'display_data';\n",
              "          await google.colab.output.renderOutput(dataTable, element);\n",
              "          const docLink = document.createElement('div');\n",
              "          docLink.innerHTML = docLinkHtml;\n",
              "          element.appendChild(docLink);\n",
              "        }\n",
              "      </script>\n",
              "    </div>\n",
              "  </div>\n",
              "  "
            ]
          },
          "metadata": {},
          "execution_count": 167
        }
      ],
      "source": [
        "pd.DataFrame(\n",
        "    confusion_matrix(\n",
        "        y_true=y_test,\n",
        "        y_pred=y_pred,\n",
        "        labels=[1, 0],\n",
        "        normalize=None,\n",
        "    ),\n",
        "    columns=[\"TP\", \"FN\"],\n",
        "    index=[\"T\", \"N\"],\n",
        ")"
      ]
    },
    {
      "cell_type": "code",
      "execution_count": 168,
      "metadata": {
        "id": "8hkPvWG2XpXo",
        "colab": {
          "base_uri": "https://localhost:8080/",
          "height": 265
        },
        "outputId": "4819e1d7-e96a-499b-ec1b-5ef545349d5a"
      },
      "outputs": [
        {
          "output_type": "display_data",
          "data": {
            "text/plain": [
              "<Figure size 432x288 with 1 Axes>"
            ],
            "image/png": "[encoded data removed]"
          },
          "metadata": {
            "needs_background": "light"
          }
        }
      ],
      "source": [
        "sns.heatmap(\n",
        "    MC,\n",
        "    cbar=False,\n",
        "    cmap=\"Blues\",\n",
        "    annot=True,\n",
        "    fmt=\"d\",\n",
        ")\n",
        "plt.show()"
      ]
    },
    {
      "cell_type": "code",
      "execution_count": 169,
      "metadata": {
        "id": "LgVmJi-zXreo",
        "colab": {
          "base_uri": "https://localhost:8080/",
          "height": 894
        },
        "outputId": "01828993-9a9d-44d1-ce6d-fe8233eeeb52"
      },
      "outputs": [
        {
          "output_type": "display_data",
          "data": {
            "text/plain": [
              "<Figure size 864x864 with 2 Axes>"
            ],
            "image/png": "[encoded data removed]"
          },
          "metadata": {
            "needs_background": "light"
          }
        },
        {
          "output_type": "stream",
          "name": "stdout",
          "text": [
            "              precision    recall  f1-score   support\n",
            "\n",
            "           0       0.94      0.87      0.90       875\n",
            "           1       0.65      0.81      0.72       261\n",
            "\n",
            "    accuracy                           0.86      1136\n",
            "   macro avg       0.79      0.84      0.81      1136\n",
            "weighted avg       0.87      0.86      0.86      1136\n",
            "\n"
          ]
        }
      ],
      "source": [
        "def mostrar_resultados(y_test, pred_y):\n",
        "    conf_matrix = confusion_matrix(y_test, pred_y)\n",
        "    plt.figure(figsize=(12, 12))\n",
        "    sns.heatmap(conf_matrix, xticklabels=['Negativo','Positivo'], yticklabels=['Negativo','Positivo'], annot=True, fmt=\"d\");\n",
        "    plt.title(\"Confusion matrix\")\n",
        "    plt.ylabel('Clase real')\n",
        "    plt.xlabel('Clase predicha')\n",
        "    plt.show()\n",
        "    print (classification_report(y_test, pred_y))\n",
        " \n",
        "pred_y = mi_arbol.predict(X_test)\n",
        "mostrar_resultados(y_test, y_pred)"
      ]
    },
    {
      "cell_type": "markdown",
      "metadata": {
        "id": "nnJn0Qpo7IUr"
      },
      "source": [
        "# 16. Métricas de clasificación"
      ]
    },
    {
      "cell_type": "markdown",
      "metadata": {
        "id": "vqQOrIxx912z"
      },
      "source": [
        "\n",
        "\n",
        "*   Informe de clasificación\n",
        "\n",
        "*   Precisión\n",
        "\n",
        "*   Recall\n",
        "*   F1-score\n",
        "\n",
        "\n",
        "*   Support\n",
        "\n",
        "\n"
      ]
    },
    {
      "cell_type": "code",
      "execution_count": 170,
      "metadata": {
        "id": "HkSe1N4yXuVB",
        "colab": {
          "base_uri": "https://localhost:8080/"
        },
        "outputId": "eae0aa36-e67c-4aa2-886b-db614a3e587e"
      },
      "outputs": [
        {
          "output_type": "stream",
          "name": "stdout",
          "text": [
            "0.8556338028169014\n"
          ]
        }
      ],
      "source": [
        "accuracy=accuracy_score(y_test,y_pred)\n",
        "print(accuracy)"
      ]
    },
    {
      "cell_type": "code",
      "execution_count": 171,
      "metadata": {
        "id": "MA_u7c4_Xwxh",
        "colab": {
          "base_uri": "https://localhost:8080/",
          "height": 295
        },
        "outputId": "5040b4d3-7d59-4953-a56b-75a49d7e51c5"
      },
      "outputs": [
        {
          "output_type": "display_data",
          "data": {
            "text/plain": [
              "<Figure size 432x288 with 1 Axes>"
            ],
            "image/png": "[encoded data removed]"
          },
          "metadata": {
            "needs_background": "light"
          }
        }
      ],
      "source": [
        "fpr, tpr, thresholds = roc_curve(y_test, y_pred)\n",
        "plt.figure()\n",
        "plt.plot(fpr, tpr, color='darkorange',\n",
        "         label='ROC curve')\n",
        "plt.plot([0, 1], [0, 1], color='navy', linestyle='--')\n",
        "plt.xlim([0.0, 1.0])\n",
        "plt.ylim([0.0, 1.05])\n",
        "plt.xlabel('False Positive Rate')\n",
        "plt.ylabel('True Positive Rate')\n",
        "plt.title('ROC')\n",
        "plt.legend(loc=\"lower right\")\n",
        "plt.show()"
      ]
    },
    {
      "cell_type": "code",
      "execution_count": 172,
      "metadata": {
        "id": "IUnTY4J3X0vB",
        "colab": {
          "base_uri": "https://localhost:8080/"
        },
        "outputId": "c70cb393-a41f-4796-bf16-06f822d9d3ae"
      },
      "outputs": [
        {
          "output_type": "execute_result",
          "data": {
            "text/plain": [
              "0.839071702244116"
            ]
          },
          "metadata": {},
          "execution_count": 172
        }
      ],
      "source": [
        "roc_auc_score(y_test, y_pred)"
      ]
    },
    {
      "cell_type": "code",
      "execution_count": 173,
      "metadata": {
        "id": "kwSY-eC-X2tw",
        "colab": {
          "base_uri": "https://localhost:8080/"
        },
        "outputId": "d3b8e8fa-7192-4d31-e403-c46a8c9b9be5"
      },
      "outputs": [
        {
          "output_type": "stream",
          "name": "stdout",
          "text": [
            "El AUC, área bajo la curva ROC es:  0.839071702244116\n"
          ]
        }
      ],
      "source": [
        "print('El AUC, área bajo la curva ROC es: ',roc_auc_score(y_test, y_pred))"
      ]
    },
    {
      "cell_type": "markdown",
      "source": [
        "#Regresión logística"
      ],
      "metadata": {
        "id": "XMX2pJMom2xw"
      }
    },
    {
      "cell_type": "code",
      "source": [
        "modeloRL=LogisticRegression(C=1.0,penalty='l2',random_state=1,solver=\"newton-cg\",class_weight={1:3.5})\n",
        "modeloRL.fit(X_train,y_train)"
      ],
      "metadata": {
        "colab": {
          "base_uri": "https://localhost:8080/",
          "height": 74
        },
        "id": "Gmho7rsLm16S",
        "outputId": "c5839bfb-0014-493b-a553-7fa63b2e6110"
      },
      "execution_count": 174,
      "outputs": [
        {
          "output_type": "execute_result",
          "data": {
            "text/plain": [
              "LogisticRegression(class_weight={1: 3.5}, random_state=1, solver='newton-cg')"
            ],
            "text/html": [
              "<style>#sk-container-id-1 {color: black;background-color: white;}#sk-container-id-1 pre{padding: 0;}#sk-container-id-1 div.sk-toggleable {background-color: white;}#sk-container-id-1 label.sk-toggleable__label {cursor: pointer;display: block;width: 100%;margin-bottom: 0;padding: 0.3em;box-sizing: border-box;text-align: center;}#sk-container-id-1 label.sk-toggleable__label-arrow:before {content: \"▸\";float: left;margin-right: 0.25em;color: #696969;}#sk-container-id-1 label.sk-toggleable__label-arrow:hover:before {color: black;}#sk-container-id-1 div.sk-estimator:hover label.sk-toggleable__label-arrow:before {color: black;}#sk-container-id-1 div.sk-toggleable__content {max-height: 0;max-width: 0;overflow: hidden;text-align: left;background-color: #f0f8ff;}#sk-container-id-1 div.sk-toggleable__content pre {margin: 0.2em;color: black;border-radius: 0.25em;background-color: #f0f8ff;}#sk-container-id-1 input.sk-toggleable__control:checked~div.sk-toggleable__content {max-height: 200px;max-width: 100%;overflow: auto;}#sk-container-id-1 input.sk-toggleable__control:checked~label.sk-toggleable__label-arrow:before {content: \"▾\";}#sk-container-id-1 div.sk-estimator input.sk-toggleable__control:checked~label.sk-toggleable__label {background-color: #d4ebff;}#sk-container-id-1 div.sk-label input.sk-toggleable__control:checked~label.sk-toggleable__label {background-color: #d4ebff;}#sk-container-id-1 input.sk-hidden--visually {border: 0;clip: rect(1px 1px 1px 1px);clip: rect(1px, 1px, 1px, 1px);height: 1px;margin: -1px;overflow: hidden;padding: 0;position: absolute;width: 1px;}#sk-container-id-1 div.sk-estimator {font-family: monospace;background-color: #f0f8ff;border: 1px dotted black;border-radius: 0.25em;box-sizing: border-box;margin-bottom: 0.5em;}#sk-container-id-1 div.sk-estimator:hover {background-color: #d4ebff;}#sk-container-id-1 div.sk-parallel-item::after {content: \"\";width: 100%;border-bottom: 1px solid gray;flex-grow: 1;}#sk-container-id-1 div.sk-label:hover label.sk-toggleable__label {background-color: #d4ebff;}#sk-container-id-1 div.sk-serial::before {content: \"\";position: absolute;border-left: 1px solid gray;box-sizing: border-box;top: 0;bottom: 0;left: 50%;z-index: 0;}#sk-container-id-1 div.sk-serial {display: flex;flex-direction: column;align-items: center;background-color: white;padding-right: 0.2em;padding-left: 0.2em;position: relative;}#sk-container-id-1 div.sk-item {position: relative;z-index: 1;}#sk-container-id-1 div.sk-parallel {display: flex;align-items: stretch;justify-content: center;background-color: white;position: relative;}#sk-container-id-1 div.sk-item::before, #sk-container-id-1 div.sk-parallel-item::before {content: \"\";position: absolute;border-left: 1px solid gray;box-sizing: border-box;top: 0;bottom: 0;left: 50%;z-index: -1;}#sk-container-id-1 div.sk-parallel-item {display: flex;flex-direction: column;z-index: 1;position: relative;background-color: white;}#sk-container-id-1 div.sk-parallel-item:first-child::after {align-self: flex-end;width: 50%;}#sk-container-id-1 div.sk-parallel-item:last-child::after {align-self: flex-start;width: 50%;}#sk-container-id-1 div.sk-parallel-item:only-child::after {width: 0;}#sk-container-id-1 div.sk-dashed-wrapped {border: 1px dashed gray;margin: 0 0.4em 0.5em 0.4em;box-sizing: border-box;padding-bottom: 0.4em;background-color: white;}#sk-container-id-1 div.sk-label label {font-family: monospace;font-weight: bold;display: inline-block;line-height: 1.2em;}#sk-container-id-1 div.sk-label-container {text-align: center;}#sk-container-id-1 div.sk-container {/* jupyter's `normalize.less` sets `[hidden] { display: none; }` but bootstrap.min.css set `[hidden] { display: none !important; }` so we also need the `!important` here to be able to override the default hidden behavior on the sphinx rendered scikit-learn.org. See: https://github.com/scikit-learn/scikit-learn/issues/21755 */display: inline-block !important;position: relative;}#sk-container-id-1 div.sk-text-repr-fallback {display: none;}</style><div id=\"sk-container-id-1\" class=\"sk-top-container\"><div class=\"sk-text-repr-fallback\"><pre>LogisticRegression(class_weight={1: 3.5}, random_state=1, solver=&#x27;newton-cg&#x27;)</pre><b>In a Jupyter environment, please rerun this cell to show the HTML representation or trust the notebook. <br />On GitHub, the HTML representation is unable to render, please try loading this page with nbviewer.org.</b></div><div class=\"sk-container\" hidden><div class=\"sk-item\"><div class=\"sk-estimator sk-toggleable\"><input class=\"sk-toggleable__control sk-hidden--visually\" id=\"sk-estimator-id-1\" type=\"checkbox\" checked><label for=\"sk-estimator-id-1\" class=\"sk-toggleable__label sk-toggleable__label-arrow\">LogisticRegression</label><div class=\"sk-toggleable__content\"><pre>LogisticRegression(class_weight={1: 3.5}, random_state=1, solver=&#x27;newton-cg&#x27;)</pre></div></div></div></div></div>"
            ]
          },
          "metadata": {},
          "execution_count": 174
        }
      ]
    },
    {
      "cell_type": "code",
      "source": [
        "y_pred=modeloRL.predict(X_test)"
      ],
      "metadata": {
        "id": "HI_wfbLfm9OU"
      },
      "execution_count": 175,
      "outputs": []
    },
    {
      "cell_type": "code",
      "source": [
        "modeloRL.predict_proba(X_test)"
      ],
      "metadata": {
        "colab": {
          "base_uri": "https://localhost:8080/"
        },
        "id": "_g1-dx8Gm-mn",
        "outputId": "3e1d07ae-db97-4fcb-e65c-ffcbb967d048"
      },
      "execution_count": 176,
      "outputs": [
        {
          "output_type": "execute_result",
          "data": {
            "text/plain": [
              "array([[0.66801194, 0.33198806],\n",
              "       [0.60857861, 0.39142139],\n",
              "       [0.34976839, 0.65023161],\n",
              "       ...,\n",
              "       [0.27813176, 0.72186824],\n",
              "       [0.2599911 , 0.7400089 ],\n",
              "       [0.85685128, 0.14314872]])"
            ]
          },
          "metadata": {},
          "execution_count": 176
        }
      ]
    },
    {
      "cell_type": "code",
      "source": [
        "print(y_test.value_counts())"
      ],
      "metadata": {
        "colab": {
          "base_uri": "https://localhost:8080/"
        },
        "id": "nAE2gs0tnCTE",
        "outputId": "b7b28090-2f5a-44e6-dffc-da309af5d78c"
      },
      "execution_count": 179,
      "outputs": [
        {
          "output_type": "stream",
          "name": "stdout",
          "text": [
            "0    875\n",
            "1    261\n",
            "Name: RainTomorrow_Yes, dtype: int64\n"
          ]
        }
      ]
    },
    {
      "cell_type": "code",
      "source": [
        "MC = confusion_matrix(\n",
        "    y_true=y_test,\n",
        "    y_pred=y_pred,\n",
        "    labels=None,\n",
        "    normalize=None,\n",
        ")"
      ],
      "metadata": {
        "id": "cUj49693nCKR"
      },
      "execution_count": 180,
      "outputs": []
    },
    {
      "cell_type": "code",
      "source": [
        "pd.DataFrame(\n",
        "    confusion_matrix(\n",
        "        y_true=y_test,\n",
        "        y_pred=y_pred,\n",
        "        labels=[1, 0],\n",
        "        normalize=None,\n",
        "    ),\n",
        "    columns=[\"PP\", \"PF\"],\n",
        "    index=[\"P\", \"F\"],\n",
        ")"
      ],
      "metadata": {
        "colab": {
          "base_uri": "https://localhost:8080/",
          "height": 112
        },
        "id": "i9yQ6O-_nCH8",
        "outputId": "46bf7caa-45d2-473c-faee-2a30dbac6261"
      },
      "execution_count": 181,
      "outputs": [
        {
          "output_type": "execute_result",
          "data": {
            "text/plain": [
              "    PP   PF\n",
              "P  210   51\n",
              "F  182  693"
            ],
            "text/html": [
              "\n",
              "  <div id=\"df-4381e7cb-8f2b-4cf3-b1a3-ea5bfa0c794b\">\n",
              "    <div class=\"colab-df-container\">\n",
              "      <div>\n",
              "<style scoped>\n",
              "    .dataframe tbody tr th:only-of-type {\n",
              "        vertical-align: middle;\n",
              "    }\n",
              "\n",
              "    .dataframe tbody tr th {\n",
              "        vertical-align: top;\n",
              "    }\n",
              "\n",
              "    .dataframe thead th {\n",
              "        text-align: right;\n",
              "    }\n",
              "</style>\n",
              "<table border=\"1\" class=\"dataframe\">\n",
              "  <thead>\n",
              "    <tr style=\"text-align: right;\">\n",
              "      <th></th>\n",
              "      <th>PP</th>\n",
              "      <th>PF</th>\n",
              "    </tr>\n",
              "  </thead>\n",
              "  <tbody>\n",
              "    <tr>\n",
              "      <th>P</th>\n",
              "      <td>210</td>\n",
              "      <td>51</td>\n",
              "    </tr>\n",
              "    <tr>\n",
              "      <th>F</th>\n",
              "      <td>182</td>\n",
              "      <td>693</td>\n",
              "    </tr>\n",
              "  </tbody>\n",
              "</table>\n",
              "</div>\n",
              "      <button class=\"colab-df-convert\" onclick=\"convertToInteractive('df-4381e7cb-8f2b-4cf3-b1a3-ea5bfa0c794b')\"\n",
              "              title=\"Convert this dataframe to an interactive table.\"\n",
              "              style=\"display:none;\">\n",
              "        \n",
              "  <svg xmlns=\"http://www.w3.org/2000/svg\" height=\"24px\"viewBox=\"0 0 24 24\"\n",
              "       width=\"24px\">\n",
              "    <path d=\"M0 0h24v24H0V0z\" fill=\"none\"/>\n",
              "    <path d=\"M18.56 5.44l.94 2.06.94-2.06 2.06-.94-2.06-.94-.94-2.06-.94 2.06-2.06.94zm-11 1L8.5 8.5l.94-2.06 2.06-.94-2.06-.94L8.5 2.5l-.94 2.06-2.06.94zm10 10l.94 2.06.94-2.06 2.06-.94-2.06-.94-.94-2.06-.94 2.06-2.06.94z\"/><path d=\"M17.41 7.96l-1.37-1.37c-.4-.4-.92-.59-1.43-.59-.52 0-1.04.2-1.43.59L10.3 9.45l-7.72 7.72c-.78.78-.78 2.05 0 2.83L4 21.41c.39.39.9.59 1.41.59.51 0 1.02-.2 1.41-.59l7.78-7.78 2.81-2.81c.8-.78.8-2.07 0-2.86zM5.41 20L4 18.59l7.72-7.72 1.47 1.35L5.41 20z\"/>\n",
              "  </svg>\n",
              "      </button>\n",
              "      \n",
              "  <style>\n",
              "    .colab-df-container {\n",
              "      display:flex;\n",
              "      flex-wrap:wrap;\n",
              "      gap: 12px;\n",
              "    }\n",
              "\n",
              "    .colab-df-convert {\n",
              "      background-color: #E8F0FE;\n",
              "      border: none;\n",
              "      border-radius: 50%;\n",
              "      cursor: pointer;\n",
              "      display: none;\n",
              "      fill: #1967D2;\n",
              "      height: 32px;\n",
              "      padding: 0 0 0 0;\n",
              "      width: 32px;\n",
              "    }\n",
              "\n",
              "    .colab-df-convert:hover {\n",
              "      background-color: #E2EBFA;\n",
              "      box-shadow: 0px 1px 2px rgba(60, 64, 67, 0.3), 0px 1px 3px 1px rgba(60, 64, 67, 0.15);\n",
              "      fill: #174EA6;\n",
              "    }\n",
              "\n",
              "    [theme=dark] .colab-df-convert {\n",
              "      background-color: #3B4455;\n",
              "      fill: #D2E3FC;\n",
              "    }\n",
              "\n",
              "    [theme=dark] .colab-df-convert:hover {\n",
              "      background-color: #434B5C;\n",
              "      box-shadow: 0px 1px 3px 1px rgba(0, 0, 0, 0.15);\n",
              "      filter: drop-shadow(0px 1px 2px rgba(0, 0, 0, 0.3));\n",
              "      fill: #FFFFFF;\n",
              "    }\n",
              "  </style>\n",
              "\n",
              "      <script>\n",
              "        const buttonEl =\n",
              "          document.querySelector('#df-4381e7cb-8f2b-4cf3-b1a3-ea5bfa0c794b button.colab-df-convert');\n",
              "        buttonEl.style.display =\n",
              "          google.colab.kernel.accessAllowed ? 'block' : 'none';\n",
              "\n",
              "        async function convertToInteractive(key) {\n",
              "          const element = document.querySelector('#df-4381e7cb-8f2b-4cf3-b1a3-ea5bfa0c794b');\n",
              "          const dataTable =\n",
              "            await google.colab.kernel.invokeFunction('convertToInteractive',\n",
              "                                                     [key], {});\n",
              "          if (!dataTable) return;\n",
              "\n",
              "          const docLinkHtml = 'Like what you see? Visit the ' +\n",
              "            '<a target=\"_blank\" href=https://colab.research.google.com/notebooks/data_table.ipynb>data table notebook</a>'\n",
              "            + ' to learn more about interactive tables.';\n",
              "          element.innerHTML = '';\n",
              "          dataTable['output_type'] = 'display_data';\n",
              "          await google.colab.output.renderOutput(dataTable, element);\n",
              "          const docLink = document.createElement('div');\n",
              "          docLink.innerHTML = docLinkHtml;\n",
              "          element.appendChild(docLink);\n",
              "        }\n",
              "      </script>\n",
              "    </div>\n",
              "  </div>\n",
              "  "
            ]
          },
          "metadata": {},
          "execution_count": 181
        }
      ]
    },
    {
      "cell_type": "code",
      "source": [
        "sns.heatmap(\n",
        "    MC,\n",
        "    cbar=False,\n",
        "    cmap=\"Blues\",\n",
        "    annot=True,\n",
        "    fmt=\"d\",\n",
        ")\n",
        "plt.show()"
      ],
      "metadata": {
        "colab": {
          "base_uri": "https://localhost:8080/",
          "height": 265
        },
        "id": "eRU93hVxnKRT",
        "outputId": "9853b74e-f8a0-4f63-9a9a-b81bcf7723c4"
      },
      "execution_count": 182,
      "outputs": [
        {
          "output_type": "display_data",
          "data": {
            "text/plain": [
              "<Figure size 432x288 with 1 Axes>"
            ],
            "image/png": "[encoded data removed]"
          },
          "metadata": {
            "needs_background": "light"
          }
        }
      ]
    },
    {
      "cell_type": "code",
      "source": [
        "accuracy=accuracy_score(y_test,y_pred)\n",
        "print(accuracy)"
      ],
      "metadata": {
        "colab": {
          "base_uri": "https://localhost:8080/"
        },
        "id": "rGiUF_5DnNu5",
        "outputId": "112f0387-2e83-4eec-97e5-8ac01777c065"
      },
      "execution_count": 183,
      "outputs": [
        {
          "output_type": "stream",
          "name": "stdout",
          "text": [
            "0.7948943661971831\n"
          ]
        }
      ]
    },
    {
      "cell_type": "code",
      "source": [
        "def mostrar_resultados(y_test, pred_y):\n",
        "    conf_matrix = confusion_matrix(y_test, pred_y)\n",
        "    plt.figure(figsize=(12, 12))\n",
        "    sns.heatmap(conf_matrix, xticklabels=['Negativo','Positivo'], yticklabels=['Negativo','Positivo'], annot=True, fmt=\"d\");\n",
        "    plt.title(\"Confusion matrix\")\n",
        "    plt.ylabel('Clase real')\n",
        "    plt.xlabel('Clase predicha')\n",
        "    plt.show()\n",
        "    print (classification_report(y_test, pred_y))\n",
        " \n",
        "pred_y = modeloRL.predict(X_test)\n",
        "mostrar_resultados(y_test, y_pred)"
      ],
      "metadata": {
        "colab": {
          "base_uri": "https://localhost:8080/",
          "height": 894
        },
        "id": "11n7sxNJnNsg",
        "outputId": "59aee6b6-e13d-4e8d-fabd-6fa335d3f993"
      },
      "execution_count": 184,
      "outputs": [
        {
          "output_type": "display_data",
          "data": {
            "text/plain": [
              "<Figure size 864x864 with 2 Axes>"
            ],
            "image/png": "[encoded data removed]"
          },
          "metadata": {
            "needs_background": "light"
          }
        },
        {
          "output_type": "stream",
          "name": "stdout",
          "text": [
            "              precision    recall  f1-score   support\n",
            "\n",
            "           0       0.93      0.79      0.86       875\n",
            "           1       0.54      0.80      0.64       261\n",
            "\n",
            "    accuracy                           0.79      1136\n",
            "   macro avg       0.73      0.80      0.75      1136\n",
            "weighted avg       0.84      0.79      0.81      1136\n",
            "\n"
          ]
        }
      ]
    },
    {
      "cell_type": "code",
      "source": [
        "fpr, tpr, thresholds = roc_curve(y_test, y_pred)\n",
        "plt.figure()\n",
        "plt.plot(fpr, tpr, color='darkorange',\n",
        "         label='ROC curve')\n",
        "plt.plot([0, 1], [0, 1], color='navy', linestyle='--')\n",
        "plt.xlim([0.0, 1.0])\n",
        "plt.ylim([0.0, 1.05])\n",
        "plt.xlabel('False Positive Rate')\n",
        "plt.ylabel('True Positive Rate')\n",
        "plt.title('ROC')\n",
        "plt.legend(loc=\"lower right\")\n",
        "plt.show()"
      ],
      "metadata": {
        "colab": {
          "base_uri": "https://localhost:8080/",
          "height": 295
        },
        "id": "f7dJw5hWnNqy",
        "outputId": "805c7fbf-bda6-4ca8-caaa-39a6c49866f7"
      },
      "execution_count": 185,
      "outputs": [
        {
          "output_type": "display_data",
          "data": {
            "text/plain": [
              "<Figure size 432x288 with 1 Axes>"
            ],
            "image/png": "[encoded data removed]"
          },
          "metadata": {
            "needs_background": "light"
          }
        }
      ]
    },
    {
      "cell_type": "code",
      "source": [
        "roc_auc_score(y_test, y_pred)"
      ],
      "metadata": {
        "colab": {
          "base_uri": "https://localhost:8080/"
        },
        "id": "LJy9KrdHnNoG",
        "outputId": "ba6fcf1e-715c-4160-b57c-181559b4f2b1"
      },
      "execution_count": 178,
      "outputs": [
        {
          "output_type": "execute_result",
          "data": {
            "text/plain": [
              "0.7982988505747126"
            ]
          },
          "metadata": {},
          "execution_count": 178
        }
      ]
    },
    {
      "cell_type": "code",
      "source": [
        "print('El AUC,  area bajo la curva ROC es: ',roc_auc_score(y_test, y_pred))"
      ],
      "metadata": {
        "colab": {
          "base_uri": "https://localhost:8080/"
        },
        "id": "dj0LdcKenZ0u",
        "outputId": "373cda54-233f-478a-b399-c294d09bea8d"
      },
      "execution_count": 177,
      "outputs": [
        {
          "output_type": "stream",
          "name": "stdout",
          "text": [
            "El AUC,  area bajo la curva ROC es:  0.7982988505747126\n"
          ]
        }
      ]
    },
    {
      "cell_type": "markdown",
      "source": [],
      "metadata": {
        "id": "1evIK7w6oili"
      }
    },
    {
      "cell_type": "markdown",
      "metadata": {
        "id": "7mMRSnMd7OZk"
      },
      "source": [
        "# 17. Resultados y conclusión"
      ]
    },
    {
      "cell_type": "markdown",
      "source": [
        "Observando los resultados, podemos ver que son bastante buenos, ya que, estas métricas se evalúan sobre 1, por lo que, cuanto más cerca estén los resultados de 1, mejor será nuestro modelo. En este data, podemos ver que nuestras métricas de evaluación están entre el 0,7/0,8. Podemos observar también que tenemos un número muy bajo de FP,entoces, yo creo que este modelo es fiable. :"
      ],
      "metadata": {
        "id": "FgtNOl20Spi7"
      }
    }
  ],
  "metadata": {
    "colab": {
      "provenance": [],
      "mount_file_id": "1w5mwj0VBBIlIC_NYueQE22CU8Qsq8urY",
      "authorship_tag": "ABX9TyMYG9+3ZGA8zzgq0qJy+VBX",
      "include_colab_link": true
    },
    "kernelspec": {
      "display_name": "Python 3",
      "name": "python3"
    },
    "language_info": {
      "name": "python"
    }
  },
  "nbformat": 4,
  "nbformat_minor": 0
}